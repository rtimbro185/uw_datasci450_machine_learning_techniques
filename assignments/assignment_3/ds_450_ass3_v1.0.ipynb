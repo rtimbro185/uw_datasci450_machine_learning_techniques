{
 "cells": [
  {
   "cell_type": "markdown",
   "metadata": {
    "collapsed": true
   },
   "source": [
    "# Ryan Timbrook\n",
    "## Data Science 450, Spring 2017\n",
    "## Date: 05/10/2017\n",
    "## Assignment 3\n",
    "\n",
    "\n",
    "# Use K-means clustering algorithm to cluster user sessions of an online shopping site into segments.\n",
    "\n",
    "Try different clustering runs with various numbers of clusters (e.g., between 4 and 8), and select the result set(s) that seem to best answer as many of the following questions as possible\n",
    "\n",
    "## Question 1:\n",
    "If a new user is observed to access the following pages: Home => Search => Prod_B\n",
    "### Q1.a: According to your clusters, what other product should be recommended to this user?\n",
    "### Q1.b: What if the new user has accessed the following sequence instead: Products => Prod_C?\n",
    "\n",
    "\n",
    "## Question 2: \n",
    "### Can clustering help us identify:\n",
    "*\tcasual browsers (\"window shoppers\")\n",
    "*\tfocused browsers (those who seem to know what products they are looking for)\n",
    "*\tsearchers (those using the search function to ﬁnd items they want)? \n",
    "### If so, are any of these groups show a higher or lower propensity to make a purchase?\n"
   ]
  },
  {
   "cell_type": "code",
   "execution_count": 1,
   "metadata": {
    "collapsed": false
   },
   "outputs": [
    {
     "name": "stdout",
     "output_type": "stream",
     "text": [
      "\f"
     ]
    }
   ],
   "source": [
    "# Clear objects from Memory\n",
    "rm(list=ls())\n",
    "# Clear Console:\n",
    "cat(\"\\014\")\n",
    "\n",
    "# Read Data Source\n",
    "read.data = function(file=file){\n",
    "  read.csv(file,header = TRUE,stringsAsFactors = FALSE)\n",
    "}\n",
    "sessions.df = read.data('Sessions.csv')"
   ]
  },
  {
   "cell_type": "code",
   "execution_count": 2,
   "metadata": {
    "collapsed": false
   },
   "outputs": [
    {
     "name": "stderr",
     "output_type": "stream",
     "text": [
      "Loading required package: factoextra\n",
      "Loading required package: ggplot2\n"
     ]
    },
    {
     "data": {
      "text/html": [
       "<ol class=list-inline>\n",
       "\t<li>'Home'</li>\n",
       "\t<li>'Products'</li>\n",
       "\t<li>'Search'</li>\n",
       "\t<li>'Prod_A'</li>\n",
       "\t<li>'Prod_B'</li>\n",
       "\t<li>'Prod_C'</li>\n",
       "\t<li>'Cart'</li>\n",
       "\t<li>'Purchase'</li>\n",
       "</ol>\n"
      ],
      "text/latex": [
       "\\begin{enumerate*}\n",
       "\\item 'Home'\n",
       "\\item 'Products'\n",
       "\\item 'Search'\n",
       "\\item 'Prod\\_A'\n",
       "\\item 'Prod\\_B'\n",
       "\\item 'Prod\\_C'\n",
       "\\item 'Cart'\n",
       "\\item 'Purchase'\n",
       "\\end{enumerate*}\n"
      ],
      "text/markdown": [
       "1. 'Home'\n",
       "2. 'Products'\n",
       "3. 'Search'\n",
       "4. 'Prod_A'\n",
       "5. 'Prod_B'\n",
       "6. 'Prod_C'\n",
       "7. 'Cart'\n",
       "8. 'Purchase'\n",
       "\n",
       "\n"
      ],
      "text/plain": [
       "[1] \"Home\"     \"Products\" \"Search\"   \"Prod_A\"   \"Prod_B\"   \"Prod_C\"   \"Cart\"    \n",
       "[8] \"Purchase\""
      ]
     },
     "metadata": {},
     "output_type": "display_data"
    },
    {
     "data": {
      "text/html": [
       "100"
      ],
      "text/latex": [
       "100"
      ],
      "text/markdown": [
       "100"
      ],
      "text/plain": [
       "[1] 100"
      ]
     },
     "metadata": {},
     "output_type": "display_data"
    },
    {
     "name": "stdout",
     "output_type": "stream",
     "text": [
      "'data.frame':\t100 obs. of  8 variables:\n",
      " $ Home    : int  1 1 1 1 1 1 1 1 1 1 ...\n",
      " $ Products: int  0 1 0 1 0 1 0 0 1 0 ...\n",
      " $ Search  : int  0 1 0 1 1 1 1 1 1 1 ...\n",
      " $ Prod_A  : int  0 0 0 1 1 0 0 0 0 1 ...\n",
      " $ Prod_B  : int  0 0 0 0 1 1 0 1 1 1 ...\n",
      " $ Prod_C  : int  0 0 0 0 0 0 0 0 0 1 ...\n",
      " $ Cart    : int  0 1 0 1 1 0 1 0 1 1 ...\n",
      " $ Purchase: int  0 0 0 1 1 0 1 0 0 1 ...\n"
     ]
    },
    {
     "data": {
      "text/html": [
       "<table>\n",
       "<thead><tr><th scope=col>Home</th><th scope=col>Products</th><th scope=col>Search</th><th scope=col>Prod_A</th><th scope=col>Prod_B</th><th scope=col>Prod_C</th><th scope=col>Cart</th><th scope=col>Purchase</th></tr></thead>\n",
       "<tbody>\n",
       "\t<tr><td>1</td><td>0</td><td>0</td><td>0</td><td>0</td><td>0</td><td>0</td><td>0</td></tr>\n",
       "\t<tr><td>1</td><td>1</td><td>1</td><td>0</td><td>0</td><td>0</td><td>1</td><td>0</td></tr>\n",
       "\t<tr><td>1</td><td>0</td><td>0</td><td>0</td><td>0</td><td>0</td><td>0</td><td>0</td></tr>\n",
       "\t<tr><td>1</td><td>1</td><td>1</td><td>1</td><td>0</td><td>0</td><td>1</td><td>1</td></tr>\n",
       "\t<tr><td>1</td><td>0</td><td>1</td><td>1</td><td>1</td><td>0</td><td>1</td><td>1</td></tr>\n",
       "\t<tr><td>1</td><td>1</td><td>1</td><td>0</td><td>1</td><td>0</td><td>0</td><td>0</td></tr>\n",
       "</tbody>\n",
       "</table>\n"
      ],
      "text/latex": [
       "\\begin{tabular}{r|llllllll}\n",
       " Home & Products & Search & Prod\\_A & Prod\\_B & Prod\\_C & Cart & Purchase\\\\\n",
       "\\hline\n",
       "\t 1 & 0 & 0 & 0 & 0 & 0 & 0 & 0\\\\\n",
       "\t 1 & 1 & 1 & 0 & 0 & 0 & 1 & 0\\\\\n",
       "\t 1 & 0 & 0 & 0 & 0 & 0 & 0 & 0\\\\\n",
       "\t 1 & 1 & 1 & 1 & 0 & 0 & 1 & 1\\\\\n",
       "\t 1 & 0 & 1 & 1 & 1 & 0 & 1 & 1\\\\\n",
       "\t 1 & 1 & 1 & 0 & 1 & 0 & 0 & 0\\\\\n",
       "\\end{tabular}\n"
      ],
      "text/plain": [
       "  Home Products Search Prod_A Prod_B Prod_C Cart Purchase\n",
       "1 1    0        0      0      0      0      0    0       \n",
       "2 1    1        1      0      0      0      1    0       \n",
       "3 1    0        0      0      0      0      0    0       \n",
       "4 1    1        1      1      0      0      1    1       \n",
       "5 1    0        1      1      1      0      1    1       \n",
       "6 1    1        1      0      1      0      0    0       "
      ]
     },
     "metadata": {},
     "output_type": "display_data"
    }
   ],
   "source": [
    "if(!require(factoextra)){install.packages(\"factoextra\")}\n",
    "names(sessions.df)\n",
    "nrow(sessions.df)\n",
    "str(sessions.df)\n",
    "\n",
    "head(sessions.df)"
   ]
  },
  {
   "cell_type": "markdown",
   "metadata": {},
   "source": [
    "# K-means Partitioning\n",
    "A plot of the within groups sum of squares by number of clusters extracted can help determine the appropriate number of clusters\n",
    "\n",
    "Credits: http://www.statmethods.net/advstats/cluster.html"
   ]
  },
  {
   "cell_type": "code",
   "execution_count": 3,
   "metadata": {
    "collapsed": false
   },
   "outputs": [
    {
     "data": {
      "image/png": "[encoded data removed]",
      "text/plain": [
       "plot without title"
      ]
     },
     "metadata": {},
     "output_type": "display_data"
    }
   ],
   "source": [
    "#Determine number of clusters\n",
    "wss = (nrow(sessions.df)-1)*sum(apply(sessions.df,2,var))\n",
    "\n",
    "for(i in 2:15) wss[i] = sum(kmeans(sessions.df,centers=i)$withinss)\n",
    "plot(1:15,wss,type='b',xlab=\"Number of Clusters\", ylab=\"Within groups sum of squares\")"
   ]
  },
  {
   "cell_type": "markdown",
   "metadata": {},
   "source": [
    "# K-means Cluster Analysis\n",
    "The nstart argument teslls kmeans to try that many random starts and keep the best.\n",
    "With 20 or 25 random starts, you'll generally find the overall best solution.\n",
    "Credit: R12.KMC"
   ]
  },
  {
   "cell_type": "code",
   "execution_count": 4,
   "metadata": {
    "collapsed": false
   },
   "outputs": [
    {
     "data": {
      "text/plain": [
       "K-means clustering with 4 clusters of sizes 22, 29, 25, 24\n",
       "\n",
       "Cluster means:\n",
       "       Home  Products    Search     Prod_A    Prod_B    Prod_C      Cart\n",
       "1 0.8636364 0.5454545 1.0000000 0.63636364 0.2272727 0.5000000 1.0000000\n",
       "2 0.0000000 1.0000000 0.3103448 0.03448276 1.0000000 0.6551724 0.4827586\n",
       "3 0.7600000 0.7600000 0.0000000 0.92000000 0.4400000 0.2800000 1.0000000\n",
       "4 0.9166667 0.5000000 0.5000000 0.62500000 0.4166667 0.3333333 0.0000000\n",
       "   Purchase\n",
       "1 0.6363636\n",
       "2 0.3103448\n",
       "3 0.6400000\n",
       "4 0.0000000\n",
       "\n",
       "Clustering vector:\n",
       "  [1] 4 1 4 1 1 4 1 4 1 1 1 4 1 1 4 1 1 1 4 4 1 1 3 4 3 4 3 3 4 3 3 4 3 4 3 4 3\n",
       " [38] 2 2 2 2 2 2 2 2 2 2 1 4 1 1 1 3 4 2 3 4 4 3 3 1 4 3 1 3 4 4 3 4 3 1 3 3 4\n",
       " [75] 3 3 3 1 3 4 3 3 2 2 2 2 2 2 2 2 2 2 2 2 2 2 2 2 2 2\n",
       "\n",
       "Within cluster sum of squares by cluster:\n",
       "[1] 27.59091 27.17241 27.92000 30.62500\n",
       " (between_SS / total_SS =  40.6 %)\n",
       "\n",
       "Available components:\n",
       "\n",
       "[1] \"cluster\"      \"centers\"      \"totss\"        \"withinss\"     \"tot.withinss\"\n",
       "[6] \"betweenss\"    \"size\"         \"iter\"         \"ifault\"      "
      ]
     },
     "metadata": {},
     "output_type": "display_data"
    }
   ],
   "source": [
    "sessions.4m1 = kmeans(sessions.df,4,nstart=25) # 4 clusters\n",
    "sessions.4m2 = kmeans(sessions.df,4,nstart=25)\n",
    "sessions.4m1\n",
    "\n"
   ]
  },
  {
   "cell_type": "code",
   "execution_count": 6,
   "metadata": {
    "collapsed": false
   },
   "outputs": [],
   "source": [
    "#plot(sessions.df,pch=sessions.4m1$cluster, col=sessions.4m1$cluster)\n",
    "#points(sessions.df,pch=sessions.4m2$cluster+3, col=sessions.4m2$cluster)"
   ]
  },
  {
   "cell_type": "code",
   "execution_count": 7,
   "metadata": {
    "collapsed": true
   },
   "outputs": [],
   "source": [
    "\n",
    "#get cluster means\n",
    "#aggregate(sessions.4m1,by=list(sessions.4m1$cluster),FUN=mean)\n",
    "#append cluster assignment\n",
    "#sessions.4m1 = data.frame(sessions.4m1,sessions.4m1$cluster)\n",
    "#head(sessions.df)"
   ]
  },
  {
   "cell_type": "markdown",
   "metadata": {},
   "source": [
    "# Plot Cluster"
   ]
  },
  {
   "cell_type": "code",
   "execution_count": 8,
   "metadata": {
    "collapsed": false
   },
   "outputs": [
    {
     "name": "stderr",
     "output_type": "stream",
     "text": [
      "Loading required package: cluster\n"
     ]
    },
    {
     "data": {
      "image/png": "[encoded data removed]",
      "text/plain": [
       "Plot with title \"CLUSPLOT( sessions.df )\""
      ]
     },
     "metadata": {},
     "output_type": "display_data"
    }
   ],
   "source": [
    "if(!require(cluster)){install.packages(\"cluster\")}\n",
    "#plot cluster\n",
    "clusplot(sessions.df,sessions.4m1$cluster,color=TRUE,shade=TRUE,labels=2,lines=0)\n"
   ]
  },
  {
   "cell_type": "code",
   "execution_count": 51,
   "metadata": {
    "collapsed": false
   },
   "outputs": [
    {
     "data": {
      "text/html": [
       "<table>\n",
       "<thead><tr><th scope=col>x</th><th scope=col>y</th></tr></thead>\n",
       "<tbody>\n",
       "\t<tr><td> 2.1415443</td><td> 0.3521806</td></tr>\n",
       "\t<tr><td> 0.3010342</td><td> 0.6685520</td></tr>\n",
       "\t<tr><td> 2.6218040</td><td>-0.8024843</td></tr>\n",
       "\t<tr><td> 1.3213860</td><td> 1.2390889</td></tr>\n",
       "\t<tr><td>-0.9119730</td><td>-0.0835273</td></tr>\n",
       "\t<tr><td> 1.9843365</td><td> 1.4847659</td></tr>\n",
       "</tbody>\n",
       "</table>\n"
      ],
      "text/latex": [
       "\\begin{tabular}{r|ll}\n",
       " x & y\\\\\n",
       "\\hline\n",
       "\t  2.1415443 &  0.3521806\\\\\n",
       "\t  0.3010342 &  0.6685520\\\\\n",
       "\t  2.6218040 & -0.8024843\\\\\n",
       "\t  1.3213860 &  1.2390889\\\\\n",
       "\t -0.9119730 & -0.0835273\\\\\n",
       "\t  1.9843365 &  1.4847659\\\\\n",
       "\\end{tabular}\n"
      ],
      "text/plain": [
       "  x          y         \n",
       "1  2.1415443  0.3521806\n",
       "2  0.3010342  0.6685520\n",
       "3  2.6218040 -0.8024843\n",
       "4  1.3213860  1.2390889\n",
       "5 -0.9119730 -0.0835273\n",
       "6  1.9843365  1.4847659"
      ]
     },
     "metadata": {},
     "output_type": "display_data"
    },
    {
     "data": {
      "text/html": [
       "198"
      ],
      "text/latex": [
       "198"
      ],
      "text/markdown": [
       "198"
      ],
      "text/plain": [
       "[1] 198"
      ]
     },
     "metadata": {},
     "output_type": "display_data"
    },
    {
     "data": {
      "image/png": "[encoded data removed]",
      "text/plain": [
       "plot without title"
      ]
     },
     "metadata": {},
     "output_type": "display_data"
    }
   ],
   "source": [
    "#Finding K\n",
    "n = 200\n",
    "g = 6\n",
    "set.seed(g)\n",
    "k.find.df = data.frame(x = unlist(lapply(1:g, function(i) rnorm(n/g, runif(1)*i^2))),\n",
    "                y = unlist(lapply(1:g, function(i) rnorm(n/g, runif(1)*i^2))))\n",
    "head(k.find.df)\n",
    "nrow(k.find.df)\n",
    "plot(k.find.df)"
   ]
  },
  {
   "cell_type": "code",
   "execution_count": 11,
   "metadata": {
    "collapsed": false
   },
   "outputs": [
    {
     "data": {
      "text/html": [
       "<ol class=list-inline>\n",
       "\t<li>4</li>\n",
       "\t<li>3</li>\n",
       "\t<li>4</li>\n",
       "\t<li>2</li>\n",
       "\t<li>2</li>\n",
       "\t<li>3</li>\n",
       "\t<li>2</li>\n",
       "\t<li>3</li>\n",
       "\t<li>3</li>\n",
       "\t<li>2</li>\n",
       "\t<li>3</li>\n",
       "\t<li>3</li>\n",
       "\t<li>2</li>\n",
       "\t<li>3</li>\n",
       "\t<li>3</li>\n",
       "\t<li>2</li>\n",
       "\t<li>2</li>\n",
       "\t<li>3</li>\n",
       "\t<li>4</li>\n",
       "\t<li>4</li>\n",
       "\t<li>2</li>\n",
       "\t<li>2</li>\n",
       "\t<li>4</li>\n",
       "\t<li>4</li>\n",
       "\t<li>4</li>\n",
       "\t<li>3</li>\n",
       "\t<li>4</li>\n",
       "\t<li>4</li>\n",
       "\t<li>3</li>\n",
       "\t<li>4</li>\n",
       "\t<li>4</li>\n",
       "\t<li>4</li>\n",
       "\t<li>2</li>\n",
       "\t<li>3</li>\n",
       "\t<li>4</li>\n",
       "\t<li>3</li>\n",
       "\t<li>2</li>\n",
       "\t<li>1</li>\n",
       "\t<li>1</li>\n",
       "\t<li>1</li>\n",
       "\t<li>1</li>\n",
       "\t<li>1</li>\n",
       "\t<li>1</li>\n",
       "\t<li>1</li>\n",
       "\t<li>1</li>\n",
       "\t<li>1</li>\n",
       "\t<li>1</li>\n",
       "\t<li>2</li>\n",
       "\t<li>3</li>\n",
       "\t<li>3</li>\n",
       "\t<li>2</li>\n",
       "\t<li>3</li>\n",
       "\t<li>2</li>\n",
       "\t<li>4</li>\n",
       "\t<li>4</li>\n",
       "\t<li>2</li>\n",
       "\t<li>4</li>\n",
       "\t<li>3</li>\n",
       "\t<li>2</li>\n",
       "\t<li>2</li>\n",
       "\t<li>3</li>\n",
       "\t<li>4</li>\n",
       "\t<li>2</li>\n",
       "\t<li>2</li>\n",
       "\t<li>4</li>\n",
       "\t<li>3</li>\n",
       "\t<li>4</li>\n",
       "\t<li>2</li>\n",
       "\t<li>3</li>\n",
       "\t<li>2</li>\n",
       "\t<li>2</li>\n",
       "\t<li>2</li>\n",
       "\t<li>2</li>\n",
       "\t<li>4</li>\n",
       "\t<li>2</li>\n",
       "\t<li>2</li>\n",
       "\t<li>4</li>\n",
       "\t<li>2</li>\n",
       "\t<li>2</li>\n",
       "\t<li>4</li>\n",
       "\t<li>2</li>\n",
       "\t<li>2</li>\n",
       "\t<li>1</li>\n",
       "\t<li>1</li>\n",
       "\t<li>1</li>\n",
       "\t<li>1</li>\n",
       "\t<li>1</li>\n",
       "\t<li>1</li>\n",
       "\t<li>1</li>\n",
       "\t<li>1</li>\n",
       "\t<li>1</li>\n",
       "\t<li>1</li>\n",
       "\t<li>1</li>\n",
       "\t<li>1</li>\n",
       "\t<li>1</li>\n",
       "\t<li>1</li>\n",
       "\t<li>1</li>\n",
       "\t<li>1</li>\n",
       "\t<li>1</li>\n",
       "\t<li>1</li>\n",
       "</ol>\n"
      ],
      "text/latex": [
       "\\begin{enumerate*}\n",
       "\\item 4\n",
       "\\item 3\n",
       "\\item 4\n",
       "\\item 2\n",
       "\\item 2\n",
       "\\item 3\n",
       "\\item 2\n",
       "\\item 3\n",
       "\\item 3\n",
       "\\item 2\n",
       "\\item 3\n",
       "\\item 3\n",
       "\\item 2\n",
       "\\item 3\n",
       "\\item 3\n",
       "\\item 2\n",
       "\\item 2\n",
       "\\item 3\n",
       "\\item 4\n",
       "\\item 4\n",
       "\\item 2\n",
       "\\item 2\n",
       "\\item 4\n",
       "\\item 4\n",
       "\\item 4\n",
       "\\item 3\n",
       "\\item 4\n",
       "\\item 4\n",
       "\\item 3\n",
       "\\item 4\n",
       "\\item 4\n",
       "\\item 4\n",
       "\\item 2\n",
       "\\item 3\n",
       "\\item 4\n",
       "\\item 3\n",
       "\\item 2\n",
       "\\item 1\n",
       "\\item 1\n",
       "\\item 1\n",
       "\\item 1\n",
       "\\item 1\n",
       "\\item 1\n",
       "\\item 1\n",
       "\\item 1\n",
       "\\item 1\n",
       "\\item 1\n",
       "\\item 2\n",
       "\\item 3\n",
       "\\item 3\n",
       "\\item 2\n",
       "\\item 3\n",
       "\\item 2\n",
       "\\item 4\n",
       "\\item 4\n",
       "\\item 2\n",
       "\\item 4\n",
       "\\item 3\n",
       "\\item 2\n",
       "\\item 2\n",
       "\\item 3\n",
       "\\item 4\n",
       "\\item 2\n",
       "\\item 2\n",
       "\\item 4\n",
       "\\item 3\n",
       "\\item 4\n",
       "\\item 2\n",
       "\\item 3\n",
       "\\item 2\n",
       "\\item 2\n",
       "\\item 2\n",
       "\\item 2\n",
       "\\item 4\n",
       "\\item 2\n",
       "\\item 2\n",
       "\\item 4\n",
       "\\item 2\n",
       "\\item 2\n",
       "\\item 4\n",
       "\\item 2\n",
       "\\item 2\n",
       "\\item 1\n",
       "\\item 1\n",
       "\\item 1\n",
       "\\item 1\n",
       "\\item 1\n",
       "\\item 1\n",
       "\\item 1\n",
       "\\item 1\n",
       "\\item 1\n",
       "\\item 1\n",
       "\\item 1\n",
       "\\item 1\n",
       "\\item 1\n",
       "\\item 1\n",
       "\\item 1\n",
       "\\item 1\n",
       "\\item 1\n",
       "\\item 1\n",
       "\\end{enumerate*}\n"
      ],
      "text/markdown": [
       "1. 4\n",
       "2. 3\n",
       "3. 4\n",
       "4. 2\n",
       "5. 2\n",
       "6. 3\n",
       "7. 2\n",
       "8. 3\n",
       "9. 3\n",
       "10. 2\n",
       "11. 3\n",
       "12. 3\n",
       "13. 2\n",
       "14. 3\n",
       "15. 3\n",
       "16. 2\n",
       "17. 2\n",
       "18. 3\n",
       "19. 4\n",
       "20. 4\n",
       "21. 2\n",
       "22. 2\n",
       "23. 4\n",
       "24. 4\n",
       "25. 4\n",
       "26. 3\n",
       "27. 4\n",
       "28. 4\n",
       "29. 3\n",
       "30. 4\n",
       "31. 4\n",
       "32. 4\n",
       "33. 2\n",
       "34. 3\n",
       "35. 4\n",
       "36. 3\n",
       "37. 2\n",
       "38. 1\n",
       "39. 1\n",
       "40. 1\n",
       "41. 1\n",
       "42. 1\n",
       "43. 1\n",
       "44. 1\n",
       "45. 1\n",
       "46. 1\n",
       "47. 1\n",
       "48. 2\n",
       "49. 3\n",
       "50. 3\n",
       "51. 2\n",
       "52. 3\n",
       "53. 2\n",
       "54. 4\n",
       "55. 4\n",
       "56. 2\n",
       "57. 4\n",
       "58. 3\n",
       "59. 2\n",
       "60. 2\n",
       "61. 3\n",
       "62. 4\n",
       "63. 2\n",
       "64. 2\n",
       "65. 4\n",
       "66. 3\n",
       "67. 4\n",
       "68. 2\n",
       "69. 3\n",
       "70. 2\n",
       "71. 2\n",
       "72. 2\n",
       "73. 2\n",
       "74. 4\n",
       "75. 2\n",
       "76. 2\n",
       "77. 4\n",
       "78. 2\n",
       "79. 2\n",
       "80. 4\n",
       "81. 2\n",
       "82. 2\n",
       "83. 1\n",
       "84. 1\n",
       "85. 1\n",
       "86. 1\n",
       "87. 1\n",
       "88. 1\n",
       "89. 1\n",
       "90. 1\n",
       "91. 1\n",
       "92. 1\n",
       "93. 1\n",
       "94. 1\n",
       "95. 1\n",
       "96. 1\n",
       "97. 1\n",
       "98. 1\n",
       "99. 1\n",
       "100. 1\n",
       "\n",
       "\n"
      ],
      "text/plain": [
       "  [1] 4 3 4 2 2 3 2 3 3 2 3 3 2 3 3 2 2 3 4 4 2 2 4 4 4 3 4 4 3 4 4 4 2 3 4 3 2\n",
       " [38] 1 1 1 1 1 1 1 1 1 1 2 3 3 2 3 2 4 4 2 4 3 2 2 3 4 2 2 4 3 4 2 3 2 2 2 2 4\n",
       " [75] 2 2 4 2 2 4 2 2 1 1 1 1 1 1 1 1 1 1 1 1 1 1 1 1 1 1"
      ]
     },
     "metadata": {},
     "output_type": "display_data"
    }
   ],
   "source": [
    "sessions.df.scaled = scale(sessions.df)\n",
    "set.seed(777)\n",
    "km.scalled.4m = kmeans(sessions.df.scaled,4,nstart=25)\n",
    "km.scalled.4m$cluster"
   ]
  },
  {
   "cell_type": "code",
   "execution_count": 12,
   "metadata": {
    "collapsed": false
   },
   "outputs": [
    {
     "data": {},
     "metadata": {},
     "output_type": "display_data"
    },
    {
     "data": {
      "image/png": "[encoded data removed]",
      "text/plain": [
       "plot without title"
      ]
     },
     "metadata": {},
     "output_type": "display_data"
    }
   ],
   "source": [
    "#Visualize k-means clusters\n",
    "fviz_cluster(km.scalled.4m,data=sessions.df.scaled,geom='point',stand=FALSE,frame.type = 'norm')"
   ]
  },
  {
   "cell_type": "code",
   "execution_count": 13,
   "metadata": {
    "collapsed": false
   },
   "outputs": [
    {
     "data": {
      "image/png": "[encoded data removed]",
      "text/plain": [
       "plot without title"
      ]
     },
     "metadata": {},
     "output_type": "display_data"
    }
   ],
   "source": [
    "pairs(km.scalled.4m$centers, pch=1:4,col=1:4)"
   ]
  },
  {
   "cell_type": "markdown",
   "metadata": {},
   "source": [
    "# K-means Partitioning\n",
    "# Finding Elbow\n",
    "\n",
    "A plot of the within groups sum of squares by number of clusters extracted can help determine the appropriate number of clusters\n",
    "\n",
    "Credits: http://www.statmethods.net/advstats/cluster.html\n"
   ]
  },
  {
   "cell_type": "code",
   "execution_count": 54,
   "metadata": {
    "collapsed": false
   },
   "outputs": [
    {
     "data": {
      "image/png": "[encoded data removed]",
      "text/plain": [
       "plot without title"
      ]
     },
     "metadata": {},
     "output_type": "display_data"
    }
   ],
   "source": [
    "elbow.df = k.find.df\n",
    "#Determine number of clusters\n",
    "wss = (nrow(elbow.df)-1)*sum(apply(elbow.df,2,var))\n",
    "\n",
    "for(i in 2:15) wss[i] = sum(kmeans(elbow.df,centers=i)$withinss)\n",
    "plot(1:15,wss,type='b',xlab=\"Number of Clusters\", ylab=\"Within groups sum of squares\")"
   ]
  },
  {
   "cell_type": "code",
   "execution_count": 55,
   "metadata": {
    "collapsed": false
   },
   "outputs": [
    {
     "data": {
      "image/png": "[encoded data removed]",
      "text/plain": [
       "plot without title"
      ]
     },
     "metadata": {},
     "output_type": "display_data"
    }
   ],
   "source": [
    "max.k = 8 #Max number of clusters\n",
    "df = sessions.df.scaled\n",
    "wss = sapply(1:max.k, function(k){kmeans(df, k, nstart=10)$tot.withinss})\n",
    "plot(1:max.k, wss, type=\"b\", pch=19, frame=FALSE, xlab=\"Number of clusters K\", ylab=\"Total within-clusters sum of squares\")\n",
    "abline(v=3,lty=2)"
   ]
  },
  {
   "cell_type": "markdown",
   "metadata": {},
   "source": [
    "# Use Silhouette plot and Partition around mediods\n"
   ]
  },
  {
   "cell_type": "code",
   "execution_count": 56,
   "metadata": {
    "collapsed": false
   },
   "outputs": [
    {
     "name": "stdout",
     "output_type": "stream",
     "text": [
      "Silhouette Cluster Estimation:  4 \n"
     ]
    },
    {
     "data": {
      "image/png": "[encoded data removed]",
      "text/plain": [
       "Plot with title \"clusplot(pam(x = k.find.df, k = best$nc))\""
      ]
     },
     "metadata": {},
     "output_type": "display_data"
    },
    {
     "data": {
      "image/png": "[encoded data removed]",
      "text/plain": [
       "Plot with title \"Silhouette plot of pam(x = k.find.df, k = best$nc)\""
      ]
     },
     "metadata": {},
     "output_type": "display_data"
    }
   ],
   "source": [
    "if(!require(fpc)){install.packages(\"fpc\")}\n",
    "best = pamk(k.find.df)\n",
    "cat(\"Silhouette Cluster Estimation: \",best$nc,\"\\n\")\n",
    "plot(pam(k.find.df,best$nc))"
   ]
  },
  {
   "cell_type": "markdown",
   "metadata": {},
   "source": [
    "# Partion Clustering Using NbClust"
   ]
  },
  {
   "cell_type": "code",
   "execution_count": 57,
   "metadata": {
    "collapsed": false
   },
   "outputs": [
    {
     "data": {
      "text/html": [
       "<dl>\n",
       "\t<dt>$All.index</dt>\n",
       "\t\t<dd><dl class=dl-horizontal>\n",
       "\t<dt>2</dt>\n",
       "\t\t<dd>-2.2448</dd>\n",
       "\t<dt>3</dt>\n",
       "\t\t<dd>-2.8294</dd>\n",
       "\t<dt>4</dt>\n",
       "\t\t<dd>-3.1125</dd>\n",
       "\t<dt>5</dt>\n",
       "\t\t<dd>-3.4294</dd>\n",
       "\t<dt>6</dt>\n",
       "\t\t<dd>-3.7289</dd>\n",
       "\t<dt>7</dt>\n",
       "\t\t<dd>-4.1213</dd>\n",
       "\t<dt>8</dt>\n",
       "\t\t<dd>-4.2445</dd>\n",
       "\t<dt>9</dt>\n",
       "\t\t<dd>-4.2863</dd>\n",
       "\t<dt>10</dt>\n",
       "\t\t<dd>-4.3114</dd>\n",
       "</dl>\n",
       "</dd>\n",
       "\t<dt>$All.CriticalValues</dt>\n",
       "\t\t<dd><dl class=dl-horizontal>\n",
       "\t<dt>2</dt>\n",
       "\t\t<dd>0.5938</dd>\n",
       "\t<dt>3</dt>\n",
       "\t\t<dd>0.2947</dd>\n",
       "\t<dt>4</dt>\n",
       "\t\t<dd>0.3315</dd>\n",
       "\t<dt>5</dt>\n",
       "\t\t<dd>0.3163</dd>\n",
       "\t<dt>6</dt>\n",
       "\t\t<dd>0.4146</dd>\n",
       "\t<dt>7</dt>\n",
       "\t\t<dd>0.1489</dd>\n",
       "\t<dt>8</dt>\n",
       "\t\t<dd>0.0693</dd>\n",
       "\t<dt>9</dt>\n",
       "\t\t<dd>0.0531</dd>\n",
       "\t<dt>10</dt>\n",
       "\t\t<dd>0.2607</dd>\n",
       "</dl>\n",
       "</dd>\n",
       "\t<dt>$Best.nc</dt>\n",
       "\t\t<dd><dl class=dl-horizontal>\n",
       "\t<dt>Number_clusters</dt>\n",
       "\t\t<dd>2</dd>\n",
       "\t<dt>Value_Index</dt>\n",
       "\t\t<dd>-2.2448</dd>\n",
       "</dl>\n",
       "</dd>\n",
       "\t<dt>$Best.partition</dt>\n",
       "\t\t<dd><ol class=list-inline>\n",
       "\t<li>1</li>\n",
       "\t<li>1</li>\n",
       "\t<li>1</li>\n",
       "\t<li>2</li>\n",
       "\t<li>2</li>\n",
       "\t<li>1</li>\n",
       "\t<li>1</li>\n",
       "\t<li>1</li>\n",
       "\t<li>1</li>\n",
       "\t<li>1</li>\n",
       "\t<li>1</li>\n",
       "\t<li>1</li>\n",
       "\t<li>2</li>\n",
       "\t<li>1</li>\n",
       "\t<li>1</li>\n",
       "\t<li>2</li>\n",
       "\t<li>1</li>\n",
       "\t<li>1</li>\n",
       "\t<li>2</li>\n",
       "\t<li>1</li>\n",
       "\t<li>1</li>\n",
       "\t<li>1</li>\n",
       "\t<li>2</li>\n",
       "\t<li>2</li>\n",
       "\t<li>2</li>\n",
       "\t<li>1</li>\n",
       "\t<li>2</li>\n",
       "\t<li>2</li>\n",
       "\t<li>1</li>\n",
       "\t<li>2</li>\n",
       "\t<li>2</li>\n",
       "\t<li>2</li>\n",
       "\t<li>2</li>\n",
       "\t<li>1</li>\n",
       "\t<li>2</li>\n",
       "\t<li>1</li>\n",
       "\t<li>2</li>\n",
       "\t<li>2</li>\n",
       "\t<li>2</li>\n",
       "\t<li>2</li>\n",
       "\t<li>2</li>\n",
       "\t<li>2</li>\n",
       "\t<li>2</li>\n",
       "\t<li>2</li>\n",
       "\t<li>2</li>\n",
       "\t<li>2</li>\n",
       "\t<li>2</li>\n",
       "\t<li>2</li>\n",
       "\t<li>1</li>\n",
       "\t<li>1</li>\n",
       "\t<li>2</li>\n",
       "\t<li>2</li>\n",
       "\t<li>2</li>\n",
       "\t<li>2</li>\n",
       "\t<li>2</li>\n",
       "\t<li>2</li>\n",
       "\t<li>2</li>\n",
       "\t<li>1</li>\n",
       "\t<li>2</li>\n",
       "\t<li>2</li>\n",
       "\t<li>2</li>\n",
       "\t<li>2</li>\n",
       "\t<li>2</li>\n",
       "\t<li>2</li>\n",
       "\t<li>2</li>\n",
       "\t<li>1</li>\n",
       "\t<li>2</li>\n",
       "\t<li>2</li>\n",
       "\t<li>1</li>\n",
       "\t<li>2</li>\n",
       "\t<li>2</li>\n",
       "\t<li>2</li>\n",
       "\t<li>2</li>\n",
       "\t<li>1</li>\n",
       "\t<li>2</li>\n",
       "\t<li>2</li>\n",
       "\t<li>2</li>\n",
       "\t<li>2</li>\n",
       "\t<li>2</li>\n",
       "\t<li>2</li>\n",
       "\t<li>2</li>\n",
       "\t<li>2</li>\n",
       "\t<li>2</li>\n",
       "\t<li>2</li>\n",
       "\t<li>2</li>\n",
       "\t<li>2</li>\n",
       "\t<li>2</li>\n",
       "\t<li>2</li>\n",
       "\t<li>2</li>\n",
       "\t<li>2</li>\n",
       "\t<li>2</li>\n",
       "\t<li>2</li>\n",
       "\t<li>2</li>\n",
       "\t<li>2</li>\n",
       "\t<li>2</li>\n",
       "\t<li>2</li>\n",
       "\t<li>2</li>\n",
       "\t<li>2</li>\n",
       "\t<li>2</li>\n",
       "\t<li>2</li>\n",
       "</ol>\n",
       "</dd>\n",
       "</dl>\n"
      ],
      "text/latex": [
       "\\begin{description}\n",
       "\\item[\\$All.index] \\begin{description*}\n",
       "\\item[2] -2.2448\n",
       "\\item[3] -2.8294\n",
       "\\item[4] -3.1125\n",
       "\\item[5] -3.4294\n",
       "\\item[6] -3.7289\n",
       "\\item[7] -4.1213\n",
       "\\item[8] -4.2445\n",
       "\\item[9] -4.2863\n",
       "\\item[10] -4.3114\n",
       "\\end{description*}\n",
       "\n",
       "\\item[\\$All.CriticalValues] \\begin{description*}\n",
       "\\item[2] 0.5938\n",
       "\\item[3] 0.2947\n",
       "\\item[4] 0.3315\n",
       "\\item[5] 0.3163\n",
       "\\item[6] 0.4146\n",
       "\\item[7] 0.1489\n",
       "\\item[8] 0.0693\n",
       "\\item[9] 0.0531\n",
       "\\item[10] 0.2607\n",
       "\\end{description*}\n",
       "\n",
       "\\item[\\$Best.nc] \\begin{description*}\n",
       "\\item[Number\\textbackslash{}\\_clusters] 2\n",
       "\\item[Value\\textbackslash{}\\_Index] -2.2448\n",
       "\\end{description*}\n",
       "\n",
       "\\item[\\$Best.partition] \\begin{enumerate*}\n",
       "\\item 1\n",
       "\\item 1\n",
       "\\item 1\n",
       "\\item 2\n",
       "\\item 2\n",
       "\\item 1\n",
       "\\item 1\n",
       "\\item 1\n",
       "\\item 1\n",
       "\\item 1\n",
       "\\item 1\n",
       "\\item 1\n",
       "\\item 2\n",
       "\\item 1\n",
       "\\item 1\n",
       "\\item 2\n",
       "\\item 1\n",
       "\\item 1\n",
       "\\item 2\n",
       "\\item 1\n",
       "\\item 1\n",
       "\\item 1\n",
       "\\item 2\n",
       "\\item 2\n",
       "\\item 2\n",
       "\\item 1\n",
       "\\item 2\n",
       "\\item 2\n",
       "\\item 1\n",
       "\\item 2\n",
       "\\item 2\n",
       "\\item 2\n",
       "\\item 2\n",
       "\\item 1\n",
       "\\item 2\n",
       "\\item 1\n",
       "\\item 2\n",
       "\\item 2\n",
       "\\item 2\n",
       "\\item 2\n",
       "\\item 2\n",
       "\\item 2\n",
       "\\item 2\n",
       "\\item 2\n",
       "\\item 2\n",
       "\\item 2\n",
       "\\item 2\n",
       "\\item 2\n",
       "\\item 1\n",
       "\\item 1\n",
       "\\item 2\n",
       "\\item 2\n",
       "\\item 2\n",
       "\\item 2\n",
       "\\item 2\n",
       "\\item 2\n",
       "\\item 2\n",
       "\\item 1\n",
       "\\item 2\n",
       "\\item 2\n",
       "\\item 2\n",
       "\\item 2\n",
       "\\item 2\n",
       "\\item 2\n",
       "\\item 2\n",
       "\\item 1\n",
       "\\item 2\n",
       "\\item 2\n",
       "\\item 1\n",
       "\\item 2\n",
       "\\item 2\n",
       "\\item 2\n",
       "\\item 2\n",
       "\\item 1\n",
       "\\item 2\n",
       "\\item 2\n",
       "\\item 2\n",
       "\\item 2\n",
       "\\item 2\n",
       "\\item 2\n",
       "\\item 2\n",
       "\\item 2\n",
       "\\item 2\n",
       "\\item 2\n",
       "\\item 2\n",
       "\\item 2\n",
       "\\item 2\n",
       "\\item 2\n",
       "\\item 2\n",
       "\\item 2\n",
       "\\item 2\n",
       "\\item 2\n",
       "\\item 2\n",
       "\\item 2\n",
       "\\item 2\n",
       "\\item 2\n",
       "\\item 2\n",
       "\\item 2\n",
       "\\item 2\n",
       "\\item 2\n",
       "\\end{enumerate*}\n",
       "\n",
       "\\end{description}\n"
      ],
      "text/markdown": [
       "$All.index\n",
       ":   2\n",
       ":   -2.24483\n",
       ":   -2.82944\n",
       ":   -3.11255\n",
       ":   -3.42946\n",
       ":   -3.72897\n",
       ":   -4.12138\n",
       ":   -4.24459\n",
       ":   -4.286310\n",
       ":   -4.3114\n",
       "\n",
       "\n",
       "$All.CriticalValues\n",
       ":   2\n",
       ":   0.59383\n",
       ":   0.29474\n",
       ":   0.33155\n",
       ":   0.31636\n",
       ":   0.41467\n",
       ":   0.14898\n",
       ":   0.06939\n",
       ":   0.053110\n",
       ":   0.2607\n",
       "\n",
       "\n",
       "$Best.nc\n",
       ":   Number_clusters\n",
       ":   2Value_Index\n",
       ":   -2.2448\n",
       "\n",
       "\n",
       "$Best.partition\n",
       ":   1. 1\n",
       "2. 1\n",
       "3. 1\n",
       "4. 2\n",
       "5. 2\n",
       "6. 1\n",
       "7. 1\n",
       "8. 1\n",
       "9. 1\n",
       "10. 1\n",
       "11. 1\n",
       "12. 1\n",
       "13. 2\n",
       "14. 1\n",
       "15. 1\n",
       "16. 2\n",
       "17. 1\n",
       "18. 1\n",
       "19. 2\n",
       "20. 1\n",
       "21. 1\n",
       "22. 1\n",
       "23. 2\n",
       "24. 2\n",
       "25. 2\n",
       "26. 1\n",
       "27. 2\n",
       "28. 2\n",
       "29. 1\n",
       "30. 2\n",
       "31. 2\n",
       "32. 2\n",
       "33. 2\n",
       "34. 1\n",
       "35. 2\n",
       "36. 1\n",
       "37. 2\n",
       "38. 2\n",
       "39. 2\n",
       "40. 2\n",
       "41. 2\n",
       "42. 2\n",
       "43. 2\n",
       "44. 2\n",
       "45. 2\n",
       "46. 2\n",
       "47. 2\n",
       "48. 2\n",
       "49. 1\n",
       "50. 1\n",
       "51. 2\n",
       "52. 2\n",
       "53. 2\n",
       "54. 2\n",
       "55. 2\n",
       "56. 2\n",
       "57. 2\n",
       "58. 1\n",
       "59. 2\n",
       "60. 2\n",
       "61. 2\n",
       "62. 2\n",
       "63. 2\n",
       "64. 2\n",
       "65. 2\n",
       "66. 1\n",
       "67. 2\n",
       "68. 2\n",
       "69. 1\n",
       "70. 2\n",
       "71. 2\n",
       "72. 2\n",
       "73. 2\n",
       "74. 1\n",
       "75. 2\n",
       "76. 2\n",
       "77. 2\n",
       "78. 2\n",
       "79. 2\n",
       "80. 2\n",
       "81. 2\n",
       "82. 2\n",
       "83. 2\n",
       "84. 2\n",
       "85. 2\n",
       "86. 2\n",
       "87. 2\n",
       "88. 2\n",
       "89. 2\n",
       "90. 2\n",
       "91. 2\n",
       "92. 2\n",
       "93. 2\n",
       "94. 2\n",
       "95. 2\n",
       "96. 2\n",
       "97. 2\n",
       "98. 2\n",
       "99. 2\n",
       "100. 2\n",
       "\n",
       "\n",
       "\n",
       "\n",
       "\n"
      ],
      "text/plain": [
       "$All.index\n",
       "      2       3       4       5       6       7       8       9      10 \n",
       "-2.2448 -2.8294 -3.1125 -3.4294 -3.7289 -4.1213 -4.2445 -4.2863 -4.3114 \n",
       "\n",
       "$All.CriticalValues\n",
       "     2      3      4      5      6      7      8      9     10 \n",
       "0.5938 0.2947 0.3315 0.3163 0.4146 0.1489 0.0693 0.0531 0.2607 \n",
       "\n",
       "$Best.nc\n",
       "Number_clusters     Value_Index \n",
       "         2.0000         -2.2448 \n",
       "\n",
       "$Best.partition\n",
       "  [1] 1 1 1 2 2 1 1 1 1 1 1 1 2 1 1 2 1 1 2 1 1 1 2 2 2 1 2 2 1 2 2 2 2 1 2 1 2\n",
       " [38] 2 2 2 2 2 2 2 2 2 2 2 1 1 2 2 2 2 2 2 2 1 2 2 2 2 2 2 2 1 2 2 1 2 2 2 2 1\n",
       " [75] 2 2 2 2 2 2 2 2 2 2 2 2 2 2 2 2 2 2 2 2 2 2 2 2 2 2\n"
      ]
     },
     "metadata": {},
     "output_type": "display_data"
    }
   ],
   "source": [
    "if(!require(NbClust)){install.packages(\"NbClust\")}\n",
    "set.seed(766)\n",
    "nb.clust = NbClust(sessions.df.scaled, distance='euclidean', min.nc=2, max.nc=10, method=\"complete\", index=\"gap\")\n",
    "nb.clust"
   ]
  },
  {
   "cell_type": "code",
   "execution_count": 58,
   "metadata": {
    "collapsed": false
   },
   "outputs": [
    {
     "data": {
      "text/html": [
       "<dl class=dl-horizontal>\n",
       "\t<dt>2</dt>\n",
       "\t\t<dd>-2.2448</dd>\n",
       "\t<dt>3</dt>\n",
       "\t\t<dd>-2.8294</dd>\n",
       "\t<dt>4</dt>\n",
       "\t\t<dd>-3.1125</dd>\n",
       "\t<dt>5</dt>\n",
       "\t\t<dd>-3.4294</dd>\n",
       "\t<dt>6</dt>\n",
       "\t\t<dd>-3.7289</dd>\n",
       "\t<dt>7</dt>\n",
       "\t\t<dd>-4.1213</dd>\n",
       "\t<dt>8</dt>\n",
       "\t\t<dd>-4.2445</dd>\n",
       "\t<dt>9</dt>\n",
       "\t\t<dd>-4.2863</dd>\n",
       "\t<dt>10</dt>\n",
       "\t\t<dd>-4.3114</dd>\n",
       "</dl>\n"
      ],
      "text/latex": [
       "\\begin{description*}\n",
       "\\item[2] -2.2448\n",
       "\\item[3] -2.8294\n",
       "\\item[4] -3.1125\n",
       "\\item[5] -3.4294\n",
       "\\item[6] -3.7289\n",
       "\\item[7] -4.1213\n",
       "\\item[8] -4.2445\n",
       "\\item[9] -4.2863\n",
       "\\item[10] -4.3114\n",
       "\\end{description*}\n"
      ],
      "text/markdown": [
       "2\n",
       ":   -2.24483\n",
       ":   -2.82944\n",
       ":   -3.11255\n",
       ":   -3.42946\n",
       ":   -3.72897\n",
       ":   -4.12138\n",
       ":   -4.24459\n",
       ":   -4.286310\n",
       ":   -4.3114\n",
       "\n"
      ],
      "text/plain": [
       "      2       3       4       5       6       7       8       9      10 \n",
       "-2.2448 -2.8294 -3.1125 -3.4294 -3.7289 -4.1213 -4.2445 -4.2863 -4.3114 "
      ]
     },
     "metadata": {},
     "output_type": "display_data"
    }
   ],
   "source": [
    "#gap statistic values\n",
    "nb.clust$All.index"
   ]
  },
  {
   "cell_type": "code",
   "execution_count": 59,
   "metadata": {
    "collapsed": false
   },
   "outputs": [
    {
     "data": {
      "text/html": [
       "<dl class=dl-horizontal>\n",
       "\t<dt>Number_clusters</dt>\n",
       "\t\t<dd>2</dd>\n",
       "\t<dt>Value_Index</dt>\n",
       "\t\t<dd>-2.2448</dd>\n",
       "</dl>\n"
      ],
      "text/latex": [
       "\\begin{description*}\n",
       "\\item[Number\\textbackslash{}\\_clusters] 2\n",
       "\\item[Value\\textbackslash{}\\_Index] -2.2448\n",
       "\\end{description*}\n"
      ],
      "text/markdown": [
       "Number_clusters\n",
       ":   2Value_Index\n",
       ":   -2.2448\n",
       "\n"
      ],
      "text/plain": [
       "Number_clusters     Value_Index \n",
       "         2.0000         -2.2448 "
      ]
     },
     "metadata": {},
     "output_type": "display_data"
    }
   ],
   "source": [
    "#best number of clusters\n",
    "nb.clust$Best.nc"
   ]
  },
  {
   "cell_type": "code",
   "execution_count": 60,
   "metadata": {
    "collapsed": false
   },
   "outputs": [
    {
     "data": {
      "text/html": [
       "<ol class=list-inline>\n",
       "\t<li>1</li>\n",
       "\t<li>1</li>\n",
       "\t<li>1</li>\n",
       "\t<li>2</li>\n",
       "\t<li>2</li>\n",
       "\t<li>1</li>\n",
       "\t<li>1</li>\n",
       "\t<li>1</li>\n",
       "\t<li>1</li>\n",
       "\t<li>1</li>\n",
       "\t<li>1</li>\n",
       "\t<li>1</li>\n",
       "\t<li>2</li>\n",
       "\t<li>1</li>\n",
       "\t<li>1</li>\n",
       "\t<li>2</li>\n",
       "\t<li>1</li>\n",
       "\t<li>1</li>\n",
       "\t<li>2</li>\n",
       "\t<li>1</li>\n",
       "\t<li>1</li>\n",
       "\t<li>1</li>\n",
       "\t<li>2</li>\n",
       "\t<li>2</li>\n",
       "\t<li>2</li>\n",
       "\t<li>1</li>\n",
       "\t<li>2</li>\n",
       "\t<li>2</li>\n",
       "\t<li>1</li>\n",
       "\t<li>2</li>\n",
       "\t<li>2</li>\n",
       "\t<li>2</li>\n",
       "\t<li>2</li>\n",
       "\t<li>1</li>\n",
       "\t<li>2</li>\n",
       "\t<li>1</li>\n",
       "\t<li>2</li>\n",
       "\t<li>2</li>\n",
       "\t<li>2</li>\n",
       "\t<li>2</li>\n",
       "\t<li>2</li>\n",
       "\t<li>2</li>\n",
       "\t<li>2</li>\n",
       "\t<li>2</li>\n",
       "\t<li>2</li>\n",
       "\t<li>2</li>\n",
       "\t<li>2</li>\n",
       "\t<li>2</li>\n",
       "\t<li>1</li>\n",
       "\t<li>1</li>\n",
       "\t<li>2</li>\n",
       "\t<li>2</li>\n",
       "\t<li>2</li>\n",
       "\t<li>2</li>\n",
       "\t<li>2</li>\n",
       "\t<li>2</li>\n",
       "\t<li>2</li>\n",
       "\t<li>1</li>\n",
       "\t<li>2</li>\n",
       "\t<li>2</li>\n",
       "\t<li>2</li>\n",
       "\t<li>2</li>\n",
       "\t<li>2</li>\n",
       "\t<li>2</li>\n",
       "\t<li>2</li>\n",
       "\t<li>1</li>\n",
       "\t<li>2</li>\n",
       "\t<li>2</li>\n",
       "\t<li>1</li>\n",
       "\t<li>2</li>\n",
       "\t<li>2</li>\n",
       "\t<li>2</li>\n",
       "\t<li>2</li>\n",
       "\t<li>1</li>\n",
       "\t<li>2</li>\n",
       "\t<li>2</li>\n",
       "\t<li>2</li>\n",
       "\t<li>2</li>\n",
       "\t<li>2</li>\n",
       "\t<li>2</li>\n",
       "\t<li>2</li>\n",
       "\t<li>2</li>\n",
       "\t<li>2</li>\n",
       "\t<li>2</li>\n",
       "\t<li>2</li>\n",
       "\t<li>2</li>\n",
       "\t<li>2</li>\n",
       "\t<li>2</li>\n",
       "\t<li>2</li>\n",
       "\t<li>2</li>\n",
       "\t<li>2</li>\n",
       "\t<li>2</li>\n",
       "\t<li>2</li>\n",
       "\t<li>2</li>\n",
       "\t<li>2</li>\n",
       "\t<li>2</li>\n",
       "\t<li>2</li>\n",
       "\t<li>2</li>\n",
       "\t<li>2</li>\n",
       "\t<li>2</li>\n",
       "</ol>\n"
      ],
      "text/latex": [
       "\\begin{enumerate*}\n",
       "\\item 1\n",
       "\\item 1\n",
       "\\item 1\n",
       "\\item 2\n",
       "\\item 2\n",
       "\\item 1\n",
       "\\item 1\n",
       "\\item 1\n",
       "\\item 1\n",
       "\\item 1\n",
       "\\item 1\n",
       "\\item 1\n",
       "\\item 2\n",
       "\\item 1\n",
       "\\item 1\n",
       "\\item 2\n",
       "\\item 1\n",
       "\\item 1\n",
       "\\item 2\n",
       "\\item 1\n",
       "\\item 1\n",
       "\\item 1\n",
       "\\item 2\n",
       "\\item 2\n",
       "\\item 2\n",
       "\\item 1\n",
       "\\item 2\n",
       "\\item 2\n",
       "\\item 1\n",
       "\\item 2\n",
       "\\item 2\n",
       "\\item 2\n",
       "\\item 2\n",
       "\\item 1\n",
       "\\item 2\n",
       "\\item 1\n",
       "\\item 2\n",
       "\\item 2\n",
       "\\item 2\n",
       "\\item 2\n",
       "\\item 2\n",
       "\\item 2\n",
       "\\item 2\n",
       "\\item 2\n",
       "\\item 2\n",
       "\\item 2\n",
       "\\item 2\n",
       "\\item 2\n",
       "\\item 1\n",
       "\\item 1\n",
       "\\item 2\n",
       "\\item 2\n",
       "\\item 2\n",
       "\\item 2\n",
       "\\item 2\n",
       "\\item 2\n",
       "\\item 2\n",
       "\\item 1\n",
       "\\item 2\n",
       "\\item 2\n",
       "\\item 2\n",
       "\\item 2\n",
       "\\item 2\n",
       "\\item 2\n",
       "\\item 2\n",
       "\\item 1\n",
       "\\item 2\n",
       "\\item 2\n",
       "\\item 1\n",
       "\\item 2\n",
       "\\item 2\n",
       "\\item 2\n",
       "\\item 2\n",
       "\\item 1\n",
       "\\item 2\n",
       "\\item 2\n",
       "\\item 2\n",
       "\\item 2\n",
       "\\item 2\n",
       "\\item 2\n",
       "\\item 2\n",
       "\\item 2\n",
       "\\item 2\n",
       "\\item 2\n",
       "\\item 2\n",
       "\\item 2\n",
       "\\item 2\n",
       "\\item 2\n",
       "\\item 2\n",
       "\\item 2\n",
       "\\item 2\n",
       "\\item 2\n",
       "\\item 2\n",
       "\\item 2\n",
       "\\item 2\n",
       "\\item 2\n",
       "\\item 2\n",
       "\\item 2\n",
       "\\item 2\n",
       "\\item 2\n",
       "\\end{enumerate*}\n"
      ],
      "text/markdown": [
       "1. 1\n",
       "2. 1\n",
       "3. 1\n",
       "4. 2\n",
       "5. 2\n",
       "6. 1\n",
       "7. 1\n",
       "8. 1\n",
       "9. 1\n",
       "10. 1\n",
       "11. 1\n",
       "12. 1\n",
       "13. 2\n",
       "14. 1\n",
       "15. 1\n",
       "16. 2\n",
       "17. 1\n",
       "18. 1\n",
       "19. 2\n",
       "20. 1\n",
       "21. 1\n",
       "22. 1\n",
       "23. 2\n",
       "24. 2\n",
       "25. 2\n",
       "26. 1\n",
       "27. 2\n",
       "28. 2\n",
       "29. 1\n",
       "30. 2\n",
       "31. 2\n",
       "32. 2\n",
       "33. 2\n",
       "34. 1\n",
       "35. 2\n",
       "36. 1\n",
       "37. 2\n",
       "38. 2\n",
       "39. 2\n",
       "40. 2\n",
       "41. 2\n",
       "42. 2\n",
       "43. 2\n",
       "44. 2\n",
       "45. 2\n",
       "46. 2\n",
       "47. 2\n",
       "48. 2\n",
       "49. 1\n",
       "50. 1\n",
       "51. 2\n",
       "52. 2\n",
       "53. 2\n",
       "54. 2\n",
       "55. 2\n",
       "56. 2\n",
       "57. 2\n",
       "58. 1\n",
       "59. 2\n",
       "60. 2\n",
       "61. 2\n",
       "62. 2\n",
       "63. 2\n",
       "64. 2\n",
       "65. 2\n",
       "66. 1\n",
       "67. 2\n",
       "68. 2\n",
       "69. 1\n",
       "70. 2\n",
       "71. 2\n",
       "72. 2\n",
       "73. 2\n",
       "74. 1\n",
       "75. 2\n",
       "76. 2\n",
       "77. 2\n",
       "78. 2\n",
       "79. 2\n",
       "80. 2\n",
       "81. 2\n",
       "82. 2\n",
       "83. 2\n",
       "84. 2\n",
       "85. 2\n",
       "86. 2\n",
       "87. 2\n",
       "88. 2\n",
       "89. 2\n",
       "90. 2\n",
       "91. 2\n",
       "92. 2\n",
       "93. 2\n",
       "94. 2\n",
       "95. 2\n",
       "96. 2\n",
       "97. 2\n",
       "98. 2\n",
       "99. 2\n",
       "100. 2\n",
       "\n",
       "\n"
      ],
      "text/plain": [
       "  [1] 1 1 1 2 2 1 1 1 1 1 1 1 2 1 1 2 1 1 2 1 1 1 2 2 2 1 2 2 1 2 2 2 2 1 2 1 2\n",
       " [38] 2 2 2 2 2 2 2 2 2 2 2 1 1 2 2 2 2 2 2 2 1 2 2 2 2 2 2 2 1 2 2 1 2 2 2 2 1\n",
       " [75] 2 2 2 2 2 2 2 2 2 2 2 2 2 2 2 2 2 2 2 2 2 2 2 2 2 2"
      ]
     },
     "metadata": {},
     "output_type": "display_data"
    }
   ],
   "source": [
    "nb.clust$Best.partition"
   ]
  },
  {
   "cell_type": "markdown",
   "metadata": {},
   "source": [
    "# Hubert Index - Graphical method of determining the number of clusters"
   ]
  },
  {
   "cell_type": "code",
   "execution_count": 61,
   "metadata": {
    "collapsed": false
   },
   "outputs": [
    {
     "name": "stdout",
     "output_type": "stream",
     "text": [
      "*** : The Hubert index is a graphical method of determining the number of clusters.\n",
      "                In the plot of Hubert index, we seek a significant knee that corresponds to a \n",
      "                significant increase of the value of the measure i.e the significant peak in Hubert\n",
      "                index second differences plot. \n",
      " \n"
     ]
    },
    {
     "data": {
      "image/png": "[encoded data removed]",
      "text/plain": [
       "plot without title"
      ]
     },
     "metadata": {},
     "output_type": "display_data"
    },
    {
     "name": "stdout",
     "output_type": "stream",
     "text": [
      "*** : The D index is a graphical method of determining the number of clusters. \n",
      "                In the plot of D index, we seek a significant knee (the significant peak in Dindex\n",
      "                second differences plot) that corresponds to a significant increase of the value of\n",
      "                the measure. \n",
      " \n",
      "******************************************************************* \n",
      "* Among all indices:                                                \n",
      "* 1 proposed 2 as the best number of clusters \n",
      "* 10 proposed 3 as the best number of clusters \n",
      "* 2 proposed 4 as the best number of clusters \n",
      "* 1 proposed 7 as the best number of clusters \n",
      "* 2 proposed 9 as the best number of clusters \n",
      "* 7 proposed 10 as the best number of clusters \n",
      "\n",
      "                   ***** Conclusion *****                            \n",
      " \n",
      "* According to the majority rule, the best number of clusters is  3 \n",
      " \n",
      " \n",
      "******************************************************************* \n"
     ]
    },
    {
     "data": {
      "text/html": [
       "<dl>\n",
       "\t<dt>$All.index</dt>\n",
       "\t\t<dd><table>\n",
       "<thead><tr><th></th><th scope=col>KL</th><th scope=col>CH</th><th scope=col>Hartigan</th><th scope=col>CCC</th><th scope=col>Scott</th><th scope=col>Marriot</th><th scope=col>TrCovW</th><th scope=col>TraceW</th><th scope=col>Friedman</th><th scope=col>Rubin</th><th scope=col>...</th><th scope=col>Ratkowsky</th><th scope=col>Ball</th><th scope=col>Ptbiserial</th><th scope=col>Frey</th><th scope=col>McClain</th><th scope=col>Dunn</th><th scope=col>Hubert</th><th scope=col>SDindex</th><th scope=col>Dindex</th><th scope=col>SDbw</th></tr></thead>\n",
       "<tbody>\n",
       "\t<tr><th scope=row>2</th><td> 0.1522     </td><td>18.9115     </td><td>28.0068     </td><td>-3.7783     </td><td> 169.3116   </td><td>4.058139e+16</td><td>10735.488   </td><td>746.8725    </td><td> 4.7689     </td><td>1.1930      </td><td>...         </td><td>0.2480      </td><td>373.4362    </td><td>0.3523      </td><td>0.0715      </td><td>0.5515      </td><td>0.3779      </td><td>0.0026      </td><td>1.3925      </td><td>2.7168      </td><td>0.8532      </td></tr>\n",
       "\t<tr><th scope=row>3</th><td> 2.7303     </td><td>25.8945     </td><td>13.4851     </td><td>-0.6313     </td><td> 350.2158   </td><td>1.495727e+16</td><td> 5348.327   </td><td>580.8696    </td><td>13.5465     </td><td>1.5339      </td><td>...         </td><td>0.3180      </td><td>193.6232    </td><td>0.5412      </td><td>0.3128      </td><td>1.3384      </td><td>0.3626      </td><td>0.0033      </td><td>1.3286      </td><td>2.3690      </td><td>0.7422      </td></tr>\n",
       "\t<tr><th scope=row>4</th><td>17.5093     </td><td>23.9089     </td><td> 5.2765     </td><td>-0.1254     </td><td> 454.9175   </td><td>9.332891e+15</td><td> 3771.162   </td><td>509.9723    </td><td>18.1993     </td><td>1.7472      </td><td>...         </td><td>0.3171      </td><td>127.4931    </td><td>0.5628      </td><td>0.2728      </td><td>2.1276      </td><td>0.3902      </td><td>0.0035      </td><td>1.2398      </td><td>2.2220      </td><td>0.7063      </td></tr>\n",
       "\t<tr><th scope=row>5</th><td> 0.0722     </td><td>20.0256     </td><td> 9.6180     </td><td>-1.4021     </td><td> 499.1660   </td><td>9.368438e+15</td><td> 3434.591   </td><td>483.4026    </td><td>20.3460     </td><td>1.8432      </td><td>...         </td><td>0.2954      </td><td> 96.6805    </td><td>0.5648      </td><td>0.1117      </td><td>2.5365      </td><td>0.4239      </td><td>0.0037      </td><td>1.3842      </td><td>2.1652      </td><td>0.6999      </td></tr>\n",
       "\t<tr><th scope=row>6</th><td> 1.1271     </td><td>19.3601     </td><td> 8.5068     </td><td>-0.5711     </td><td> 653.7471   </td><td>2.875362e+15</td><td> 3029.985   </td><td>438.9611    </td><td>36.8864     </td><td>2.0298      </td><td>...         </td><td>0.2844      </td><td> 73.1602    </td><td>0.5771      </td><td>0.1284      </td><td>2.7577      </td><td>0.4270      </td><td>0.0038      </td><td>1.3228      </td><td>2.0564      </td><td>0.6477      </td></tr>\n",
       "\t<tr><th scope=row>7</th><td> 0.6282     </td><td>18.8090     </td><td>11.7694     </td><td> 0.2531     </td><td> 714.1314   </td><td>2.139639e+15</td><td> 2654.588   </td><td>402.5325    </td><td>38.3277     </td><td>2.2135      </td><td>...         </td><td>0.2762      </td><td> 57.5046    </td><td>0.5831      </td><td>0.2959      </td><td>2.9139      </td><td>0.4313      </td><td>0.0038      </td><td>1.1305      </td><td>1.9584      </td><td>0.5892      </td></tr>\n",
       "\t<tr><th scope=row>8</th><td> 1.3653     </td><td>19.6303     </td><td> 9.3917     </td><td> 2.3437     </td><td> 826.7441   </td><td>9.062616e+14</td><td> 2120.179   </td><td>357.3136    </td><td>45.9781     </td><td>2.4936      </td><td>...         </td><td>0.2699      </td><td> 44.6642    </td><td>0.5688      </td><td>0.1124      </td><td>3.5555      </td><td>0.4340      </td><td>0.0043      </td><td>1.2181      </td><td>1.8020      </td><td>0.5389      </td></tr>\n",
       "\t<tr><th scope=row>9</th><td> 1.2514     </td><td>19.8854     </td><td> 7.9779     </td><td> 3.8792     </td><td>1037.1951   </td><td>1.398240e+14</td><td> 1975.092   </td><td>324.2163    </td><td>70.2393     </td><td>2.7482      </td><td>...         </td><td>0.2617      </td><td> 36.0240    </td><td>0.5799      </td><td>0.0375      </td><td>4.2675      </td><td>0.4343      </td><td>0.0046      </td><td>1.1996      </td><td>1.7172      </td><td>0.5345      </td></tr>\n",
       "\t<tr><th scope=row>10</th><td> 1.5809     </td><td>19.8909     </td><td> 5.7103     </td><td> 4.9118     </td><td>1100.4879   </td><td>9.166837e+13</td><td> 1669.811   </td><td>298.0836    </td><td>72.5877     </td><td>2.9891      </td><td>...         </td><td>0.2544      </td><td> 29.8084    </td><td>0.5912      </td><td>0.0393      </td><td>4.4044      </td><td>0.4353      </td><td>0.0047      </td><td>1.1645      </td><td>1.6529      </td><td>0.5217      </td></tr>\n",
       "</tbody>\n",
       "</table>\n",
       "</dd>\n",
       "\t<dt>$All.CriticalValues</dt>\n",
       "\t\t<dd><table>\n",
       "<thead><tr><th></th><th scope=col>CritValue_Duda</th><th scope=col>CritValue_PseudoT2</th><th scope=col>Fvalue_Beale</th></tr></thead>\n",
       "<tbody>\n",
       "\t<tr><th scope=row>2</th><td>0.7608 </td><td>22.3171</td><td>0.0119 </td></tr>\n",
       "\t<tr><th scope=row>3</th><td>0.7194 </td><td>17.5547</td><td>0.0723 </td></tr>\n",
       "\t<tr><th scope=row>4</th><td>0.6523 </td><td>13.3238</td><td>0.3739 </td></tr>\n",
       "\t<tr><th scope=row>5</th><td>0.6153 </td><td>11.8814</td><td>0.0001 </td></tr>\n",
       "\t<tr><th scope=row>6</th><td>0.5577 </td><td>10.3089</td><td>0.0000 </td></tr>\n",
       "\t<tr><th scope=row>7</th><td>0.6471 </td><td>13.0908</td><td>0.0000 </td></tr>\n",
       "\t<tr><th scope=row>8</th><td>0.6471 </td><td>13.0908</td><td>0.0402 </td></tr>\n",
       "\t<tr><th scope=row>9</th><td>0.5139 </td><td> 9.4601</td><td>0.0006 </td></tr>\n",
       "\t<tr><th scope=row>10</th><td>0.4496 </td><td> 8.5690</td><td>0.0001 </td></tr>\n",
       "</tbody>\n",
       "</table>\n",
       "</dd>\n",
       "\t<dt>$Best.nc</dt>\n",
       "\t\t<dd><table>\n",
       "<thead><tr><th></th><th scope=col>KL</th><th scope=col>CH</th><th scope=col>Hartigan</th><th scope=col>CCC</th><th scope=col>Scott</th><th scope=col>Marriot</th><th scope=col>TrCovW</th><th scope=col>TraceW</th><th scope=col>Friedman</th><th scope=col>Rubin</th><th scope=col>...</th><th scope=col>Ratkowsky</th><th scope=col>Ball</th><th scope=col>PtBiserial</th><th scope=col>Frey</th><th scope=col>McClain</th><th scope=col>Dunn</th><th scope=col>Hubert</th><th scope=col>SDindex</th><th scope=col>Dindex</th><th scope=col>SDbw</th></tr></thead>\n",
       "<tbody>\n",
       "\t<tr><th scope=row>Number_clusters</th><td> 4.0000     </td><td> 3.0000     </td><td> 3.0000     </td><td>10.0000     </td><td>  9.0000    </td><td>3.000000e+00</td><td>   3.000    </td><td> 3.0000     </td><td> 9.0000     </td><td> 3.0000     </td><td>...         </td><td>3.000       </td><td>  3.000     </td><td>10.0000     </td><td> 1          </td><td>2.0000      </td><td>10.0000     </td><td>0           </td><td>7.0000      </td><td>0           </td><td>10.0000     </td></tr>\n",
       "\t<tr><th scope=row>Value_Index</th><td>17.5093     </td><td>25.8945     </td><td>14.5216     </td><td> 4.9118     </td><td>210.4509    </td><td>1.999974e+16</td><td>5387.161    </td><td>95.1055     </td><td>24.2612     </td><td>-0.1277     </td><td>...         </td><td>0.318       </td><td>179.813     </td><td> 0.5912     </td><td>NA          </td><td>0.5515      </td><td> 0.4353     </td><td>0           </td><td>1.1305      </td><td>0           </td><td> 0.5217     </td></tr>\n",
       "</tbody>\n",
       "</table>\n",
       "</dd>\n",
       "\t<dt>$Best.partition</dt>\n",
       "\t\t<dd><ol class=list-inline>\n",
       "\t<li>1</li>\n",
       "\t<li>1</li>\n",
       "\t<li>1</li>\n",
       "\t<li>2</li>\n",
       "\t<li>2</li>\n",
       "\t<li>1</li>\n",
       "\t<li>1</li>\n",
       "\t<li>1</li>\n",
       "\t<li>1</li>\n",
       "\t<li>1</li>\n",
       "\t<li>1</li>\n",
       "\t<li>1</li>\n",
       "\t<li>2</li>\n",
       "\t<li>1</li>\n",
       "\t<li>1</li>\n",
       "\t<li>2</li>\n",
       "\t<li>1</li>\n",
       "\t<li>1</li>\n",
       "\t<li>2</li>\n",
       "\t<li>1</li>\n",
       "\t<li>1</li>\n",
       "\t<li>1</li>\n",
       "\t<li>2</li>\n",
       "\t<li>2</li>\n",
       "\t<li>2</li>\n",
       "\t<li>1</li>\n",
       "\t<li>2</li>\n",
       "\t<li>2</li>\n",
       "\t<li>1</li>\n",
       "\t<li>2</li>\n",
       "\t<li>2</li>\n",
       "\t<li>2</li>\n",
       "\t<li>3</li>\n",
       "\t<li>1</li>\n",
       "\t<li>2</li>\n",
       "\t<li>1</li>\n",
       "\t<li>2</li>\n",
       "\t<li>3</li>\n",
       "\t<li>3</li>\n",
       "\t<li>2</li>\n",
       "\t<li>2</li>\n",
       "\t<li>3</li>\n",
       "\t<li>3</li>\n",
       "\t<li>2</li>\n",
       "\t<li>3</li>\n",
       "\t<li>3</li>\n",
       "\t<li>3</li>\n",
       "\t<li>2</li>\n",
       "\t<li>1</li>\n",
       "\t<li>1</li>\n",
       "\t<li>2</li>\n",
       "\t<li>2</li>\n",
       "\t<li>2</li>\n",
       "\t<li>2</li>\n",
       "\t<li>2</li>\n",
       "\t<li>2</li>\n",
       "\t<li>2</li>\n",
       "\t<li>1</li>\n",
       "\t<li>2</li>\n",
       "\t<li>2</li>\n",
       "\t<li>2</li>\n",
       "\t<li>2</li>\n",
       "\t<li>2</li>\n",
       "\t<li>2</li>\n",
       "\t<li>2</li>\n",
       "\t<li>1</li>\n",
       "\t<li>2</li>\n",
       "\t<li>2</li>\n",
       "\t<li>1</li>\n",
       "\t<li>2</li>\n",
       "\t<li>2</li>\n",
       "\t<li>2</li>\n",
       "\t<li>2</li>\n",
       "\t<li>1</li>\n",
       "\t<li>2</li>\n",
       "\t<li>2</li>\n",
       "\t<li>2</li>\n",
       "\t<li>2</li>\n",
       "\t<li>2</li>\n",
       "\t<li>2</li>\n",
       "\t<li>2</li>\n",
       "\t<li>2</li>\n",
       "\t<li>3</li>\n",
       "\t<li>3</li>\n",
       "\t<li>3</li>\n",
       "\t<li>3</li>\n",
       "\t<li>3</li>\n",
       "\t<li>3</li>\n",
       "\t<li>3</li>\n",
       "\t<li>3</li>\n",
       "\t<li>3</li>\n",
       "\t<li>3</li>\n",
       "\t<li>3</li>\n",
       "\t<li>3</li>\n",
       "\t<li>3</li>\n",
       "\t<li>3</li>\n",
       "\t<li>3</li>\n",
       "\t<li>3</li>\n",
       "\t<li>3</li>\n",
       "\t<li>3</li>\n",
       "</ol>\n",
       "</dd>\n",
       "</dl>\n"
      ],
      "text/latex": [
       "\\begin{description}\n",
       "\\item[\\$All.index] \\begin{tabular}{r|llllllllllllllllllllllllll}\n",
       "  & KL & CH & Hartigan & CCC & Scott & Marriot & TrCovW & TraceW & Friedman & Rubin & ... & Ratkowsky & Ball & Ptbiserial & Frey & McClain & Dunn & Hubert & SDindex & Dindex & SDbw\\\\\n",
       "\\hline\n",
       "\t2 &  0.1522      & 18.9115      & 28.0068      & -3.7783      &  169.3116    & 4.058139e+16 & 10735.488    & 746.8725     &  4.7689      & 1.1930       & ...          & 0.2480       & 373.4362     & 0.3523       & 0.0715       & 0.5515       & 0.3779       & 0.0026       & 1.3925       & 2.7168       & 0.8532      \\\\\n",
       "\t3 &  2.7303      & 25.8945      & 13.4851      & -0.6313      &  350.2158    & 1.495727e+16 &  5348.327    & 580.8696     & 13.5465      & 1.5339       & ...          & 0.3180       & 193.6232     & 0.5412       & 0.3128       & 1.3384       & 0.3626       & 0.0033       & 1.3286       & 2.3690       & 0.7422      \\\\\n",
       "\t4 & 17.5093      & 23.9089      &  5.2765      & -0.1254      &  454.9175    & 9.332891e+15 &  3771.162    & 509.9723     & 18.1993      & 1.7472       & ...          & 0.3171       & 127.4931     & 0.5628       & 0.2728       & 2.1276       & 0.3902       & 0.0035       & 1.2398       & 2.2220       & 0.7063      \\\\\n",
       "\t5 &  0.0722      & 20.0256      &  9.6180      & -1.4021      &  499.1660    & 9.368438e+15 &  3434.591    & 483.4026     & 20.3460      & 1.8432       & ...          & 0.2954       &  96.6805     & 0.5648       & 0.1117       & 2.5365       & 0.4239       & 0.0037       & 1.3842       & 2.1652       & 0.6999      \\\\\n",
       "\t6 &  1.1271      & 19.3601      &  8.5068      & -0.5711      &  653.7471    & 2.875362e+15 &  3029.985    & 438.9611     & 36.8864      & 2.0298       & ...          & 0.2844       &  73.1602     & 0.5771       & 0.1284       & 2.7577       & 0.4270       & 0.0038       & 1.3228       & 2.0564       & 0.6477      \\\\\n",
       "\t7 &  0.6282      & 18.8090      & 11.7694      &  0.2531      &  714.1314    & 2.139639e+15 &  2654.588    & 402.5325     & 38.3277      & 2.2135       & ...          & 0.2762       &  57.5046     & 0.5831       & 0.2959       & 2.9139       & 0.4313       & 0.0038       & 1.1305       & 1.9584       & 0.5892      \\\\\n",
       "\t8 &  1.3653      & 19.6303      &  9.3917      &  2.3437      &  826.7441    & 9.062616e+14 &  2120.179    & 357.3136     & 45.9781      & 2.4936       & ...          & 0.2699       &  44.6642     & 0.5688       & 0.1124       & 3.5555       & 0.4340       & 0.0043       & 1.2181       & 1.8020       & 0.5389      \\\\\n",
       "\t9 &  1.2514      & 19.8854      &  7.9779      &  3.8792      & 1037.1951    & 1.398240e+14 &  1975.092    & 324.2163     & 70.2393      & 2.7482       & ...          & 0.2617       &  36.0240     & 0.5799       & 0.0375       & 4.2675       & 0.4343       & 0.0046       & 1.1996       & 1.7172       & 0.5345      \\\\\n",
       "\t10 &  1.5809      & 19.8909      &  5.7103      &  4.9118      & 1100.4879    & 9.166837e+13 &  1669.811    & 298.0836     & 72.5877      & 2.9891       & ...          & 0.2544       &  29.8084     & 0.5912       & 0.0393       & 4.4044       & 0.4353       & 0.0047       & 1.1645       & 1.6529       & 0.5217      \\\\\n",
       "\\end{tabular}\n",
       "\n",
       "\\item[\\$All.CriticalValues] \\begin{tabular}{r|lll}\n",
       "  & CritValue\\_Duda & CritValue\\_PseudoT2 & Fvalue\\_Beale\\\\\n",
       "\\hline\n",
       "\t2 & 0.7608  & 22.3171 & 0.0119 \\\\\n",
       "\t3 & 0.7194  & 17.5547 & 0.0723 \\\\\n",
       "\t4 & 0.6523  & 13.3238 & 0.3739 \\\\\n",
       "\t5 & 0.6153  & 11.8814 & 0.0001 \\\\\n",
       "\t6 & 0.5577  & 10.3089 & 0.0000 \\\\\n",
       "\t7 & 0.6471  & 13.0908 & 0.0000 \\\\\n",
       "\t8 & 0.6471  & 13.0908 & 0.0402 \\\\\n",
       "\t9 & 0.5139  &  9.4601 & 0.0006 \\\\\n",
       "\t10 & 0.4496  &  8.5690 & 0.0001 \\\\\n",
       "\\end{tabular}\n",
       "\n",
       "\\item[\\$Best.nc] \\begin{tabular}{r|llllllllllllllllllllllllll}\n",
       "  & KL & CH & Hartigan & CCC & Scott & Marriot & TrCovW & TraceW & Friedman & Rubin & ... & Ratkowsky & Ball & PtBiserial & Frey & McClain & Dunn & Hubert & SDindex & Dindex & SDbw\\\\\n",
       "\\hline\n",
       "\tNumber\\_clusters &  4.0000      &  3.0000      &  3.0000      & 10.0000      &   9.0000     & 3.000000e+00 &    3.000     &  3.0000      &  9.0000      &  3.0000      & ...          & 3.000        &   3.000      & 10.0000      &  1           & 2.0000       & 10.0000      & 0            & 7.0000       & 0            & 10.0000     \\\\\n",
       "\tValue\\_Index & 17.5093      & 25.8945      & 14.5216      &  4.9118      & 210.4509     & 1.999974e+16 & 5387.161     & 95.1055      & 24.2612      & -0.1277      & ...          & 0.318        & 179.813      &  0.5912      & NA           & 0.5515       &  0.4353      & 0            & 1.1305       & 0            &  0.5217     \\\\\n",
       "\\end{tabular}\n",
       "\n",
       "\\item[\\$Best.partition] \\begin{enumerate*}\n",
       "\\item 1\n",
       "\\item 1\n",
       "\\item 1\n",
       "\\item 2\n",
       "\\item 2\n",
       "\\item 1\n",
       "\\item 1\n",
       "\\item 1\n",
       "\\item 1\n",
       "\\item 1\n",
       "\\item 1\n",
       "\\item 1\n",
       "\\item 2\n",
       "\\item 1\n",
       "\\item 1\n",
       "\\item 2\n",
       "\\item 1\n",
       "\\item 1\n",
       "\\item 2\n",
       "\\item 1\n",
       "\\item 1\n",
       "\\item 1\n",
       "\\item 2\n",
       "\\item 2\n",
       "\\item 2\n",
       "\\item 1\n",
       "\\item 2\n",
       "\\item 2\n",
       "\\item 1\n",
       "\\item 2\n",
       "\\item 2\n",
       "\\item 2\n",
       "\\item 3\n",
       "\\item 1\n",
       "\\item 2\n",
       "\\item 1\n",
       "\\item 2\n",
       "\\item 3\n",
       "\\item 3\n",
       "\\item 2\n",
       "\\item 2\n",
       "\\item 3\n",
       "\\item 3\n",
       "\\item 2\n",
       "\\item 3\n",
       "\\item 3\n",
       "\\item 3\n",
       "\\item 2\n",
       "\\item 1\n",
       "\\item 1\n",
       "\\item 2\n",
       "\\item 2\n",
       "\\item 2\n",
       "\\item 2\n",
       "\\item 2\n",
       "\\item 2\n",
       "\\item 2\n",
       "\\item 1\n",
       "\\item 2\n",
       "\\item 2\n",
       "\\item 2\n",
       "\\item 2\n",
       "\\item 2\n",
       "\\item 2\n",
       "\\item 2\n",
       "\\item 1\n",
       "\\item 2\n",
       "\\item 2\n",
       "\\item 1\n",
       "\\item 2\n",
       "\\item 2\n",
       "\\item 2\n",
       "\\item 2\n",
       "\\item 1\n",
       "\\item 2\n",
       "\\item 2\n",
       "\\item 2\n",
       "\\item 2\n",
       "\\item 2\n",
       "\\item 2\n",
       "\\item 2\n",
       "\\item 2\n",
       "\\item 3\n",
       "\\item 3\n",
       "\\item 3\n",
       "\\item 3\n",
       "\\item 3\n",
       "\\item 3\n",
       "\\item 3\n",
       "\\item 3\n",
       "\\item 3\n",
       "\\item 3\n",
       "\\item 3\n",
       "\\item 3\n",
       "\\item 3\n",
       "\\item 3\n",
       "\\item 3\n",
       "\\item 3\n",
       "\\item 3\n",
       "\\item 3\n",
       "\\end{enumerate*}\n",
       "\n",
       "\\end{description}\n"
      ],
      "text/markdown": [
       "$All.index\n",
       ":   1. 0.1522\n",
       "2. 2.7303\n",
       "3. 17.5093\n",
       "4. 0.0722\n",
       "5. 1.1271\n",
       "6. 0.6282\n",
       "7. 1.3653\n",
       "8. 1.2514\n",
       "9. 1.5809\n",
       "10. 18.9115\n",
       "11. 25.8945\n",
       "12. 23.9089\n",
       "13. 20.0256\n",
       "14. 19.3601\n",
       "15. 18.809\n",
       "16. 19.6303\n",
       "17. 19.8854\n",
       "18. 19.8909\n",
       "19. 28.0068\n",
       "20. 13.4851\n",
       "21. 5.2765\n",
       "22. 9.618\n",
       "23. 8.5068\n",
       "24. 11.7694\n",
       "25. 9.3917\n",
       "26. 7.9779\n",
       "27. 5.7103\n",
       "28. -3.7783\n",
       "29. -0.6313\n",
       "30. -0.1254\n",
       "31. -1.4021\n",
       "32. -0.5711\n",
       "33. 0.2531\n",
       "34. 2.3437\n",
       "35. 3.8792\n",
       "36. 4.9118\n",
       "37. 169.3116\n",
       "38. 350.2158\n",
       "39. 454.9175\n",
       "40. 499.166\n",
       "41. 653.7471\n",
       "42. 714.1314\n",
       "43. 826.7441\n",
       "44. 1037.1951\n",
       "45. 1100.4879\n",
       "46. 40581390074387704\n",
       "47. 14957268984608904\n",
       "48. 9332890870404934\n",
       "49. 9368437589467282\n",
       "50. 2875362203257179\n",
       "51. 2139638977001074\n",
       "52. 906261597522728\n",
       "53. 139824027325892\n",
       "54. 91668370778336.5\n",
       "55. 10735.4878\n",
       "56. 5348.3267\n",
       "57. 3771.1625\n",
       "58. 3434.5912\n",
       "59. 3029.9845\n",
       "60. 2654.5883\n",
       "61. 2120.1791\n",
       "62. 1975.0916\n",
       "63. 1669.8109\n",
       "64. 746.8725\n",
       "65. 580.8696\n",
       "66. 509.9723\n",
       "67. 483.4026\n",
       "68. 438.9611\n",
       "69. 402.5325\n",
       "70. 357.3136\n",
       "71. 324.2163\n",
       "72. 298.0836\n",
       "73. 4.7689\n",
       "74. 13.5465\n",
       "75. 18.1993\n",
       "76. 20.346\n",
       "77. 36.8864\n",
       "78. 38.3277\n",
       "79. 45.9781\n",
       "80. 70.2393\n",
       "81. 72.5877\n",
       "82. 1.193\n",
       "83. 1.5339\n",
       "84. 1.7472\n",
       "85. 1.8432\n",
       "86. 2.0298\n",
       "87. 2.2135\n",
       "88. 2.4936\n",
       "89. 2.7482\n",
       "90. 2.9891\n",
       "91. 0.6491\n",
       "92. 0.6053\n",
       "93. 0.598\n",
       "94. 0.6245\n",
       "95. 0.6086\n",
       "96. 0.6014\n",
       "97. 0.577\n",
       "98. 0.5243\n",
       "99. 0.5047\n",
       "100. 1.9635\n",
       "101. 1.8438\n",
       "102. 1.7127\n",
       "103. 1.9292\n",
       "104. 1.7917\n",
       "105. 1.5782\n",
       "106. 1.531\n",
       "107. 1.4994\n",
       "108. 1.3719\n",
       "109. 0.1706\n",
       "110. 0.219\n",
       "111. 0.2124\n",
       "112. 0.1971\n",
       "113. 0.189\n",
       "114. 0.2076\n",
       "115. 0.2512\n",
       "116. 0.2682\n",
       "117. 0.2827\n",
       "118. 0.7133\n",
       "119. 0.7686\n",
       "120. 0.8417\n",
       "121. 0.5852\n",
       "122. 0.5217\n",
       "123. 0.5761\n",
       "124. 0.7421\n",
       "125. 0.5985\n",
       "126. 0.517\n",
       "127. 28.5347\n",
       "128. 13.549\n",
       "129. 4.7025\n",
       "130. 13.4666\n",
       "131. 11.9199\n",
       "132. 17.6574\n",
       "133. 8.3413\n",
       "134. 6.7074\n",
       "135. 6.5407\n",
       "136. 2.3799\n",
       "137. 1.7687\n",
       "138. 1.0861\n",
       "139. 4.0433\n",
       "140. 5.1128\n",
       "141. 4.2413\n",
       "142. 2.0036\n",
       "143. 3.6616\n",
       "144. 4.9095\n",
       "145. 0.248\n",
       "146. 0.318\n",
       "147. 0.3171\n",
       "148. 0.2954\n",
       "149. 0.2844\n",
       "150. 0.2762\n",
       "151. 0.2699\n",
       "152. 0.2617\n",
       "153. 0.2544\n",
       "154. 373.4362\n",
       "155. 193.6232\n",
       "156. 127.4931\n",
       "157. 96.6805\n",
       "158. 73.1602\n",
       "159. 57.5046\n",
       "160. 44.6642\n",
       "161. 36.024\n",
       "162. 29.8084\n",
       "163. 0.3523\n",
       "164. 0.5412\n",
       "165. 0.5628\n",
       "166. 0.5648\n",
       "167. 0.5771\n",
       "168. 0.5831\n",
       "169. 0.5688\n",
       "170. 0.5799\n",
       "171. 0.5912\n",
       "172. 0.0715\n",
       "173. 0.3128\n",
       "174. 0.2728\n",
       "175. 0.1117\n",
       "176. 0.1284\n",
       "177. 0.2959\n",
       "178. 0.1124\n",
       "179. 0.0375\n",
       "180. 0.0393\n",
       "181. 0.5515\n",
       "182. 1.3384\n",
       "183. 2.1276\n",
       "184. 2.5365\n",
       "185. 2.7577\n",
       "186. 2.9139\n",
       "187. 3.5555\n",
       "188. 4.2675\n",
       "189. 4.4044\n",
       "190. 0.3779\n",
       "191. 0.3626\n",
       "192. 0.3902\n",
       "193. 0.4239\n",
       "194. 0.427\n",
       "195. 0.4313\n",
       "196. 0.434\n",
       "197. 0.4343\n",
       "198. 0.4353\n",
       "199. 0.0026\n",
       "200. 0.0033\n",
       "201. 0.0035\n",
       "202. 0.0037\n",
       "203. 0.0038\n",
       "204. 0.0038\n",
       "205. 0.0043\n",
       "206. 0.0046\n",
       "207. 0.0047\n",
       "208. 1.3925\n",
       "209. 1.3286\n",
       "210. 1.2398\n",
       "211. 1.3842\n",
       "212. 1.3228\n",
       "213. 1.1305\n",
       "214. 1.2181\n",
       "215. 1.1996\n",
       "216. 1.1645\n",
       "217. 2.7168\n",
       "218. 2.369\n",
       "219. 2.222\n",
       "220. 2.1652\n",
       "221. 2.0564\n",
       "222. 1.9584\n",
       "223. 1.802\n",
       "224. 1.7172\n",
       "225. 1.6529\n",
       "226. 0.8532\n",
       "227. 0.7422\n",
       "228. 0.7063\n",
       "229. 0.6999\n",
       "230. 0.6477\n",
       "231. 0.5892\n",
       "232. 0.5389\n",
       "233. 0.5345\n",
       "234. 0.5217\n",
       "\n",
       "\n",
       "\n",
       "$All.CriticalValues\n",
       ":   1. 0.7608\n",
       "2. 0.7194\n",
       "3. 0.6523\n",
       "4. 0.6153\n",
       "5. 0.5577\n",
       "6. 0.6471\n",
       "7. 0.6471\n",
       "8. 0.5139\n",
       "9. 0.4496\n",
       "10. 22.3171\n",
       "11. 17.5547\n",
       "12. 13.3238\n",
       "13. 11.8814\n",
       "14. 10.3089\n",
       "15. 13.0908\n",
       "16. 13.0908\n",
       "17. 9.4601\n",
       "18. 8.569\n",
       "19. 0.0119\n",
       "20. 0.0723\n",
       "21. 0.3739\n",
       "22. 1e-04\n",
       "23. 0\n",
       "24. 0\n",
       "25. 0.0402\n",
       "26. 6e-04\n",
       "27. 1e-04\n",
       "\n",
       "\n",
       "\n",
       "$Best.nc\n",
       ":   1. 4\n",
       "2. 17.5093\n",
       "3. 3\n",
       "4. 25.8945\n",
       "5. 3\n",
       "6. 14.5216\n",
       "7. 10\n",
       "8. 4.9118\n",
       "9. 9\n",
       "10. 210.4509\n",
       "11. 3\n",
       "12. 19999742975574832\n",
       "13. 3\n",
       "14. 5387.1611\n",
       "15. 3\n",
       "16. 95.1055\n",
       "17. 9\n",
       "18. 24.2612\n",
       "19. 3\n",
       "20. -0.1277\n",
       "21. 10\n",
       "22. 0.5047\n",
       "23. 10\n",
       "24. 1.3719\n",
       "25. 10\n",
       "26. 0.2827\n",
       "27. 3\n",
       "28. 0.7686\n",
       "29. 3\n",
       "30. 13.549\n",
       "31. 4\n",
       "32. 1.0861\n",
       "33. 3\n",
       "34. 0.318\n",
       "35. 3\n",
       "36. 179.813\n",
       "37. 10\n",
       "38. 0.5912\n",
       "39. 1\n",
       "40. NA\n",
       "41. 2\n",
       "42. 0.5515\n",
       "43. 10\n",
       "44. 0.4353\n",
       "45. 0\n",
       "46. 0\n",
       "47. 7\n",
       "48. 1.1305\n",
       "49. 0\n",
       "50. 0\n",
       "51. 10\n",
       "52. 0.5217\n",
       "\n",
       "\n",
       "\n",
       "$Best.partition\n",
       ":   1. 1\n",
       "2. 1\n",
       "3. 1\n",
       "4. 2\n",
       "5. 2\n",
       "6. 1\n",
       "7. 1\n",
       "8. 1\n",
       "9. 1\n",
       "10. 1\n",
       "11. 1\n",
       "12. 1\n",
       "13. 2\n",
       "14. 1\n",
       "15. 1\n",
       "16. 2\n",
       "17. 1\n",
       "18. 1\n",
       "19. 2\n",
       "20. 1\n",
       "21. 1\n",
       "22. 1\n",
       "23. 2\n",
       "24. 2\n",
       "25. 2\n",
       "26. 1\n",
       "27. 2\n",
       "28. 2\n",
       "29. 1\n",
       "30. 2\n",
       "31. 2\n",
       "32. 2\n",
       "33. 3\n",
       "34. 1\n",
       "35. 2\n",
       "36. 1\n",
       "37. 2\n",
       "38. 3\n",
       "39. 3\n",
       "40. 2\n",
       "41. 2\n",
       "42. 3\n",
       "43. 3\n",
       "44. 2\n",
       "45. 3\n",
       "46. 3\n",
       "47. 3\n",
       "48. 2\n",
       "49. 1\n",
       "50. 1\n",
       "51. 2\n",
       "52. 2\n",
       "53. 2\n",
       "54. 2\n",
       "55. 2\n",
       "56. 2\n",
       "57. 2\n",
       "58. 1\n",
       "59. 2\n",
       "60. 2\n",
       "61. 2\n",
       "62. 2\n",
       "63. 2\n",
       "64. 2\n",
       "65. 2\n",
       "66. 1\n",
       "67. 2\n",
       "68. 2\n",
       "69. 1\n",
       "70. 2\n",
       "71. 2\n",
       "72. 2\n",
       "73. 2\n",
       "74. 1\n",
       "75. 2\n",
       "76. 2\n",
       "77. 2\n",
       "78. 2\n",
       "79. 2\n",
       "80. 2\n",
       "81. 2\n",
       "82. 2\n",
       "83. 3\n",
       "84. 3\n",
       "85. 3\n",
       "86. 3\n",
       "87. 3\n",
       "88. 3\n",
       "89. 3\n",
       "90. 3\n",
       "91. 3\n",
       "92. 3\n",
       "93. 3\n",
       "94. 3\n",
       "95. 3\n",
       "96. 3\n",
       "97. 3\n",
       "98. 3\n",
       "99. 3\n",
       "100. 3\n",
       "\n",
       "\n",
       "\n",
       "\n",
       "\n"
      ],
      "text/plain": [
       "$All.index\n",
       "        KL      CH Hartigan     CCC     Scott      Marriot    TrCovW   TraceW\n",
       "2   0.1522 18.9115  28.0068 -3.7783  169.3116 4.058139e+16 10735.488 746.8725\n",
       "3   2.7303 25.8945  13.4851 -0.6313  350.2158 1.495727e+16  5348.327 580.8696\n",
       "4  17.5093 23.9089   5.2765 -0.1254  454.9175 9.332891e+15  3771.162 509.9723\n",
       "5   0.0722 20.0256   9.6180 -1.4021  499.1660 9.368438e+15  3434.591 483.4026\n",
       "6   1.1271 19.3601   8.5068 -0.5711  653.7471 2.875362e+15  3029.985 438.9611\n",
       "7   0.6282 18.8090  11.7694  0.2531  714.1314 2.139639e+15  2654.588 402.5325\n",
       "8   1.3653 19.6303   9.3917  2.3437  826.7441 9.062616e+14  2120.179 357.3136\n",
       "9   1.2514 19.8854   7.9779  3.8792 1037.1951 1.398240e+14  1975.092 324.2163\n",
       "10  1.5809 19.8909   5.7103  4.9118 1100.4879 9.166837e+13  1669.811 298.0836\n",
       "   Friedman  Rubin Cindex     DB Silhouette   Duda Pseudot2  Beale Ratkowsky\n",
       "2    4.7689 1.1930 0.6491 1.9635     0.1706 0.7133  28.5347 2.3799    0.2480\n",
       "3   13.5465 1.5339 0.6053 1.8438     0.2190 0.7686  13.5490 1.7687    0.3180\n",
       "4   18.1993 1.7472 0.5980 1.7127     0.2124 0.8417   4.7025 1.0861    0.3171\n",
       "5   20.3460 1.8432 0.6245 1.9292     0.1971 0.5852  13.4666 4.0433    0.2954\n",
       "6   36.8864 2.0298 0.6086 1.7917     0.1890 0.5217  11.9199 5.1128    0.2844\n",
       "7   38.3277 2.2135 0.6014 1.5782     0.2076 0.5761  17.6574 4.2413    0.2762\n",
       "8   45.9781 2.4936 0.5770 1.5310     0.2512 0.7421   8.3413 2.0036    0.2699\n",
       "9   70.2393 2.7482 0.5243 1.4994     0.2682 0.5985   6.7074 3.6616    0.2617\n",
       "10  72.5877 2.9891 0.5047 1.3719     0.2827 0.5170   6.5407 4.9095    0.2544\n",
       "       Ball Ptbiserial   Frey McClain   Dunn Hubert SDindex Dindex   SDbw\n",
       "2  373.4362     0.3523 0.0715  0.5515 0.3779 0.0026  1.3925 2.7168 0.8532\n",
       "3  193.6232     0.5412 0.3128  1.3384 0.3626 0.0033  1.3286 2.3690 0.7422\n",
       "4  127.4931     0.5628 0.2728  2.1276 0.3902 0.0035  1.2398 2.2220 0.7063\n",
       "5   96.6805     0.5648 0.1117  2.5365 0.4239 0.0037  1.3842 2.1652 0.6999\n",
       "6   73.1602     0.5771 0.1284  2.7577 0.4270 0.0038  1.3228 2.0564 0.6477\n",
       "7   57.5046     0.5831 0.2959  2.9139 0.4313 0.0038  1.1305 1.9584 0.5892\n",
       "8   44.6642     0.5688 0.1124  3.5555 0.4340 0.0043  1.2181 1.8020 0.5389\n",
       "9   36.0240     0.5799 0.0375  4.2675 0.4343 0.0046  1.1996 1.7172 0.5345\n",
       "10  29.8084     0.5912 0.0393  4.4044 0.4353 0.0047  1.1645 1.6529 0.5217\n",
       "\n",
       "$All.CriticalValues\n",
       "   CritValue_Duda CritValue_PseudoT2 Fvalue_Beale\n",
       "2          0.7608            22.3171       0.0119\n",
       "3          0.7194            17.5547       0.0723\n",
       "4          0.6523            13.3238       0.3739\n",
       "5          0.6153            11.8814       0.0001\n",
       "6          0.5577            10.3089       0.0000\n",
       "7          0.6471            13.0908       0.0000\n",
       "8          0.6471            13.0908       0.0402\n",
       "9          0.5139             9.4601       0.0006\n",
       "10         0.4496             8.5690       0.0001\n",
       "\n",
       "$Best.nc\n",
       "                     KL      CH Hartigan     CCC    Scott      Marriot   TrCovW\n",
       "Number_clusters  4.0000  3.0000   3.0000 10.0000   9.0000 3.000000e+00    3.000\n",
       "Value_Index     17.5093 25.8945  14.5216  4.9118 210.4509 1.999974e+16 5387.161\n",
       "                 TraceW Friedman   Rubin  Cindex      DB Silhouette   Duda\n",
       "Number_clusters  3.0000   9.0000  3.0000 10.0000 10.0000    10.0000 3.0000\n",
       "Value_Index     95.1055  24.2612 -0.1277  0.5047  1.3719     0.2827 0.7686\n",
       "                PseudoT2  Beale Ratkowsky    Ball PtBiserial Frey McClain\n",
       "Number_clusters    3.000 4.0000     3.000   3.000    10.0000    1  2.0000\n",
       "Value_Index       13.549 1.0861     0.318 179.813     0.5912   NA  0.5515\n",
       "                   Dunn Hubert SDindex Dindex    SDbw\n",
       "Number_clusters 10.0000      0  7.0000      0 10.0000\n",
       "Value_Index      0.4353      0  1.1305      0  0.5217\n",
       "\n",
       "$Best.partition\n",
       "  [1] 1 1 1 2 2 1 1 1 1 1 1 1 2 1 1 2 1 1 2 1 1 1 2 2 2 1 2 2 1 2 2 2 3 1 2 1 2\n",
       " [38] 3 3 2 2 3 3 2 3 3 3 2 1 1 2 2 2 2 2 2 2 1 2 2 2 2 2 2 2 1 2 2 1 2 2 2 2 1\n",
       " [75] 2 2 2 2 2 2 2 2 3 3 3 3 3 3 3 3 3 3 3 3 3 3 3 3 3 3\n"
      ]
     },
     "metadata": {},
     "output_type": "display_data"
    },
    {
     "data": {
      "image/png": "[encoded data removed]",
      "text/plain": [
       "plot without title"
      ]
     },
     "metadata": {},
     "output_type": "display_data"
    }
   ],
   "source": [
    "hbrt = NbClust(sessions.df.scaled,distance=\"euclidean\", min.nc=2, max.nc=10,method='complete',index='all')\n",
    "hbrt"
   ]
  },
  {
   "cell_type": "code",
   "execution_count": 62,
   "metadata": {
    "collapsed": false
   },
   "outputs": [
    {
     "name": "stdout",
     "output_type": "stream",
     "text": [
      "Among all indices: \n",
      "===================\n",
      "* 2 proposed  0 as the best number of clusters\n",
      "* 1 proposed  1 as the best number of clusters\n",
      "* 1 proposed  2 as the best number of clusters\n",
      "* 10 proposed  3 as the best number of clusters\n",
      "* 2 proposed  4 as the best number of clusters\n",
      "* 1 proposed  7 as the best number of clusters\n",
      "* 2 proposed  9 as the best number of clusters\n",
      "* 7 proposed  10 as the best number of clusters\n",
      "\n",
      "Conclusion\n",
      "=========================\n",
      "* According to the majority rule, the best number of clusters is  3 .\n",
      "\n"
     ]
    },
    {
     "data": {},
     "metadata": {},
     "output_type": "display_data"
    },
    {
     "data": {
      "image/png": "[encoded data removed]",
      "text/plain": [
       "plot without title"
      ]
     },
     "metadata": {},
     "output_type": "display_data"
    }
   ],
   "source": [
    "fviz_nbclust(hbrt) + theme_minimal()"
   ]
  },
  {
   "cell_type": "markdown",
   "metadata": {},
   "source": [
    "# Best Cluster Size (3) - Cluster Analysis"
   ]
  },
  {
   "cell_type": "code",
   "execution_count": 78,
   "metadata": {
    "collapsed": false
   },
   "outputs": [
    {
     "name": "stdout",
     "output_type": "stream",
     "text": [
      "\f"
     ]
    },
    {
     "data": {
      "text/plain": [
       "kcca object of family 'kmeans' \n",
       "\n",
       "call:\n",
       "kcca(x = sessions.df[sessions.df[[\"train\"]] == TRUE, 1:2], k = 3, \n",
       "    family = kccaFamily(\"kmeans\"))\n",
       "\n",
       "cluster sizes:\n",
       "\n",
       " 1  2  3 \n",
       "14 31 25 \n"
      ]
     },
     "metadata": {},
     "output_type": "display_data"
    },
    {
     "data": {
      "image/png": "[encoded data removed]",
      "text/plain": [
       "plot without title"
      ]
     },
     "metadata": {},
     "output_type": "display_data"
    }
   ],
   "source": [
    "# Clear objects from Memory\n",
    "rm(list=ls())\n",
    "# Clear Console:\n",
    "cat(\"\\014\")\n",
    "\n",
    "# Read Data Source\n",
    "read.data = function(file=file){\n",
    "  read.csv(file,header = TRUE,stringsAsFactors = FALSE)\n",
    "}\n",
    "sessions.df = read.data('Sessions.csv')\n",
    "if(!require(dplyr)){install.packages(\"dplyr\")}\n",
    "if(!require(flexclust)){install.packages(\"flexclust\")}\n",
    "\n",
    "set.seed(1)\n",
    "ind = sample(nrow(sessions.df), 30)\n",
    "sessions.df[[\"train\"]] = TRUE\n",
    "sessions.df[[\"train\"]][ind] = FALSE\n",
    "\n",
    "cl3 = kcca(sessions.df[sessions.df[[\"train\"]] == TRUE, 1:2], k=3, kccaFamily(\"kmeans\"))\n",
    "cl3\n",
    "\n",
    "pred.train <- predict(cl3)\n",
    "pred.test <- predict(cl3, newdata=sessions.df[sessions.df[[\"train\"]]==FALSE, 1:2])\n",
    "\n",
    "image(cl3)\n",
    "points(sessions.df[sessions.df[[\"train\"]]==TRUE, 1:2], col=pred.train, pch=19, cex=0.3)\n",
    "points(sessions.df[sessions.df[[\"train\"]]==FALSE, 1:2], col=pred.test, pch=22, bg=\"orange\")\n",
    "\n"
   ]
  },
  {
   "cell_type": "code",
   "execution_count": 79,
   "metadata": {
    "collapsed": false
   },
   "outputs": [
    {
     "data": {
      "text/plain": [
       "K-means clustering with 3 clusters of sizes 24, 45, 31\n",
       "\n",
       "Cluster means:\n",
       "        Home  Products    Search     Prod_A    Prod_B    Prod_C      Cart\n",
       "1 0.87500000 0.6666667 0.4166667 0.75000000 0.5000000 0.3750000 0.5416667\n",
       "2 0.84444444 0.5777778 0.5111111 0.73333333 0.2666667 0.3555556 0.7555556\n",
       "3 0.03225806 0.9677419 0.3225806 0.06451613 1.0000000 0.6451613 0.4516129\n",
       "   Purchase     train\n",
       "1 0.3750000 0.0000000\n",
       "2 0.4666667 1.0000000\n",
       "3 0.2903226 0.8064516\n",
       "\n",
       "Clustering vector:\n",
       "  [1] 1 2 2 2 2 1 2 2 2 1 2 2 2 2 2 1 1 2 1 1 1 2 2 2 1 3 1 1 1 2 2 1 2 1 2 2 1\n",
       " [38] 3 3 3 3 3 3 3 3 3 3 2 2 2 1 2 2 2 3 2 1 1 2 2 1 1 1 2 2 2 1 2 2 2 2 2 2 2\n",
       " [75] 1 2 2 2 2 3 1 2 3 3 3 3 3 3 3 3 3 3 3 3 3 3 3 3 3 3\n",
       "\n",
       "Within cluster sum of squares by cluster:\n",
       "[1] 41.50000 75.55556 36.58065\n",
       " (between_SS / total_SS =  27.4 %)\n",
       "\n",
       "Available components:\n",
       "\n",
       "[1] \"cluster\"      \"centers\"      \"totss\"        \"withinss\"     \"tot.withinss\"\n",
       "[6] \"betweenss\"    \"size\"         \"iter\"         \"ifault\"      "
      ]
     },
     "metadata": {},
     "output_type": "display_data"
    },
    {
     "data": {
      "text/html": [
       "<table>\n",
       "<thead><tr><th scope=col>Group.1</th><th scope=col>Home</th><th scope=col>Products</th><th scope=col>Search</th><th scope=col>Prod_A</th><th scope=col>Prod_B</th><th scope=col>Prod_C</th><th scope=col>Cart</th><th scope=col>Purchase</th><th scope=col>train</th></tr></thead>\n",
       "<tbody>\n",
       "\t<tr><td>1         </td><td>0.87500000</td><td>0.6666667 </td><td>0.4166667 </td><td>0.75000000</td><td>0.5000000 </td><td>0.3750000 </td><td>0.5416667 </td><td>0.3750000 </td><td>0.0000000 </td></tr>\n",
       "\t<tr><td>2         </td><td>0.84444444</td><td>0.5777778 </td><td>0.5111111 </td><td>0.73333333</td><td>0.2666667 </td><td>0.3555556 </td><td>0.7555556 </td><td>0.4666667 </td><td>1.0000000 </td></tr>\n",
       "\t<tr><td>3         </td><td>0.03225806</td><td>0.9677419 </td><td>0.3225806 </td><td>0.06451613</td><td>1.0000000 </td><td>0.6451613 </td><td>0.4516129 </td><td>0.2903226 </td><td>0.8064516 </td></tr>\n",
       "</tbody>\n",
       "</table>\n"
      ],
      "text/latex": [
       "\\begin{tabular}{r|llllllllll}\n",
       " Group.1 & Home & Products & Search & Prod\\_A & Prod\\_B & Prod\\_C & Cart & Purchase & train\\\\\n",
       "\\hline\n",
       "\t 1          & 0.87500000 & 0.6666667  & 0.4166667  & 0.75000000 & 0.5000000  & 0.3750000  & 0.5416667  & 0.3750000  & 0.0000000 \\\\\n",
       "\t 2          & 0.84444444 & 0.5777778  & 0.5111111  & 0.73333333 & 0.2666667  & 0.3555556  & 0.7555556  & 0.4666667  & 1.0000000 \\\\\n",
       "\t 3          & 0.03225806 & 0.9677419  & 0.3225806  & 0.06451613 & 1.0000000  & 0.6451613  & 0.4516129  & 0.2903226  & 0.8064516 \\\\\n",
       "\\end{tabular}\n"
      ],
      "text/plain": [
       "  Group.1 Home       Products  Search    Prod_A     Prod_B    Prod_C   \n",
       "1 1       0.87500000 0.6666667 0.4166667 0.75000000 0.5000000 0.3750000\n",
       "2 2       0.84444444 0.5777778 0.5111111 0.73333333 0.2666667 0.3555556\n",
       "3 3       0.03225806 0.9677419 0.3225806 0.06451613 1.0000000 0.6451613\n",
       "  Cart      Purchase  train    \n",
       "1 0.5416667 0.3750000 0.0000000\n",
       "2 0.7555556 0.4666667 1.0000000\n",
       "3 0.4516129 0.2903226 0.8064516"
      ]
     },
     "metadata": {},
     "output_type": "display_data"
    },
    {
     "data": {
      "text/html": [
       "<table>\n",
       "<thead><tr><th scope=col>Home</th><th scope=col>Products</th><th scope=col>Search</th><th scope=col>Prod_A</th><th scope=col>Prod_B</th><th scope=col>Prod_C</th><th scope=col>Cart</th><th scope=col>Purchase</th><th scope=col>train</th><th scope=col>k3.cluster</th></tr></thead>\n",
       "<tbody>\n",
       "\t<tr><td>1    </td><td>0    </td><td>0    </td><td>0    </td><td>0    </td><td>0    </td><td>0    </td><td>0    </td><td>FALSE</td><td>1    </td></tr>\n",
       "\t<tr><td>1    </td><td>1    </td><td>1    </td><td>0    </td><td>0    </td><td>0    </td><td>1    </td><td>0    </td><td> TRUE</td><td>2    </td></tr>\n",
       "\t<tr><td>1    </td><td>0    </td><td>0    </td><td>0    </td><td>0    </td><td>0    </td><td>0    </td><td>0    </td><td> TRUE</td><td>2    </td></tr>\n",
       "\t<tr><td>1    </td><td>1    </td><td>1    </td><td>1    </td><td>0    </td><td>0    </td><td>1    </td><td>1    </td><td> TRUE</td><td>2    </td></tr>\n",
       "\t<tr><td>1    </td><td>0    </td><td>1    </td><td>1    </td><td>1    </td><td>0    </td><td>1    </td><td>1    </td><td> TRUE</td><td>2    </td></tr>\n",
       "\t<tr><td>1    </td><td>1    </td><td>1    </td><td>0    </td><td>1    </td><td>0    </td><td>0    </td><td>0    </td><td>FALSE</td><td>1    </td></tr>\n",
       "</tbody>\n",
       "</table>\n"
      ],
      "text/latex": [
       "\\begin{tabular}{r|llllllllll}\n",
       " Home & Products & Search & Prod\\_A & Prod\\_B & Prod\\_C & Cart & Purchase & train & k3.cluster\\\\\n",
       "\\hline\n",
       "\t 1     & 0     & 0     & 0     & 0     & 0     & 0     & 0     & FALSE & 1    \\\\\n",
       "\t 1     & 1     & 1     & 0     & 0     & 0     & 1     & 0     &  TRUE & 2    \\\\\n",
       "\t 1     & 0     & 0     & 0     & 0     & 0     & 0     & 0     &  TRUE & 2    \\\\\n",
       "\t 1     & 1     & 1     & 1     & 0     & 0     & 1     & 1     &  TRUE & 2    \\\\\n",
       "\t 1     & 0     & 1     & 1     & 1     & 0     & 1     & 1     &  TRUE & 2    \\\\\n",
       "\t 1     & 1     & 1     & 0     & 1     & 0     & 0     & 0     & FALSE & 1    \\\\\n",
       "\\end{tabular}\n"
      ],
      "text/plain": [
       "  Home Products Search Prod_A Prod_B Prod_C Cart Purchase train k3.cluster\n",
       "1 1    0        0      0      0      0      0    0        FALSE 1         \n",
       "2 1    1        1      0      0      0      1    0         TRUE 2         \n",
       "3 1    0        0      0      0      0      0    0         TRUE 2         \n",
       "4 1    1        1      1      0      0      1    1         TRUE 2         \n",
       "5 1    0        1      1      1      0      1    1         TRUE 2         \n",
       "6 1    1        1      0      1      0      0    0        FALSE 1         "
      ]
     },
     "metadata": {},
     "output_type": "display_data"
    }
   ],
   "source": [
    "k3 = kmeans(sessions.df,3) # 3 clusters\n",
    "k3\n",
    "#get cluster means\n",
    "aggregate(sessions.df,by=list(k3$cluster),FUN=mean)\n",
    "#append cluster assignment\n",
    "sessions.df = data.frame(sessions.df,k3$cluster)\n",
    "head(sessions.df)"
   ]
  },
  {
   "cell_type": "code",
   "execution_count": 80,
   "metadata": {
    "collapsed": false
   },
   "outputs": [
    {
     "data": {
      "image/png": "[encoded data removed]",
      "text/plain": [
       "Plot with title \"CLUSPLOT( sessions.df )\""
      ]
     },
     "metadata": {},
     "output_type": "display_data"
    }
   ],
   "source": [
    "if(!require(cluster)){install.packages(\"cluster\")}\n",
    "#plot cluster\n",
    "clusplot(sessions.df,k3$cluster,color=TRUE,shade=TRUE,labels=2,lines=0)\n"
   ]
  },
  {
   "cell_type": "code",
   "execution_count": 81,
   "metadata": {
    "collapsed": false
   },
   "outputs": [
    {
     "data": {
      "text/html": [
       "24"
      ],
      "text/latex": [
       "24"
      ],
      "text/markdown": [
       "24"
      ],
      "text/plain": [
       "[1] 24"
      ]
     },
     "metadata": {},
     "output_type": "display_data"
    },
    {
     "data": {
      "text/html": [
       "'Q1 Path Observations:5 of 24 Q1 Path Frequencey: 20.83%'"
      ],
      "text/latex": [
       "'Q1 Path Observations:5 of 24 Q1 Path Frequencey: 20.83\\%'"
      ],
      "text/markdown": [
       "'Q1 Path Observations:5 of 24 Q1 Path Frequencey: 20.83%'"
      ],
      "text/plain": [
       "[1] \"Q1 Path Observations:5 of 24 Q1 Path Frequencey: 20.83%\""
      ]
     },
     "metadata": {},
     "output_type": "display_data"
    },
    {
     "data": {
      "text/html": [
       "<table>\n",
       "<thead><tr><th></th><th scope=col>Home</th><th scope=col>Products</th><th scope=col>Search</th><th scope=col>Prod_A</th><th scope=col>Prod_B</th><th scope=col>Prod_C</th><th scope=col>Cart</th><th scope=col>Purchase</th><th scope=col>train</th><th scope=col>k3.cluster</th></tr></thead>\n",
       "<tbody>\n",
       "\t<tr><th scope=row>6</th><td>1    </td><td>1    </td><td>1    </td><td>0    </td><td>1    </td><td>0    </td><td>0    </td><td>0    </td><td>FALSE</td><td>1    </td></tr>\n",
       "\t<tr><th scope=row>10</th><td>1    </td><td>0    </td><td>1    </td><td>1    </td><td>1    </td><td>1    </td><td>1    </td><td>1    </td><td>FALSE</td><td>1    </td></tr>\n",
       "\t<tr><th scope=row>16</th><td>1    </td><td>1    </td><td>1    </td><td>1    </td><td>1    </td><td>0    </td><td>1    </td><td>1    </td><td>FALSE</td><td>1    </td></tr>\n",
       "\t<tr><th scope=row>29</th><td>1    </td><td>1    </td><td>1    </td><td>1    </td><td>1    </td><td>1    </td><td>0    </td><td>0    </td><td>FALSE</td><td>1    </td></tr>\n",
       "\t<tr><th scope=row>34</th><td>1    </td><td>1    </td><td>1    </td><td>0    </td><td>1    </td><td>1    </td><td>0    </td><td>0    </td><td>FALSE</td><td>1    </td></tr>\n",
       "</tbody>\n",
       "</table>\n"
      ],
      "text/latex": [
       "\\begin{tabular}{r|llllllllll}\n",
       "  & Home & Products & Search & Prod\\_A & Prod\\_B & Prod\\_C & Cart & Purchase & train & k3.cluster\\\\\n",
       "\\hline\n",
       "\t6 & 1     & 1     & 1     & 0     & 1     & 0     & 0     & 0     & FALSE & 1    \\\\\n",
       "\t10 & 1     & 0     & 1     & 1     & 1     & 1     & 1     & 1     & FALSE & 1    \\\\\n",
       "\t16 & 1     & 1     & 1     & 1     & 1     & 0     & 1     & 1     & FALSE & 1    \\\\\n",
       "\t29 & 1     & 1     & 1     & 1     & 1     & 1     & 0     & 0     & FALSE & 1    \\\\\n",
       "\t34 & 1     & 1     & 1     & 0     & 1     & 1     & 0     & 0     & FALSE & 1    \\\\\n",
       "\\end{tabular}\n"
      ],
      "text/plain": [
       "   Home Products Search Prod_A Prod_B Prod_C Cart Purchase train k3.cluster\n",
       "6  1    1        1      0      1      0      0    0        FALSE 1         \n",
       "10 1    0        1      1      1      1      1    1        FALSE 1         \n",
       "16 1    1        1      1      1      0      1    1        FALSE 1         \n",
       "29 1    1        1      1      1      1      0    0        FALSE 1         \n",
       "34 1    1        1      0      1      1      0    0        FALSE 1         "
      ]
     },
     "metadata": {},
     "output_type": "display_data"
    },
    {
     "data": {
      "text/html": [
       "'Prod_A Observations of Q1 Path: 3 of 5'"
      ],
      "text/latex": [
       "'Prod\\_A Observations of Q1 Path: 3 of 5'"
      ],
      "text/markdown": [
       "'Prod_A Observations of Q1 Path: 3 of 5'"
      ],
      "text/plain": [
       "[1] \"Prod_A Observations of Q1 Path: 3 of 5\""
      ]
     },
     "metadata": {},
     "output_type": "display_data"
    },
    {
     "data": {
      "text/html": [
       "<table>\n",
       "<thead><tr><th></th><th scope=col>Home</th><th scope=col>Products</th><th scope=col>Search</th><th scope=col>Prod_A</th><th scope=col>Prod_B</th><th scope=col>Prod_C</th><th scope=col>Cart</th><th scope=col>Purchase</th><th scope=col>train</th><th scope=col>k3.cluster</th></tr></thead>\n",
       "<tbody>\n",
       "\t<tr><th scope=row>10</th><td>1    </td><td>0    </td><td>1    </td><td>1    </td><td>1    </td><td>1    </td><td>1    </td><td>1    </td><td>FALSE</td><td>1    </td></tr>\n",
       "\t<tr><th scope=row>16</th><td>1    </td><td>1    </td><td>1    </td><td>1    </td><td>1    </td><td>0    </td><td>1    </td><td>1    </td><td>FALSE</td><td>1    </td></tr>\n",
       "\t<tr><th scope=row>29</th><td>1    </td><td>1    </td><td>1    </td><td>1    </td><td>1    </td><td>1    </td><td>0    </td><td>0    </td><td>FALSE</td><td>1    </td></tr>\n",
       "</tbody>\n",
       "</table>\n"
      ],
      "text/latex": [
       "\\begin{tabular}{r|llllllllll}\n",
       "  & Home & Products & Search & Prod\\_A & Prod\\_B & Prod\\_C & Cart & Purchase & train & k3.cluster\\\\\n",
       "\\hline\n",
       "\t10 & 1     & 0     & 1     & 1     & 1     & 1     & 1     & 1     & FALSE & 1    \\\\\n",
       "\t16 & 1     & 1     & 1     & 1     & 1     & 0     & 1     & 1     & FALSE & 1    \\\\\n",
       "\t29 & 1     & 1     & 1     & 1     & 1     & 1     & 0     & 0     & FALSE & 1    \\\\\n",
       "\\end{tabular}\n"
      ],
      "text/plain": [
       "   Home Products Search Prod_A Prod_B Prod_C Cart Purchase train k3.cluster\n",
       "10 1    0        1      1      1      1      1    1        FALSE 1         \n",
       "16 1    1        1      1      1      0      1    1        FALSE 1         \n",
       "29 1    1        1      1      1      1      0    0        FALSE 1         "
      ]
     },
     "metadata": {},
     "output_type": "display_data"
    },
    {
     "data": {
      "text/html": [
       "'Prod_C Observations of Q1 Path: 3 of 5'"
      ],
      "text/latex": [
       "'Prod\\_C Observations of Q1 Path: 3 of 5'"
      ],
      "text/markdown": [
       "'Prod_C Observations of Q1 Path: 3 of 5'"
      ],
      "text/plain": [
       "[1] \"Prod_C Observations of Q1 Path: 3 of 5\""
      ]
     },
     "metadata": {},
     "output_type": "display_data"
    },
    {
     "data": {
      "text/html": [
       "<table>\n",
       "<thead><tr><th></th><th scope=col>Home</th><th scope=col>Products</th><th scope=col>Search</th><th scope=col>Prod_A</th><th scope=col>Prod_B</th><th scope=col>Prod_C</th><th scope=col>Cart</th><th scope=col>Purchase</th><th scope=col>train</th><th scope=col>k3.cluster</th></tr></thead>\n",
       "<tbody>\n",
       "\t<tr><th scope=row>10</th><td>1    </td><td>0    </td><td>1    </td><td>1    </td><td>1    </td><td>1    </td><td>1    </td><td>1    </td><td>FALSE</td><td>1    </td></tr>\n",
       "\t<tr><th scope=row>29</th><td>1    </td><td>1    </td><td>1    </td><td>1    </td><td>1    </td><td>1    </td><td>0    </td><td>0    </td><td>FALSE</td><td>1    </td></tr>\n",
       "\t<tr><th scope=row>34</th><td>1    </td><td>1    </td><td>1    </td><td>0    </td><td>1    </td><td>1    </td><td>0    </td><td>0    </td><td>FALSE</td><td>1    </td></tr>\n",
       "</tbody>\n",
       "</table>\n"
      ],
      "text/latex": [
       "\\begin{tabular}{r|llllllllll}\n",
       "  & Home & Products & Search & Prod\\_A & Prod\\_B & Prod\\_C & Cart & Purchase & train & k3.cluster\\\\\n",
       "\\hline\n",
       "\t10 & 1     & 0     & 1     & 1     & 1     & 1     & 1     & 1     & FALSE & 1    \\\\\n",
       "\t29 & 1     & 1     & 1     & 1     & 1     & 1     & 0     & 0     & FALSE & 1    \\\\\n",
       "\t34 & 1     & 1     & 1     & 0     & 1     & 1     & 0     & 0     & FALSE & 1    \\\\\n",
       "\\end{tabular}\n"
      ],
      "text/plain": [
       "   Home Products Search Prod_A Prod_B Prod_C Cart Purchase train k3.cluster\n",
       "10 1    0        1      1      1      1      1    1        FALSE 1         \n",
       "29 1    1        1      1      1      1      0    0        FALSE 1         \n",
       "34 1    1        1      0      1      1      0    0        FALSE 1         "
      ]
     },
     "metadata": {},
     "output_type": "display_data"
    }
   ],
   "source": [
    "df.c1 = sessions.df[which(sessions.df$k3.cluster == 1),]\n",
    "nrow(df.c1)\n",
    "#head(df.c1)\n",
    "# Path 1 - Home => Search => Prod_B\n",
    "q1.c1 = df.c1[which(df.c1$Home == 1 & df.c1$Search == 1 & df.c1$Prod_B == 1),]\n",
    "q1.c1.percent = round(nrow(q1.c1)/nrow(df.c1)*100,2)\n",
    "paste0(\"Q1 Path Observations:\",nrow(q1.c1),\" of \",nrow(df.c1), \" Q1 Path Frequencey: \",q1.c1.percent,\"%\")\n",
    "q1.c1\n",
    "# What Product next, Prod_A?\n",
    "q1.c1.prod_a = q1.c1[which(q1.c1$Prod_A == 1),]\n",
    "paste0(\"Prod_A Observations of Q1 Path: \",nrow(q1.c1.prod_a),' of ', nrow(q1.c1))\n",
    "q1.c1.prod_a\n",
    "\n",
    "# What Product next, Prod_C?\n",
    "q1.c1.prod_c = q1.c1[which(q1.c1$Prod_C == 1),]\n",
    "paste0(\"Prod_C Observations of Q1 Path: \",nrow(q1.c1.prod_c),' of ', nrow(q1.c1))\n",
    "q1.c1.prod_c\n",
    "\n",
    "# Path 2 - Products => Prod_B\n",
    "q1.c1.p = df.c1[which(df.c1$Home == 1 & df.c1$Search == 1 & df.c1$Prod_B == 1),]"
   ]
  },
  {
   "cell_type": "code",
   "execution_count": 83,
   "metadata": {
    "collapsed": false
   },
   "outputs": [
    {
     "data": {
      "text/html": [
       "45"
      ],
      "text/latex": [
       "45"
      ],
      "text/markdown": [
       "45"
      ],
      "text/plain": [
       "[1] 45"
      ]
     },
     "metadata": {},
     "output_type": "display_data"
    },
    {
     "data": {
      "text/html": [
       "'Q1 Path Observations:6 of 45 Q1 Path Frequencey: 13.33%'"
      ],
      "text/latex": [
       "'Q1 Path Observations:6 of 45 Q1 Path Frequencey: 13.33\\%'"
      ],
      "text/markdown": [
       "'Q1 Path Observations:6 of 45 Q1 Path Frequencey: 13.33%'"
      ],
      "text/plain": [
       "[1] \"Q1 Path Observations:6 of 45 Q1 Path Frequencey: 13.33%\""
      ]
     },
     "metadata": {},
     "output_type": "display_data"
    },
    {
     "data": {
      "text/html": [
       "<table>\n",
       "<thead><tr><th></th><th scope=col>Home</th><th scope=col>Products</th><th scope=col>Search</th><th scope=col>Prod_A</th><th scope=col>Prod_B</th><th scope=col>Prod_C</th><th scope=col>Cart</th><th scope=col>Purchase</th><th scope=col>train</th><th scope=col>k3.cluster</th></tr></thead>\n",
       "<tbody>\n",
       "\t<tr><th scope=row>5</th><td>1   </td><td>0   </td><td>1   </td><td>1   </td><td>1   </td><td>0   </td><td>1   </td><td>1   </td><td>TRUE</td><td>2   </td></tr>\n",
       "\t<tr><th scope=row>8</th><td>1   </td><td>0   </td><td>1   </td><td>0   </td><td>1   </td><td>0   </td><td>0   </td><td>0   </td><td>TRUE</td><td>2   </td></tr>\n",
       "\t<tr><th scope=row>9</th><td>1   </td><td>1   </td><td>1   </td><td>0   </td><td>1   </td><td>0   </td><td>1   </td><td>0   </td><td>TRUE</td><td>2   </td></tr>\n",
       "\t<tr><th scope=row>11</th><td>1   </td><td>0   </td><td>1   </td><td>1   </td><td>1   </td><td>1   </td><td>1   </td><td>0   </td><td>TRUE</td><td>2   </td></tr>\n",
       "\t<tr><th scope=row>15</th><td>1   </td><td>0   </td><td>1   </td><td>1   </td><td>1   </td><td>1   </td><td>0   </td><td>0   </td><td>TRUE</td><td>2   </td></tr>\n",
       "\t<tr><th scope=row>36</th><td>1   </td><td>1   </td><td>1   </td><td>1   </td><td>1   </td><td>1   </td><td>0   </td><td>0   </td><td>TRUE</td><td>2   </td></tr>\n",
       "</tbody>\n",
       "</table>\n"
      ],
      "text/latex": [
       "\\begin{tabular}{r|llllllllll}\n",
       "  & Home & Products & Search & Prod\\_A & Prod\\_B & Prod\\_C & Cart & Purchase & train & k3.cluster\\\\\n",
       "\\hline\n",
       "\t5 & 1    & 0    & 1    & 1    & 1    & 0    & 1    & 1    & TRUE & 2   \\\\\n",
       "\t8 & 1    & 0    & 1    & 0    & 1    & 0    & 0    & 0    & TRUE & 2   \\\\\n",
       "\t9 & 1    & 1    & 1    & 0    & 1    & 0    & 1    & 0    & TRUE & 2   \\\\\n",
       "\t11 & 1    & 0    & 1    & 1    & 1    & 1    & 1    & 0    & TRUE & 2   \\\\\n",
       "\t15 & 1    & 0    & 1    & 1    & 1    & 1    & 0    & 0    & TRUE & 2   \\\\\n",
       "\t36 & 1    & 1    & 1    & 1    & 1    & 1    & 0    & 0    & TRUE & 2   \\\\\n",
       "\\end{tabular}\n"
      ],
      "text/plain": [
       "   Home Products Search Prod_A Prod_B Prod_C Cart Purchase train k3.cluster\n",
       "5  1    0        1      1      1      0      1    1        TRUE  2         \n",
       "8  1    0        1      0      1      0      0    0        TRUE  2         \n",
       "9  1    1        1      0      1      0      1    0        TRUE  2         \n",
       "11 1    0        1      1      1      1      1    0        TRUE  2         \n",
       "15 1    0        1      1      1      1      0    0        TRUE  2         \n",
       "36 1    1        1      1      1      1      0    0        TRUE  2         "
      ]
     },
     "metadata": {},
     "output_type": "display_data"
    },
    {
     "data": {
      "text/html": [
       "'Prod_A Observations of Q1 Path: 4 of 6'"
      ],
      "text/latex": [
       "'Prod\\_A Observations of Q1 Path: 4 of 6'"
      ],
      "text/markdown": [
       "'Prod_A Observations of Q1 Path: 4 of 6'"
      ],
      "text/plain": [
       "[1] \"Prod_A Observations of Q1 Path: 4 of 6\""
      ]
     },
     "metadata": {},
     "output_type": "display_data"
    },
    {
     "data": {
      "text/html": [
       "<table>\n",
       "<thead><tr><th></th><th scope=col>Home</th><th scope=col>Products</th><th scope=col>Search</th><th scope=col>Prod_A</th><th scope=col>Prod_B</th><th scope=col>Prod_C</th><th scope=col>Cart</th><th scope=col>Purchase</th><th scope=col>train</th><th scope=col>k3.cluster</th></tr></thead>\n",
       "<tbody>\n",
       "\t<tr><th scope=row>5</th><td>1   </td><td>0   </td><td>1   </td><td>1   </td><td>1   </td><td>0   </td><td>1   </td><td>1   </td><td>TRUE</td><td>2   </td></tr>\n",
       "\t<tr><th scope=row>11</th><td>1   </td><td>0   </td><td>1   </td><td>1   </td><td>1   </td><td>1   </td><td>1   </td><td>0   </td><td>TRUE</td><td>2   </td></tr>\n",
       "\t<tr><th scope=row>15</th><td>1   </td><td>0   </td><td>1   </td><td>1   </td><td>1   </td><td>1   </td><td>0   </td><td>0   </td><td>TRUE</td><td>2   </td></tr>\n",
       "\t<tr><th scope=row>36</th><td>1   </td><td>1   </td><td>1   </td><td>1   </td><td>1   </td><td>1   </td><td>0   </td><td>0   </td><td>TRUE</td><td>2   </td></tr>\n",
       "</tbody>\n",
       "</table>\n"
      ],
      "text/latex": [
       "\\begin{tabular}{r|llllllllll}\n",
       "  & Home & Products & Search & Prod\\_A & Prod\\_B & Prod\\_C & Cart & Purchase & train & k3.cluster\\\\\n",
       "\\hline\n",
       "\t5 & 1    & 0    & 1    & 1    & 1    & 0    & 1    & 1    & TRUE & 2   \\\\\n",
       "\t11 & 1    & 0    & 1    & 1    & 1    & 1    & 1    & 0    & TRUE & 2   \\\\\n",
       "\t15 & 1    & 0    & 1    & 1    & 1    & 1    & 0    & 0    & TRUE & 2   \\\\\n",
       "\t36 & 1    & 1    & 1    & 1    & 1    & 1    & 0    & 0    & TRUE & 2   \\\\\n",
       "\\end{tabular}\n"
      ],
      "text/plain": [
       "   Home Products Search Prod_A Prod_B Prod_C Cart Purchase train k3.cluster\n",
       "5  1    0        1      1      1      0      1    1        TRUE  2         \n",
       "11 1    0        1      1      1      1      1    0        TRUE  2         \n",
       "15 1    0        1      1      1      1      0    0        TRUE  2         \n",
       "36 1    1        1      1      1      1      0    0        TRUE  2         "
      ]
     },
     "metadata": {},
     "output_type": "display_data"
    },
    {
     "data": {
      "text/html": [
       "'Prod_C Observations of Q1 Path: 3 of 6'"
      ],
      "text/latex": [
       "'Prod\\_C Observations of Q1 Path: 3 of 6'"
      ],
      "text/markdown": [
       "'Prod_C Observations of Q1 Path: 3 of 6'"
      ],
      "text/plain": [
       "[1] \"Prod_C Observations of Q1 Path: 3 of 6\""
      ]
     },
     "metadata": {},
     "output_type": "display_data"
    },
    {
     "data": {
      "text/html": [
       "<table>\n",
       "<thead><tr><th></th><th scope=col>Home</th><th scope=col>Products</th><th scope=col>Search</th><th scope=col>Prod_A</th><th scope=col>Prod_B</th><th scope=col>Prod_C</th><th scope=col>Cart</th><th scope=col>Purchase</th><th scope=col>train</th><th scope=col>k3.cluster</th></tr></thead>\n",
       "<tbody>\n",
       "\t<tr><th scope=row>11</th><td>1   </td><td>0   </td><td>1   </td><td>1   </td><td>1   </td><td>1   </td><td>1   </td><td>0   </td><td>TRUE</td><td>2   </td></tr>\n",
       "\t<tr><th scope=row>15</th><td>1   </td><td>0   </td><td>1   </td><td>1   </td><td>1   </td><td>1   </td><td>0   </td><td>0   </td><td>TRUE</td><td>2   </td></tr>\n",
       "\t<tr><th scope=row>36</th><td>1   </td><td>1   </td><td>1   </td><td>1   </td><td>1   </td><td>1   </td><td>0   </td><td>0   </td><td>TRUE</td><td>2   </td></tr>\n",
       "</tbody>\n",
       "</table>\n"
      ],
      "text/latex": [
       "\\begin{tabular}{r|llllllllll}\n",
       "  & Home & Products & Search & Prod\\_A & Prod\\_B & Prod\\_C & Cart & Purchase & train & k3.cluster\\\\\n",
       "\\hline\n",
       "\t11 & 1    & 0    & 1    & 1    & 1    & 1    & 1    & 0    & TRUE & 2   \\\\\n",
       "\t15 & 1    & 0    & 1    & 1    & 1    & 1    & 0    & 0    & TRUE & 2   \\\\\n",
       "\t36 & 1    & 1    & 1    & 1    & 1    & 1    & 0    & 0    & TRUE & 2   \\\\\n",
       "\\end{tabular}\n"
      ],
      "text/plain": [
       "   Home Products Search Prod_A Prod_B Prod_C Cart Purchase train k3.cluster\n",
       "11 1    0        1      1      1      1      1    0        TRUE  2         \n",
       "15 1    0        1      1      1      1      0    0        TRUE  2         \n",
       "36 1    1        1      1      1      1      0    0        TRUE  2         "
      ]
     },
     "metadata": {},
     "output_type": "display_data"
    }
   ],
   "source": [
    "df.c2 = sessions.df[which(sessions.df$k3.cluster == 2),]\n",
    "nrow(df.c2)\n",
    "#head(df.c2)\n",
    "q1.c2 = df.c2[which(df.c2$Home == 1 & df.c2$Search == 1 & df.c2$Prod_B == 1),]\n",
    "q1.c2.percent = round(nrow(q1.c2)/nrow(df.c2)*100,2)\n",
    "paste0(\"Q1 Path Observations:\",nrow(q1.c2),\" of \",nrow(df.c2), \" Q1 Path Frequencey: \",q1.c2.percent, '%')\n",
    "q1.c2\n",
    "\n",
    "# What Product next, Prod_A?\n",
    "q1.c2.prod_a = q1.c2[which(q1.c2$Prod_A == 1),]\n",
    "paste0(\"Prod_A Observations of Q1 Path: \",nrow(q1.c2.prod_a),' of ', nrow(q1.c2))\n",
    "q1.c2.prod_a\n",
    "\n",
    "# What Product next, Prod_C?\n",
    "q1.c2.prod_c = q1.c2[which(q1.c2$Prod_C == 1),]\n",
    "paste0(\"Prod_C Observations of Q1 Path: \",nrow(q1.c2.prod_c),' of ', nrow(q1.c2))\n",
    "q1.c2.prod_c"
   ]
  },
  {
   "cell_type": "code",
   "execution_count": 86,
   "metadata": {
    "collapsed": false
   },
   "outputs": [
    {
     "data": {
      "text/html": [
       "31"
      ],
      "text/latex": [
       "31"
      ],
      "text/markdown": [
       "31"
      ],
      "text/plain": [
       "[1] 31"
      ]
     },
     "metadata": {},
     "output_type": "display_data"
    },
    {
     "data": {
      "text/html": [
       "'Q1 Path Observations:1 of 31 Q1 Path Frequencey: 3.23%'"
      ],
      "text/latex": [
       "'Q1 Path Observations:1 of 31 Q1 Path Frequencey: 3.23\\%'"
      ],
      "text/markdown": [
       "'Q1 Path Observations:1 of 31 Q1 Path Frequencey: 3.23%'"
      ],
      "text/plain": [
       "[1] \"Q1 Path Observations:1 of 31 Q1 Path Frequencey: 3.23%\""
      ]
     },
     "metadata": {},
     "output_type": "display_data"
    },
    {
     "data": {
      "text/html": [
       "<table>\n",
       "<thead><tr><th></th><th scope=col>Home</th><th scope=col>Products</th><th scope=col>Search</th><th scope=col>Prod_A</th><th scope=col>Prod_B</th><th scope=col>Prod_C</th><th scope=col>Cart</th><th scope=col>Purchase</th><th scope=col>train</th><th scope=col>k3.cluster</th></tr></thead>\n",
       "<tbody>\n",
       "\t<tr><th scope=row>26</th><td>1   </td><td>1   </td><td>1   </td><td>0   </td><td>1   </td><td>1   </td><td>0   </td><td>0   </td><td>TRUE</td><td>3   </td></tr>\n",
       "</tbody>\n",
       "</table>\n"
      ],
      "text/latex": [
       "\\begin{tabular}{r|llllllllll}\n",
       "  & Home & Products & Search & Prod\\_A & Prod\\_B & Prod\\_C & Cart & Purchase & train & k3.cluster\\\\\n",
       "\\hline\n",
       "\t26 & 1    & 1    & 1    & 0    & 1    & 1    & 0    & 0    & TRUE & 3   \\\\\n",
       "\\end{tabular}\n"
      ],
      "text/plain": [
       "   Home Products Search Prod_A Prod_B Prod_C Cart Purchase train k3.cluster\n",
       "26 1    1        1      0      1      1      0    0        TRUE  3         "
      ]
     },
     "metadata": {},
     "output_type": "display_data"
    },
    {
     "data": {
      "text/html": [
       "'Prod_A Observations of Q1 Path: 0 of 1'"
      ],
      "text/latex": [
       "'Prod\\_A Observations of Q1 Path: 0 of 1'"
      ],
      "text/markdown": [
       "'Prod_A Observations of Q1 Path: 0 of 1'"
      ],
      "text/plain": [
       "[1] \"Prod_A Observations of Q1 Path: 0 of 1\""
      ]
     },
     "metadata": {},
     "output_type": "display_data"
    },
    {
     "data": {
      "text/html": [
       "<table>\n",
       "<thead><tr><th scope=col>Home</th><th scope=col>Products</th><th scope=col>Search</th><th scope=col>Prod_A</th><th scope=col>Prod_B</th><th scope=col>Prod_C</th><th scope=col>Cart</th><th scope=col>Purchase</th><th scope=col>train</th><th scope=col>k3.cluster</th></tr></thead>\n",
       "<tbody>\n",
       "</tbody>\n",
       "</table>\n"
      ],
      "text/latex": [
       "\\begin{tabular}{r|llllllllll}\n",
       " Home & Products & Search & Prod\\_A & Prod\\_B & Prod\\_C & Cart & Purchase & train & k3.cluster\\\\\n",
       "\\hline\n",
       "\\end{tabular}\n"
      ],
      "text/plain": [
       "     Home Products Search Prod_A Prod_B Prod_C Cart Purchase train k3.cluster"
      ]
     },
     "metadata": {},
     "output_type": "display_data"
    },
    {
     "data": {
      "text/html": [
       "'Prod_C Observations of Q1 Path: 1 of 1'"
      ],
      "text/latex": [
       "'Prod\\_C Observations of Q1 Path: 1 of 1'"
      ],
      "text/markdown": [
       "'Prod_C Observations of Q1 Path: 1 of 1'"
      ],
      "text/plain": [
       "[1] \"Prod_C Observations of Q1 Path: 1 of 1\""
      ]
     },
     "metadata": {},
     "output_type": "display_data"
    },
    {
     "data": {
      "text/html": [
       "<table>\n",
       "<thead><tr><th></th><th scope=col>Home</th><th scope=col>Products</th><th scope=col>Search</th><th scope=col>Prod_A</th><th scope=col>Prod_B</th><th scope=col>Prod_C</th><th scope=col>Cart</th><th scope=col>Purchase</th><th scope=col>train</th><th scope=col>k3.cluster</th></tr></thead>\n",
       "<tbody>\n",
       "\t<tr><th scope=row>26</th><td>1   </td><td>1   </td><td>1   </td><td>0   </td><td>1   </td><td>1   </td><td>0   </td><td>0   </td><td>TRUE</td><td>3   </td></tr>\n",
       "</tbody>\n",
       "</table>\n"
      ],
      "text/latex": [
       "\\begin{tabular}{r|llllllllll}\n",
       "  & Home & Products & Search & Prod\\_A & Prod\\_B & Prod\\_C & Cart & Purchase & train & k3.cluster\\\\\n",
       "\\hline\n",
       "\t26 & 1    & 1    & 1    & 0    & 1    & 1    & 0    & 0    & TRUE & 3   \\\\\n",
       "\\end{tabular}\n"
      ],
      "text/plain": [
       "   Home Products Search Prod_A Prod_B Prod_C Cart Purchase train k3.cluster\n",
       "26 1    1        1      0      1      1      0    0        TRUE  3         "
      ]
     },
     "metadata": {},
     "output_type": "display_data"
    }
   ],
   "source": [
    "df.c3 = sessions.df[which(sessions.df$k3.cluster == 3),]\n",
    "nrow(df.c3)\n",
    "#head(df.c3)\n",
    "q1.c3 = df.c3[which(df.c3$Home == 1 & df.c3$Search == 1 & df.c3$Prod_B == 1),]\n",
    "q1.c3.percent = round(nrow(q1.c3)/nrow(df.c3)*100,2)\n",
    "paste0(\"Q1 Path Observations:\",nrow(q1.c3),\" of \",nrow(df.c3), \" Q1 Path Frequencey: \",q1.c3.percent, '')\n",
    "q1.c3\n",
    "\n",
    "# What Product next, Prod_A?\n",
    "q1.c3.prod_a = q1.c3[which(q1.c3$Prod_A == 1),]\n",
    "paste0(\"Prod_A Observations of Q1 Path: \",nrow(q1.c3.prod_a),' of ', nrow(q1.c3))\n",
    "q1.c3.prod_a\n",
    "\n",
    "# What Product next, Prod_C?\n",
    "q1.c3.prod_c = q1.c3[which(q1.c3$Prod_C == 1),]\n",
    "paste0(\"Prod_C Observations of Q1 Path: \",nrow(q1.c3.prod_c),' of ', nrow(q1.c3))\n",
    "q1.c3.prod_c\n"
   ]
  },
  {
   "cell_type": "markdown",
   "metadata": {},
   "source": [
    "# Path 2 - Product => Prod_C"
   ]
  },
  {
   "cell_type": "code",
   "execution_count": 95,
   "metadata": {
    "collapsed": false
   },
   "outputs": [
    {
     "data": {
      "text/html": [
       "'Q1.b Path Observations:7 of 24 Q1.b Path Frequencey: 29.17%'"
      ],
      "text/latex": [
       "'Q1.b Path Observations:7 of 24 Q1.b Path Frequencey: 29.17\\%'"
      ],
      "text/markdown": [
       "'Q1.b Path Observations:7 of 24 Q1.b Path Frequencey: 29.17%'"
      ],
      "text/plain": [
       "[1] \"Q1.b Path Observations:7 of 24 Q1.b Path Frequencey: 29.17%\""
      ]
     },
     "metadata": {},
     "output_type": "display_data"
    },
    {
     "data": {
      "text/html": [
       "<table>\n",
       "<thead><tr><th></th><th scope=col>Home</th><th scope=col>Products</th><th scope=col>Search</th><th scope=col>Prod_A</th><th scope=col>Prod_B</th><th scope=col>Prod_C</th><th scope=col>Cart</th><th scope=col>Purchase</th><th scope=col>train</th><th scope=col>k3.cluster</th></tr></thead>\n",
       "<tbody>\n",
       "\t<tr><th scope=row>21</th><td>1    </td><td>1    </td><td>1    </td><td>0    </td><td>0    </td><td>1    </td><td>1    </td><td>1    </td><td>FALSE</td><td>1    </td></tr>\n",
       "\t<tr><th scope=row>25</th><td>1    </td><td>1    </td><td>0    </td><td>1    </td><td>1    </td><td>1    </td><td>1    </td><td>0    </td><td>FALSE</td><td>1    </td></tr>\n",
       "\t<tr><th scope=row>27</th><td>1    </td><td>1    </td><td>0    </td><td>1    </td><td>1    </td><td>1    </td><td>1    </td><td>0    </td><td>FALSE</td><td>1    </td></tr>\n",
       "\t<tr><th scope=row>29</th><td>1    </td><td>1    </td><td>1    </td><td>1    </td><td>1    </td><td>1    </td><td>0    </td><td>0    </td><td>FALSE</td><td>1    </td></tr>\n",
       "\t<tr><th scope=row>32</th><td>1    </td><td>1    </td><td>0    </td><td>1    </td><td>0    </td><td>1    </td><td>0    </td><td>0    </td><td>FALSE</td><td>1    </td></tr>\n",
       "\t<tr><th scope=row>34</th><td>1    </td><td>1    </td><td>1    </td><td>0    </td><td>1    </td><td>1    </td><td>0    </td><td>0    </td><td>FALSE</td><td>1    </td></tr>\n",
       "\t<tr><th scope=row>51</th><td>0    </td><td>1    </td><td>1    </td><td>1    </td><td>0    </td><td>1    </td><td>1    </td><td>1    </td><td>FALSE</td><td>1    </td></tr>\n",
       "</tbody>\n",
       "</table>\n"
      ],
      "text/latex": [
       "\\begin{tabular}{r|llllllllll}\n",
       "  & Home & Products & Search & Prod\\_A & Prod\\_B & Prod\\_C & Cart & Purchase & train & k3.cluster\\\\\n",
       "\\hline\n",
       "\t21 & 1     & 1     & 1     & 0     & 0     & 1     & 1     & 1     & FALSE & 1    \\\\\n",
       "\t25 & 1     & 1     & 0     & 1     & 1     & 1     & 1     & 0     & FALSE & 1    \\\\\n",
       "\t27 & 1     & 1     & 0     & 1     & 1     & 1     & 1     & 0     & FALSE & 1    \\\\\n",
       "\t29 & 1     & 1     & 1     & 1     & 1     & 1     & 0     & 0     & FALSE & 1    \\\\\n",
       "\t32 & 1     & 1     & 0     & 1     & 0     & 1     & 0     & 0     & FALSE & 1    \\\\\n",
       "\t34 & 1     & 1     & 1     & 0     & 1     & 1     & 0     & 0     & FALSE & 1    \\\\\n",
       "\t51 & 0     & 1     & 1     & 1     & 0     & 1     & 1     & 1     & FALSE & 1    \\\\\n",
       "\\end{tabular}\n"
      ],
      "text/plain": [
       "   Home Products Search Prod_A Prod_B Prod_C Cart Purchase train k3.cluster\n",
       "21 1    1        1      0      0      1      1    1        FALSE 1         \n",
       "25 1    1        0      1      1      1      1    0        FALSE 1         \n",
       "27 1    1        0      1      1      1      1    0        FALSE 1         \n",
       "29 1    1        1      1      1      1      0    0        FALSE 1         \n",
       "32 1    1        0      1      0      1      0    0        FALSE 1         \n",
       "34 1    1        1      0      1      1      0    0        FALSE 1         \n",
       "51 0    1        1      1      0      1      1    1        FALSE 1         "
      ]
     },
     "metadata": {},
     "output_type": "display_data"
    },
    {
     "data": {
      "text/html": [
       "'Prod_A Observations of Q1.b Path: 5 of 7'"
      ],
      "text/latex": [
       "'Prod\\_A Observations of Q1.b Path: 5 of 7'"
      ],
      "text/markdown": [
       "'Prod_A Observations of Q1.b Path: 5 of 7'"
      ],
      "text/plain": [
       "[1] \"Prod_A Observations of Q1.b Path: 5 of 7\""
      ]
     },
     "metadata": {},
     "output_type": "display_data"
    },
    {
     "data": {
      "text/html": [
       "<table>\n",
       "<thead><tr><th></th><th scope=col>Home</th><th scope=col>Products</th><th scope=col>Search</th><th scope=col>Prod_A</th><th scope=col>Prod_B</th><th scope=col>Prod_C</th><th scope=col>Cart</th><th scope=col>Purchase</th><th scope=col>train</th><th scope=col>k3.cluster</th></tr></thead>\n",
       "<tbody>\n",
       "\t<tr><th scope=row>25</th><td>1    </td><td>1    </td><td>0    </td><td>1    </td><td>1    </td><td>1    </td><td>1    </td><td>0    </td><td>FALSE</td><td>1    </td></tr>\n",
       "\t<tr><th scope=row>27</th><td>1    </td><td>1    </td><td>0    </td><td>1    </td><td>1    </td><td>1    </td><td>1    </td><td>0    </td><td>FALSE</td><td>1    </td></tr>\n",
       "\t<tr><th scope=row>29</th><td>1    </td><td>1    </td><td>1    </td><td>1    </td><td>1    </td><td>1    </td><td>0    </td><td>0    </td><td>FALSE</td><td>1    </td></tr>\n",
       "\t<tr><th scope=row>32</th><td>1    </td><td>1    </td><td>0    </td><td>1    </td><td>0    </td><td>1    </td><td>0    </td><td>0    </td><td>FALSE</td><td>1    </td></tr>\n",
       "\t<tr><th scope=row>51</th><td>0    </td><td>1    </td><td>1    </td><td>1    </td><td>0    </td><td>1    </td><td>1    </td><td>1    </td><td>FALSE</td><td>1    </td></tr>\n",
       "</tbody>\n",
       "</table>\n"
      ],
      "text/latex": [
       "\\begin{tabular}{r|llllllllll}\n",
       "  & Home & Products & Search & Prod\\_A & Prod\\_B & Prod\\_C & Cart & Purchase & train & k3.cluster\\\\\n",
       "\\hline\n",
       "\t25 & 1     & 1     & 0     & 1     & 1     & 1     & 1     & 0     & FALSE & 1    \\\\\n",
       "\t27 & 1     & 1     & 0     & 1     & 1     & 1     & 1     & 0     & FALSE & 1    \\\\\n",
       "\t29 & 1     & 1     & 1     & 1     & 1     & 1     & 0     & 0     & FALSE & 1    \\\\\n",
       "\t32 & 1     & 1     & 0     & 1     & 0     & 1     & 0     & 0     & FALSE & 1    \\\\\n",
       "\t51 & 0     & 1     & 1     & 1     & 0     & 1     & 1     & 1     & FALSE & 1    \\\\\n",
       "\\end{tabular}\n"
      ],
      "text/plain": [
       "   Home Products Search Prod_A Prod_B Prod_C Cart Purchase train k3.cluster\n",
       "25 1    1        0      1      1      1      1    0        FALSE 1         \n",
       "27 1    1        0      1      1      1      1    0        FALSE 1         \n",
       "29 1    1        1      1      1      1      0    0        FALSE 1         \n",
       "32 1    1        0      1      0      1      0    0        FALSE 1         \n",
       "51 0    1        1      1      0      1      1    1        FALSE 1         "
      ]
     },
     "metadata": {},
     "output_type": "display_data"
    },
    {
     "data": {
      "text/html": [
       "'Prod_B Observations of Q1.b Path: 4 of 7'"
      ],
      "text/latex": [
       "'Prod\\_B Observations of Q1.b Path: 4 of 7'"
      ],
      "text/markdown": [
       "'Prod_B Observations of Q1.b Path: 4 of 7'"
      ],
      "text/plain": [
       "[1] \"Prod_B Observations of Q1.b Path: 4 of 7\""
      ]
     },
     "metadata": {},
     "output_type": "display_data"
    },
    {
     "data": {
      "text/html": [
       "<table>\n",
       "<thead><tr><th></th><th scope=col>Home</th><th scope=col>Products</th><th scope=col>Search</th><th scope=col>Prod_A</th><th scope=col>Prod_B</th><th scope=col>Prod_C</th><th scope=col>Cart</th><th scope=col>Purchase</th><th scope=col>train</th><th scope=col>k3.cluster</th></tr></thead>\n",
       "<tbody>\n",
       "\t<tr><th scope=row>25</th><td>1    </td><td>1    </td><td>0    </td><td>1    </td><td>1    </td><td>1    </td><td>1    </td><td>0    </td><td>FALSE</td><td>1    </td></tr>\n",
       "\t<tr><th scope=row>27</th><td>1    </td><td>1    </td><td>0    </td><td>1    </td><td>1    </td><td>1    </td><td>1    </td><td>0    </td><td>FALSE</td><td>1    </td></tr>\n",
       "\t<tr><th scope=row>29</th><td>1    </td><td>1    </td><td>1    </td><td>1    </td><td>1    </td><td>1    </td><td>0    </td><td>0    </td><td>FALSE</td><td>1    </td></tr>\n",
       "\t<tr><th scope=row>34</th><td>1    </td><td>1    </td><td>1    </td><td>0    </td><td>1    </td><td>1    </td><td>0    </td><td>0    </td><td>FALSE</td><td>1    </td></tr>\n",
       "</tbody>\n",
       "</table>\n"
      ],
      "text/latex": [
       "\\begin{tabular}{r|llllllllll}\n",
       "  & Home & Products & Search & Prod\\_A & Prod\\_B & Prod\\_C & Cart & Purchase & train & k3.cluster\\\\\n",
       "\\hline\n",
       "\t25 & 1     & 1     & 0     & 1     & 1     & 1     & 1     & 0     & FALSE & 1    \\\\\n",
       "\t27 & 1     & 1     & 0     & 1     & 1     & 1     & 1     & 0     & FALSE & 1    \\\\\n",
       "\t29 & 1     & 1     & 1     & 1     & 1     & 1     & 0     & 0     & FALSE & 1    \\\\\n",
       "\t34 & 1     & 1     & 1     & 0     & 1     & 1     & 0     & 0     & FALSE & 1    \\\\\n",
       "\\end{tabular}\n"
      ],
      "text/plain": [
       "   Home Products Search Prod_A Prod_B Prod_C Cart Purchase train k3.cluster\n",
       "25 1    1        0      1      1      1      1    0        FALSE 1         \n",
       "27 1    1        0      1      1      1      1    0        FALSE 1         \n",
       "29 1    1        1      1      1      1      0    0        FALSE 1         \n",
       "34 1    1        1      0      1      1      0    0        FALSE 1         "
      ]
     },
     "metadata": {},
     "output_type": "display_data"
    }
   ],
   "source": [
    "df.c1.p2 = sessions.df[which(sessions.df$k3.cluster == 1),]\n",
    "q1.c1.p2 = df.c1.p2[which(df.c1.p2$Product == 1 & df.c1.p2$Prod_C == 1),]\n",
    "q1.c1.p2.percent = round(nrow(q1.c1.p2)/nrow(df.c1.p2)*100,2)\n",
    "paste0(\"Q1.b Path Observations:\",nrow(q1.c1.p2),\" of \",nrow(df.c1.p2), \" Q1.b Path Frequencey: \",q1.c1.p2.percent, '%')\n",
    "q1.c1.p2\n",
    "\n",
    "# What Product next, Prod_A?\n",
    "q1.c1.p2.prod_a = q1.c1.p2[which(q1.c1.p2$Prod_A == 1),]\n",
    "paste0(\"Prod_A Observations of Q1.b Path: \",nrow(q1.c1.p2.prod_a),' of ', nrow(q1.c1.p2))\n",
    "q1.c1.p2.prod_a\n",
    "\n",
    "# What Product next, Prod_C?\n",
    "q1.c1.p2.prod_b = q1.c1.p2[which(q1.c1.p2$Prod_B == 1),]\n",
    "paste0(\"Prod_B Observations of Q1.b Path: \",nrow(q1.c1.p2.prod_b),' of ', nrow(q1.c1.p2))\n",
    "q1.c1.p2.prod_b"
   ]
  },
  {
   "cell_type": "code",
   "execution_count": 93,
   "metadata": {
    "collapsed": false
   },
   "outputs": [
    {
     "data": {
      "text/html": [
       "'Q1.b Path Observations:11 of 45 Q1.b Path Frequencey: 24.44%'"
      ],
      "text/latex": [
       "'Q1.b Path Observations:11 of 45 Q1.b Path Frequencey: 24.44\\%'"
      ],
      "text/markdown": [
       "'Q1.b Path Observations:11 of 45 Q1.b Path Frequencey: 24.44%'"
      ],
      "text/plain": [
       "[1] \"Q1.b Path Observations:11 of 45 Q1.b Path Frequencey: 24.44%\""
      ]
     },
     "metadata": {},
     "output_type": "display_data"
    },
    {
     "data": {
      "text/html": [
       "<table>\n",
       "<thead><tr><th></th><th scope=col>Home</th><th scope=col>Products</th><th scope=col>Search</th><th scope=col>Prod_A</th><th scope=col>Prod_B</th><th scope=col>Prod_C</th><th scope=col>Cart</th><th scope=col>Purchase</th><th scope=col>train</th><th scope=col>k3.cluster</th></tr></thead>\n",
       "<tbody>\n",
       "\t<tr><th scope=row>14</th><td>1   </td><td>1   </td><td>1   </td><td>0   </td><td>0   </td><td>1   </td><td>1   </td><td>0   </td><td>TRUE</td><td>2   </td></tr>\n",
       "\t<tr><th scope=row>30</th><td>1   </td><td>1   </td><td>0   </td><td>1   </td><td>1   </td><td>1   </td><td>1   </td><td>0   </td><td>TRUE</td><td>2   </td></tr>\n",
       "\t<tr><th scope=row>31</th><td>1   </td><td>1   </td><td>0   </td><td>1   </td><td>0   </td><td>1   </td><td>1   </td><td>0   </td><td>TRUE</td><td>2   </td></tr>\n",
       "\t<tr><th scope=row>35</th><td>1   </td><td>1   </td><td>0   </td><td>1   </td><td>0   </td><td>1   </td><td>1   </td><td>0   </td><td>TRUE</td><td>2   </td></tr>\n",
       "\t<tr><th scope=row>36</th><td>1   </td><td>1   </td><td>1   </td><td>1   </td><td>1   </td><td>1   </td><td>0   </td><td>0   </td><td>TRUE</td><td>2   </td></tr>\n",
       "\t<tr><th scope=row>52</th><td>0   </td><td>1   </td><td>1   </td><td>1   </td><td>0   </td><td>1   </td><td>1   </td><td>0   </td><td>TRUE</td><td>2   </td></tr>\n",
       "\t<tr><th scope=row>53</th><td>1   </td><td>1   </td><td>0   </td><td>1   </td><td>0   </td><td>1   </td><td>1   </td><td>1   </td><td>TRUE</td><td>2   </td></tr>\n",
       "\t<tr><th scope=row>64</th><td>1   </td><td>1   </td><td>1   </td><td>1   </td><td>0   </td><td>1   </td><td>1   </td><td>1   </td><td>TRUE</td><td>2   </td></tr>\n",
       "\t<tr><th scope=row>69</th><td>1   </td><td>1   </td><td>1   </td><td>0   </td><td>0   </td><td>1   </td><td>0   </td><td>0   </td><td>TRUE</td><td>2   </td></tr>\n",
       "\t<tr><th scope=row>71</th><td>1   </td><td>1   </td><td>1   </td><td>1   </td><td>0   </td><td>1   </td><td>1   </td><td>1   </td><td>TRUE</td><td>2   </td></tr>\n",
       "\t<tr><th scope=row>78</th><td>1   </td><td>1   </td><td>1   </td><td>1   </td><td>0   </td><td>1   </td><td>1   </td><td>1   </td><td>TRUE</td><td>2   </td></tr>\n",
       "</tbody>\n",
       "</table>\n"
      ],
      "text/latex": [
       "\\begin{tabular}{r|llllllllll}\n",
       "  & Home & Products & Search & Prod\\_A & Prod\\_B & Prod\\_C & Cart & Purchase & train & k3.cluster\\\\\n",
       "\\hline\n",
       "\t14 & 1    & 1    & 1    & 0    & 0    & 1    & 1    & 0    & TRUE & 2   \\\\\n",
       "\t30 & 1    & 1    & 0    & 1    & 1    & 1    & 1    & 0    & TRUE & 2   \\\\\n",
       "\t31 & 1    & 1    & 0    & 1    & 0    & 1    & 1    & 0    & TRUE & 2   \\\\\n",
       "\t35 & 1    & 1    & 0    & 1    & 0    & 1    & 1    & 0    & TRUE & 2   \\\\\n",
       "\t36 & 1    & 1    & 1    & 1    & 1    & 1    & 0    & 0    & TRUE & 2   \\\\\n",
       "\t52 & 0    & 1    & 1    & 1    & 0    & 1    & 1    & 0    & TRUE & 2   \\\\\n",
       "\t53 & 1    & 1    & 0    & 1    & 0    & 1    & 1    & 1    & TRUE & 2   \\\\\n",
       "\t64 & 1    & 1    & 1    & 1    & 0    & 1    & 1    & 1    & TRUE & 2   \\\\\n",
       "\t69 & 1    & 1    & 1    & 0    & 0    & 1    & 0    & 0    & TRUE & 2   \\\\\n",
       "\t71 & 1    & 1    & 1    & 1    & 0    & 1    & 1    & 1    & TRUE & 2   \\\\\n",
       "\t78 & 1    & 1    & 1    & 1    & 0    & 1    & 1    & 1    & TRUE & 2   \\\\\n",
       "\\end{tabular}\n"
      ],
      "text/plain": [
       "   Home Products Search Prod_A Prod_B Prod_C Cart Purchase train k3.cluster\n",
       "14 1    1        1      0      0      1      1    0        TRUE  2         \n",
       "30 1    1        0      1      1      1      1    0        TRUE  2         \n",
       "31 1    1        0      1      0      1      1    0        TRUE  2         \n",
       "35 1    1        0      1      0      1      1    0        TRUE  2         \n",
       "36 1    1        1      1      1      1      0    0        TRUE  2         \n",
       "52 0    1        1      1      0      1      1    0        TRUE  2         \n",
       "53 1    1        0      1      0      1      1    1        TRUE  2         \n",
       "64 1    1        1      1      0      1      1    1        TRUE  2         \n",
       "69 1    1        1      0      0      1      0    0        TRUE  2         \n",
       "71 1    1        1      1      0      1      1    1        TRUE  2         \n",
       "78 1    1        1      1      0      1      1    1        TRUE  2         "
      ]
     },
     "metadata": {},
     "output_type": "display_data"
    },
    {
     "data": {
      "text/html": [
       "'Prod_A Observations of Q1.b Path: 9 of 11'"
      ],
      "text/latex": [
       "'Prod\\_A Observations of Q1.b Path: 9 of 11'"
      ],
      "text/markdown": [
       "'Prod_A Observations of Q1.b Path: 9 of 11'"
      ],
      "text/plain": [
       "[1] \"Prod_A Observations of Q1.b Path: 9 of 11\""
      ]
     },
     "metadata": {},
     "output_type": "display_data"
    },
    {
     "data": {
      "text/html": [
       "<table>\n",
       "<thead><tr><th></th><th scope=col>Home</th><th scope=col>Products</th><th scope=col>Search</th><th scope=col>Prod_A</th><th scope=col>Prod_B</th><th scope=col>Prod_C</th><th scope=col>Cart</th><th scope=col>Purchase</th><th scope=col>train</th><th scope=col>k3.cluster</th></tr></thead>\n",
       "<tbody>\n",
       "\t<tr><th scope=row>30</th><td>1   </td><td>1   </td><td>0   </td><td>1   </td><td>1   </td><td>1   </td><td>1   </td><td>0   </td><td>TRUE</td><td>2   </td></tr>\n",
       "\t<tr><th scope=row>31</th><td>1   </td><td>1   </td><td>0   </td><td>1   </td><td>0   </td><td>1   </td><td>1   </td><td>0   </td><td>TRUE</td><td>2   </td></tr>\n",
       "\t<tr><th scope=row>35</th><td>1   </td><td>1   </td><td>0   </td><td>1   </td><td>0   </td><td>1   </td><td>1   </td><td>0   </td><td>TRUE</td><td>2   </td></tr>\n",
       "\t<tr><th scope=row>36</th><td>1   </td><td>1   </td><td>1   </td><td>1   </td><td>1   </td><td>1   </td><td>0   </td><td>0   </td><td>TRUE</td><td>2   </td></tr>\n",
       "\t<tr><th scope=row>52</th><td>0   </td><td>1   </td><td>1   </td><td>1   </td><td>0   </td><td>1   </td><td>1   </td><td>0   </td><td>TRUE</td><td>2   </td></tr>\n",
       "\t<tr><th scope=row>53</th><td>1   </td><td>1   </td><td>0   </td><td>1   </td><td>0   </td><td>1   </td><td>1   </td><td>1   </td><td>TRUE</td><td>2   </td></tr>\n",
       "\t<tr><th scope=row>64</th><td>1   </td><td>1   </td><td>1   </td><td>1   </td><td>0   </td><td>1   </td><td>1   </td><td>1   </td><td>TRUE</td><td>2   </td></tr>\n",
       "\t<tr><th scope=row>71</th><td>1   </td><td>1   </td><td>1   </td><td>1   </td><td>0   </td><td>1   </td><td>1   </td><td>1   </td><td>TRUE</td><td>2   </td></tr>\n",
       "\t<tr><th scope=row>78</th><td>1   </td><td>1   </td><td>1   </td><td>1   </td><td>0   </td><td>1   </td><td>1   </td><td>1   </td><td>TRUE</td><td>2   </td></tr>\n",
       "</tbody>\n",
       "</table>\n"
      ],
      "text/latex": [
       "\\begin{tabular}{r|llllllllll}\n",
       "  & Home & Products & Search & Prod\\_A & Prod\\_B & Prod\\_C & Cart & Purchase & train & k3.cluster\\\\\n",
       "\\hline\n",
       "\t30 & 1    & 1    & 0    & 1    & 1    & 1    & 1    & 0    & TRUE & 2   \\\\\n",
       "\t31 & 1    & 1    & 0    & 1    & 0    & 1    & 1    & 0    & TRUE & 2   \\\\\n",
       "\t35 & 1    & 1    & 0    & 1    & 0    & 1    & 1    & 0    & TRUE & 2   \\\\\n",
       "\t36 & 1    & 1    & 1    & 1    & 1    & 1    & 0    & 0    & TRUE & 2   \\\\\n",
       "\t52 & 0    & 1    & 1    & 1    & 0    & 1    & 1    & 0    & TRUE & 2   \\\\\n",
       "\t53 & 1    & 1    & 0    & 1    & 0    & 1    & 1    & 1    & TRUE & 2   \\\\\n",
       "\t64 & 1    & 1    & 1    & 1    & 0    & 1    & 1    & 1    & TRUE & 2   \\\\\n",
       "\t71 & 1    & 1    & 1    & 1    & 0    & 1    & 1    & 1    & TRUE & 2   \\\\\n",
       "\t78 & 1    & 1    & 1    & 1    & 0    & 1    & 1    & 1    & TRUE & 2   \\\\\n",
       "\\end{tabular}\n"
      ],
      "text/plain": [
       "   Home Products Search Prod_A Prod_B Prod_C Cart Purchase train k3.cluster\n",
       "30 1    1        0      1      1      1      1    0        TRUE  2         \n",
       "31 1    1        0      1      0      1      1    0        TRUE  2         \n",
       "35 1    1        0      1      0      1      1    0        TRUE  2         \n",
       "36 1    1        1      1      1      1      0    0        TRUE  2         \n",
       "52 0    1        1      1      0      1      1    0        TRUE  2         \n",
       "53 1    1        0      1      0      1      1    1        TRUE  2         \n",
       "64 1    1        1      1      0      1      1    1        TRUE  2         \n",
       "71 1    1        1      1      0      1      1    1        TRUE  2         \n",
       "78 1    1        1      1      0      1      1    1        TRUE  2         "
      ]
     },
     "metadata": {},
     "output_type": "display_data"
    },
    {
     "data": {
      "text/html": [
       "'Prod_C Observations of Q1.b Path: 11 of 11'"
      ],
      "text/latex": [
       "'Prod\\_C Observations of Q1.b Path: 11 of 11'"
      ],
      "text/markdown": [
       "'Prod_C Observations of Q1.b Path: 11 of 11'"
      ],
      "text/plain": [
       "[1] \"Prod_C Observations of Q1.b Path: 11 of 11\""
      ]
     },
     "metadata": {},
     "output_type": "display_data"
    },
    {
     "data": {
      "text/html": [
       "<table>\n",
       "<thead><tr><th></th><th scope=col>Home</th><th scope=col>Products</th><th scope=col>Search</th><th scope=col>Prod_A</th><th scope=col>Prod_B</th><th scope=col>Prod_C</th><th scope=col>Cart</th><th scope=col>Purchase</th><th scope=col>train</th><th scope=col>k3.cluster</th></tr></thead>\n",
       "<tbody>\n",
       "\t<tr><th scope=row>14</th><td>1   </td><td>1   </td><td>1   </td><td>0   </td><td>0   </td><td>1   </td><td>1   </td><td>0   </td><td>TRUE</td><td>2   </td></tr>\n",
       "\t<tr><th scope=row>30</th><td>1   </td><td>1   </td><td>0   </td><td>1   </td><td>1   </td><td>1   </td><td>1   </td><td>0   </td><td>TRUE</td><td>2   </td></tr>\n",
       "\t<tr><th scope=row>31</th><td>1   </td><td>1   </td><td>0   </td><td>1   </td><td>0   </td><td>1   </td><td>1   </td><td>0   </td><td>TRUE</td><td>2   </td></tr>\n",
       "\t<tr><th scope=row>35</th><td>1   </td><td>1   </td><td>0   </td><td>1   </td><td>0   </td><td>1   </td><td>1   </td><td>0   </td><td>TRUE</td><td>2   </td></tr>\n",
       "\t<tr><th scope=row>36</th><td>1   </td><td>1   </td><td>1   </td><td>1   </td><td>1   </td><td>1   </td><td>0   </td><td>0   </td><td>TRUE</td><td>2   </td></tr>\n",
       "\t<tr><th scope=row>52</th><td>0   </td><td>1   </td><td>1   </td><td>1   </td><td>0   </td><td>1   </td><td>1   </td><td>0   </td><td>TRUE</td><td>2   </td></tr>\n",
       "\t<tr><th scope=row>53</th><td>1   </td><td>1   </td><td>0   </td><td>1   </td><td>0   </td><td>1   </td><td>1   </td><td>1   </td><td>TRUE</td><td>2   </td></tr>\n",
       "\t<tr><th scope=row>64</th><td>1   </td><td>1   </td><td>1   </td><td>1   </td><td>0   </td><td>1   </td><td>1   </td><td>1   </td><td>TRUE</td><td>2   </td></tr>\n",
       "\t<tr><th scope=row>69</th><td>1   </td><td>1   </td><td>1   </td><td>0   </td><td>0   </td><td>1   </td><td>0   </td><td>0   </td><td>TRUE</td><td>2   </td></tr>\n",
       "\t<tr><th scope=row>71</th><td>1   </td><td>1   </td><td>1   </td><td>1   </td><td>0   </td><td>1   </td><td>1   </td><td>1   </td><td>TRUE</td><td>2   </td></tr>\n",
       "\t<tr><th scope=row>78</th><td>1   </td><td>1   </td><td>1   </td><td>1   </td><td>0   </td><td>1   </td><td>1   </td><td>1   </td><td>TRUE</td><td>2   </td></tr>\n",
       "</tbody>\n",
       "</table>\n"
      ],
      "text/latex": [
       "\\begin{tabular}{r|llllllllll}\n",
       "  & Home & Products & Search & Prod\\_A & Prod\\_B & Prod\\_C & Cart & Purchase & train & k3.cluster\\\\\n",
       "\\hline\n",
       "\t14 & 1    & 1    & 1    & 0    & 0    & 1    & 1    & 0    & TRUE & 2   \\\\\n",
       "\t30 & 1    & 1    & 0    & 1    & 1    & 1    & 1    & 0    & TRUE & 2   \\\\\n",
       "\t31 & 1    & 1    & 0    & 1    & 0    & 1    & 1    & 0    & TRUE & 2   \\\\\n",
       "\t35 & 1    & 1    & 0    & 1    & 0    & 1    & 1    & 0    & TRUE & 2   \\\\\n",
       "\t36 & 1    & 1    & 1    & 1    & 1    & 1    & 0    & 0    & TRUE & 2   \\\\\n",
       "\t52 & 0    & 1    & 1    & 1    & 0    & 1    & 1    & 0    & TRUE & 2   \\\\\n",
       "\t53 & 1    & 1    & 0    & 1    & 0    & 1    & 1    & 1    & TRUE & 2   \\\\\n",
       "\t64 & 1    & 1    & 1    & 1    & 0    & 1    & 1    & 1    & TRUE & 2   \\\\\n",
       "\t69 & 1    & 1    & 1    & 0    & 0    & 1    & 0    & 0    & TRUE & 2   \\\\\n",
       "\t71 & 1    & 1    & 1    & 1    & 0    & 1    & 1    & 1    & TRUE & 2   \\\\\n",
       "\t78 & 1    & 1    & 1    & 1    & 0    & 1    & 1    & 1    & TRUE & 2   \\\\\n",
       "\\end{tabular}\n"
      ],
      "text/plain": [
       "   Home Products Search Prod_A Prod_B Prod_C Cart Purchase train k3.cluster\n",
       "14 1    1        1      0      0      1      1    0        TRUE  2         \n",
       "30 1    1        0      1      1      1      1    0        TRUE  2         \n",
       "31 1    1        0      1      0      1      1    0        TRUE  2         \n",
       "35 1    1        0      1      0      1      1    0        TRUE  2         \n",
       "36 1    1        1      1      1      1      0    0        TRUE  2         \n",
       "52 0    1        1      1      0      1      1    0        TRUE  2         \n",
       "53 1    1        0      1      0      1      1    1        TRUE  2         \n",
       "64 1    1        1      1      0      1      1    1        TRUE  2         \n",
       "69 1    1        1      0      0      1      0    0        TRUE  2         \n",
       "71 1    1        1      1      0      1      1    1        TRUE  2         \n",
       "78 1    1        1      1      0      1      1    1        TRUE  2         "
      ]
     },
     "metadata": {},
     "output_type": "display_data"
    }
   ],
   "source": [
    "df.c2.p2 = sessions.df[which(sessions.df$k3.cluster == 2),]\n",
    "q1.c2.p2 = df.c2.p2[which(df.c2.p2$Product == 1 & df.c2.p2$Prod_C == 1),]\n",
    "q1.c2.p2.percent = round(nrow(q1.c2.p2)/nrow(df.c2.p2)*100,2)\n",
    "paste0(\"Q1.b Path Observations:\",nrow(q1.c2.p2),\" of \",nrow(df.c2.p2), \" Q1.b Path Frequencey: \",q1.c2.p2.percent, '%')\n",
    "q1.c2.p2\n",
    "\n",
    "# What Product next, Prod_A?\n",
    "q1.c2.p2.prod_a = q1.c2.p2[which(q1.c2.p2$Prod_A == 1),]\n",
    "paste0(\"Prod_A Observations of Q1.b Path: \",nrow(q1.c2.p2.prod_a),' of ', nrow(q1.c2.p2))\n",
    "q1.c2.p2.prod_a\n",
    "\n",
    "# What Product next, Prod_C?\n",
    "q1.c2.p2.prod_b = q1.c2.p2[which(q1.c2.p2$Prod_B == 1),]\n",
    "paste0(\"Prod_B Observations of Q1.b Path: \",nrow(q1.c2.p2.prod_b),' of ', nrow(q1.c2.p2))\n",
    "q1.c2.p2.prod_b"
   ]
  },
  {
   "cell_type": "code",
   "execution_count": 96,
   "metadata": {
    "collapsed": false
   },
   "outputs": [
    {
     "data": {
      "text/html": [
       "'Q1.b Path Observations:20 of 31 Q1.b Path Frequencey: 64.52%'"
      ],
      "text/latex": [
       "'Q1.b Path Observations:20 of 31 Q1.b Path Frequencey: 64.52\\%'"
      ],
      "text/markdown": [
       "'Q1.b Path Observations:20 of 31 Q1.b Path Frequencey: 64.52%'"
      ],
      "text/plain": [
       "[1] \"Q1.b Path Observations:20 of 31 Q1.b Path Frequencey: 64.52%\""
      ]
     },
     "metadata": {},
     "output_type": "display_data"
    },
    {
     "data": {
      "text/html": [
       "<table>\n",
       "<thead><tr><th></th><th scope=col>Home</th><th scope=col>Products</th><th scope=col>Search</th><th scope=col>Prod_A</th><th scope=col>Prod_B</th><th scope=col>Prod_C</th><th scope=col>Cart</th><th scope=col>Purchase</th><th scope=col>train</th><th scope=col>k3.cluster</th></tr></thead>\n",
       "<tbody>\n",
       "\t<tr><th scope=row>26</th><td>1    </td><td>1    </td><td>1    </td><td>0    </td><td>1    </td><td>1    </td><td>0    </td><td>0    </td><td> TRUE</td><td>3    </td></tr>\n",
       "\t<tr><th scope=row>42</th><td>0    </td><td>1    </td><td>0    </td><td>0    </td><td>1    </td><td>1    </td><td>0    </td><td>0    </td><td> TRUE</td><td>3    </td></tr>\n",
       "\t<tr><th scope=row>45</th><td>0    </td><td>1    </td><td>1    </td><td>0    </td><td>1    </td><td>1    </td><td>0    </td><td>0    </td><td> TRUE</td><td>3    </td></tr>\n",
       "\t<tr><th scope=row>47</th><td>0    </td><td>1    </td><td>1    </td><td>0    </td><td>1    </td><td>1    </td><td>1    </td><td>1    </td><td> TRUE</td><td>3    </td></tr>\n",
       "\t<tr><th scope=row>84</th><td>0    </td><td>1    </td><td>0    </td><td>0    </td><td>1    </td><td>1    </td><td>1    </td><td>1    </td><td> TRUE</td><td>3    </td></tr>\n",
       "\t<tr><th scope=row>85</th><td>0    </td><td>1    </td><td>0    </td><td>0    </td><td>1    </td><td>1    </td><td>0    </td><td>0    </td><td> TRUE</td><td>3    </td></tr>\n",
       "\t<tr><th scope=row>86</th><td>0    </td><td>1    </td><td>0    </td><td>0    </td><td>1    </td><td>1    </td><td>0    </td><td>0    </td><td>FALSE</td><td>3    </td></tr>\n",
       "\t<tr><th scope=row>87</th><td>0    </td><td>1    </td><td>0    </td><td>0    </td><td>1    </td><td>1    </td><td>0    </td><td>0    </td><td> TRUE</td><td>3    </td></tr>\n",
       "\t<tr><th scope=row>88</th><td>0    </td><td>1    </td><td>0    </td><td>0    </td><td>1    </td><td>1    </td><td>1    </td><td>1    </td><td>FALSE</td><td>3    </td></tr>\n",
       "\t<tr><th scope=row>89</th><td>0    </td><td>1    </td><td>0    </td><td>0    </td><td>1    </td><td>1    </td><td>0    </td><td>0    </td><td>FALSE</td><td>3    </td></tr>\n",
       "\t<tr><th scope=row>90</th><td>0    </td><td>1    </td><td>1    </td><td>0    </td><td>1    </td><td>1    </td><td>0    </td><td>0    </td><td> TRUE</td><td>3    </td></tr>\n",
       "\t<tr><th scope=row>91</th><td>0    </td><td>1    </td><td>0    </td><td>0    </td><td>1    </td><td>1    </td><td>1    </td><td>1    </td><td> TRUE</td><td>3    </td></tr>\n",
       "\t<tr><th scope=row>92</th><td>0    </td><td>1    </td><td>0    </td><td>0    </td><td>1    </td><td>1    </td><td>1    </td><td>1    </td><td> TRUE</td><td>3    </td></tr>\n",
       "\t<tr><th scope=row>94</th><td>0    </td><td>1    </td><td>0    </td><td>0    </td><td>1    </td><td>1    </td><td>1    </td><td>1    </td><td> TRUE</td><td>3    </td></tr>\n",
       "\t<tr><th scope=row>95</th><td>0    </td><td>1    </td><td>0    </td><td>0    </td><td>1    </td><td>1    </td><td>1    </td><td>0    </td><td> TRUE</td><td>3    </td></tr>\n",
       "\t<tr><th scope=row>96</th><td>0    </td><td>1    </td><td>0    </td><td>0    </td><td>1    </td><td>1    </td><td>0    </td><td>0    </td><td> TRUE</td><td>3    </td></tr>\n",
       "\t<tr><th scope=row>97</th><td>0    </td><td>1    </td><td>0    </td><td>0    </td><td>1    </td><td>1    </td><td>1    </td><td>1    </td><td>FALSE</td><td>3    </td></tr>\n",
       "\t<tr><th scope=row>98</th><td>0    </td><td>1    </td><td>0    </td><td>0    </td><td>1    </td><td>1    </td><td>1    </td><td>1    </td><td> TRUE</td><td>3    </td></tr>\n",
       "\t<tr><th scope=row>99</th><td>0    </td><td>1    </td><td>0    </td><td>0    </td><td>1    </td><td>1    </td><td>0    </td><td>0    </td><td> TRUE</td><td>3    </td></tr>\n",
       "\t<tr><th scope=row>100</th><td>0    </td><td>1    </td><td>1    </td><td>0    </td><td>1    </td><td>1    </td><td>1    </td><td>0    </td><td> TRUE</td><td>3    </td></tr>\n",
       "</tbody>\n",
       "</table>\n"
      ],
      "text/latex": [
       "\\begin{tabular}{r|llllllllll}\n",
       "  & Home & Products & Search & Prod\\_A & Prod\\_B & Prod\\_C & Cart & Purchase & train & k3.cluster\\\\\n",
       "\\hline\n",
       "\t26 & 1     & 1     & 1     & 0     & 1     & 1     & 0     & 0     &  TRUE & 3    \\\\\n",
       "\t42 & 0     & 1     & 0     & 0     & 1     & 1     & 0     & 0     &  TRUE & 3    \\\\\n",
       "\t45 & 0     & 1     & 1     & 0     & 1     & 1     & 0     & 0     &  TRUE & 3    \\\\\n",
       "\t47 & 0     & 1     & 1     & 0     & 1     & 1     & 1     & 1     &  TRUE & 3    \\\\\n",
       "\t84 & 0     & 1     & 0     & 0     & 1     & 1     & 1     & 1     &  TRUE & 3    \\\\\n",
       "\t85 & 0     & 1     & 0     & 0     & 1     & 1     & 0     & 0     &  TRUE & 3    \\\\\n",
       "\t86 & 0     & 1     & 0     & 0     & 1     & 1     & 0     & 0     & FALSE & 3    \\\\\n",
       "\t87 & 0     & 1     & 0     & 0     & 1     & 1     & 0     & 0     &  TRUE & 3    \\\\\n",
       "\t88 & 0     & 1     & 0     & 0     & 1     & 1     & 1     & 1     & FALSE & 3    \\\\\n",
       "\t89 & 0     & 1     & 0     & 0     & 1     & 1     & 0     & 0     & FALSE & 3    \\\\\n",
       "\t90 & 0     & 1     & 1     & 0     & 1     & 1     & 0     & 0     &  TRUE & 3    \\\\\n",
       "\t91 & 0     & 1     & 0     & 0     & 1     & 1     & 1     & 1     &  TRUE & 3    \\\\\n",
       "\t92 & 0     & 1     & 0     & 0     & 1     & 1     & 1     & 1     &  TRUE & 3    \\\\\n",
       "\t94 & 0     & 1     & 0     & 0     & 1     & 1     & 1     & 1     &  TRUE & 3    \\\\\n",
       "\t95 & 0     & 1     & 0     & 0     & 1     & 1     & 1     & 0     &  TRUE & 3    \\\\\n",
       "\t96 & 0     & 1     & 0     & 0     & 1     & 1     & 0     & 0     &  TRUE & 3    \\\\\n",
       "\t97 & 0     & 1     & 0     & 0     & 1     & 1     & 1     & 1     & FALSE & 3    \\\\\n",
       "\t98 & 0     & 1     & 0     & 0     & 1     & 1     & 1     & 1     &  TRUE & 3    \\\\\n",
       "\t99 & 0     & 1     & 0     & 0     & 1     & 1     & 0     & 0     &  TRUE & 3    \\\\\n",
       "\t100 & 0     & 1     & 1     & 0     & 1     & 1     & 1     & 0     &  TRUE & 3    \\\\\n",
       "\\end{tabular}\n"
      ],
      "text/plain": [
       "    Home Products Search Prod_A Prod_B Prod_C Cart Purchase train k3.cluster\n",
       "26  1    1        1      0      1      1      0    0         TRUE 3         \n",
       "42  0    1        0      0      1      1      0    0         TRUE 3         \n",
       "45  0    1        1      0      1      1      0    0         TRUE 3         \n",
       "47  0    1        1      0      1      1      1    1         TRUE 3         \n",
       "84  0    1        0      0      1      1      1    1         TRUE 3         \n",
       "85  0    1        0      0      1      1      0    0         TRUE 3         \n",
       "86  0    1        0      0      1      1      0    0        FALSE 3         \n",
       "87  0    1        0      0      1      1      0    0         TRUE 3         \n",
       "88  0    1        0      0      1      1      1    1        FALSE 3         \n",
       "89  0    1        0      0      1      1      0    0        FALSE 3         \n",
       "90  0    1        1      0      1      1      0    0         TRUE 3         \n",
       "91  0    1        0      0      1      1      1    1         TRUE 3         \n",
       "92  0    1        0      0      1      1      1    1         TRUE 3         \n",
       "94  0    1        0      0      1      1      1    1         TRUE 3         \n",
       "95  0    1        0      0      1      1      1    0         TRUE 3         \n",
       "96  0    1        0      0      1      1      0    0         TRUE 3         \n",
       "97  0    1        0      0      1      1      1    1        FALSE 3         \n",
       "98  0    1        0      0      1      1      1    1         TRUE 3         \n",
       "99  0    1        0      0      1      1      0    0         TRUE 3         \n",
       "100 0    1        1      0      1      1      1    0         TRUE 3         "
      ]
     },
     "metadata": {},
     "output_type": "display_data"
    },
    {
     "data": {
      "text/html": [
       "'Prod_A Observations of Q1.b Path: 0 of 20'"
      ],
      "text/latex": [
       "'Prod\\_A Observations of Q1.b Path: 0 of 20'"
      ],
      "text/markdown": [
       "'Prod_A Observations of Q1.b Path: 0 of 20'"
      ],
      "text/plain": [
       "[1] \"Prod_A Observations of Q1.b Path: 0 of 20\""
      ]
     },
     "metadata": {},
     "output_type": "display_data"
    },
    {
     "data": {
      "text/html": [
       "<table>\n",
       "<thead><tr><th scope=col>Home</th><th scope=col>Products</th><th scope=col>Search</th><th scope=col>Prod_A</th><th scope=col>Prod_B</th><th scope=col>Prod_C</th><th scope=col>Cart</th><th scope=col>Purchase</th><th scope=col>train</th><th scope=col>k3.cluster</th></tr></thead>\n",
       "<tbody>\n",
       "</tbody>\n",
       "</table>\n"
      ],
      "text/latex": [
       "\\begin{tabular}{r|llllllllll}\n",
       " Home & Products & Search & Prod\\_A & Prod\\_B & Prod\\_C & Cart & Purchase & train & k3.cluster\\\\\n",
       "\\hline\n",
       "\\end{tabular}\n"
      ],
      "text/plain": [
       "     Home Products Search Prod_A Prod_B Prod_C Cart Purchase train k3.cluster"
      ]
     },
     "metadata": {},
     "output_type": "display_data"
    },
    {
     "data": {
      "text/html": [
       "'Prod_B Observations of Q1.b Path: 20 of 20'"
      ],
      "text/latex": [
       "'Prod\\_B Observations of Q1.b Path: 20 of 20'"
      ],
      "text/markdown": [
       "'Prod_B Observations of Q1.b Path: 20 of 20'"
      ],
      "text/plain": [
       "[1] \"Prod_B Observations of Q1.b Path: 20 of 20\""
      ]
     },
     "metadata": {},
     "output_type": "display_data"
    },
    {
     "data": {
      "text/html": [
       "<table>\n",
       "<thead><tr><th></th><th scope=col>Home</th><th scope=col>Products</th><th scope=col>Search</th><th scope=col>Prod_A</th><th scope=col>Prod_B</th><th scope=col>Prod_C</th><th scope=col>Cart</th><th scope=col>Purchase</th><th scope=col>train</th><th scope=col>k3.cluster</th></tr></thead>\n",
       "<tbody>\n",
       "\t<tr><th scope=row>26</th><td>1    </td><td>1    </td><td>1    </td><td>0    </td><td>1    </td><td>1    </td><td>0    </td><td>0    </td><td> TRUE</td><td>3    </td></tr>\n",
       "\t<tr><th scope=row>42</th><td>0    </td><td>1    </td><td>0    </td><td>0    </td><td>1    </td><td>1    </td><td>0    </td><td>0    </td><td> TRUE</td><td>3    </td></tr>\n",
       "\t<tr><th scope=row>45</th><td>0    </td><td>1    </td><td>1    </td><td>0    </td><td>1    </td><td>1    </td><td>0    </td><td>0    </td><td> TRUE</td><td>3    </td></tr>\n",
       "\t<tr><th scope=row>47</th><td>0    </td><td>1    </td><td>1    </td><td>0    </td><td>1    </td><td>1    </td><td>1    </td><td>1    </td><td> TRUE</td><td>3    </td></tr>\n",
       "\t<tr><th scope=row>84</th><td>0    </td><td>1    </td><td>0    </td><td>0    </td><td>1    </td><td>1    </td><td>1    </td><td>1    </td><td> TRUE</td><td>3    </td></tr>\n",
       "\t<tr><th scope=row>85</th><td>0    </td><td>1    </td><td>0    </td><td>0    </td><td>1    </td><td>1    </td><td>0    </td><td>0    </td><td> TRUE</td><td>3    </td></tr>\n",
       "\t<tr><th scope=row>86</th><td>0    </td><td>1    </td><td>0    </td><td>0    </td><td>1    </td><td>1    </td><td>0    </td><td>0    </td><td>FALSE</td><td>3    </td></tr>\n",
       "\t<tr><th scope=row>87</th><td>0    </td><td>1    </td><td>0    </td><td>0    </td><td>1    </td><td>1    </td><td>0    </td><td>0    </td><td> TRUE</td><td>3    </td></tr>\n",
       "\t<tr><th scope=row>88</th><td>0    </td><td>1    </td><td>0    </td><td>0    </td><td>1    </td><td>1    </td><td>1    </td><td>1    </td><td>FALSE</td><td>3    </td></tr>\n",
       "\t<tr><th scope=row>89</th><td>0    </td><td>1    </td><td>0    </td><td>0    </td><td>1    </td><td>1    </td><td>0    </td><td>0    </td><td>FALSE</td><td>3    </td></tr>\n",
       "\t<tr><th scope=row>90</th><td>0    </td><td>1    </td><td>1    </td><td>0    </td><td>1    </td><td>1    </td><td>0    </td><td>0    </td><td> TRUE</td><td>3    </td></tr>\n",
       "\t<tr><th scope=row>91</th><td>0    </td><td>1    </td><td>0    </td><td>0    </td><td>1    </td><td>1    </td><td>1    </td><td>1    </td><td> TRUE</td><td>3    </td></tr>\n",
       "\t<tr><th scope=row>92</th><td>0    </td><td>1    </td><td>0    </td><td>0    </td><td>1    </td><td>1    </td><td>1    </td><td>1    </td><td> TRUE</td><td>3    </td></tr>\n",
       "\t<tr><th scope=row>94</th><td>0    </td><td>1    </td><td>0    </td><td>0    </td><td>1    </td><td>1    </td><td>1    </td><td>1    </td><td> TRUE</td><td>3    </td></tr>\n",
       "\t<tr><th scope=row>95</th><td>0    </td><td>1    </td><td>0    </td><td>0    </td><td>1    </td><td>1    </td><td>1    </td><td>0    </td><td> TRUE</td><td>3    </td></tr>\n",
       "\t<tr><th scope=row>96</th><td>0    </td><td>1    </td><td>0    </td><td>0    </td><td>1    </td><td>1    </td><td>0    </td><td>0    </td><td> TRUE</td><td>3    </td></tr>\n",
       "\t<tr><th scope=row>97</th><td>0    </td><td>1    </td><td>0    </td><td>0    </td><td>1    </td><td>1    </td><td>1    </td><td>1    </td><td>FALSE</td><td>3    </td></tr>\n",
       "\t<tr><th scope=row>98</th><td>0    </td><td>1    </td><td>0    </td><td>0    </td><td>1    </td><td>1    </td><td>1    </td><td>1    </td><td> TRUE</td><td>3    </td></tr>\n",
       "\t<tr><th scope=row>99</th><td>0    </td><td>1    </td><td>0    </td><td>0    </td><td>1    </td><td>1    </td><td>0    </td><td>0    </td><td> TRUE</td><td>3    </td></tr>\n",
       "\t<tr><th scope=row>100</th><td>0    </td><td>1    </td><td>1    </td><td>0    </td><td>1    </td><td>1    </td><td>1    </td><td>0    </td><td> TRUE</td><td>3    </td></tr>\n",
       "</tbody>\n",
       "</table>\n"
      ],
      "text/latex": [
       "\\begin{tabular}{r|llllllllll}\n",
       "  & Home & Products & Search & Prod\\_A & Prod\\_B & Prod\\_C & Cart & Purchase & train & k3.cluster\\\\\n",
       "\\hline\n",
       "\t26 & 1     & 1     & 1     & 0     & 1     & 1     & 0     & 0     &  TRUE & 3    \\\\\n",
       "\t42 & 0     & 1     & 0     & 0     & 1     & 1     & 0     & 0     &  TRUE & 3    \\\\\n",
       "\t45 & 0     & 1     & 1     & 0     & 1     & 1     & 0     & 0     &  TRUE & 3    \\\\\n",
       "\t47 & 0     & 1     & 1     & 0     & 1     & 1     & 1     & 1     &  TRUE & 3    \\\\\n",
       "\t84 & 0     & 1     & 0     & 0     & 1     & 1     & 1     & 1     &  TRUE & 3    \\\\\n",
       "\t85 & 0     & 1     & 0     & 0     & 1     & 1     & 0     & 0     &  TRUE & 3    \\\\\n",
       "\t86 & 0     & 1     & 0     & 0     & 1     & 1     & 0     & 0     & FALSE & 3    \\\\\n",
       "\t87 & 0     & 1     & 0     & 0     & 1     & 1     & 0     & 0     &  TRUE & 3    \\\\\n",
       "\t88 & 0     & 1     & 0     & 0     & 1     & 1     & 1     & 1     & FALSE & 3    \\\\\n",
       "\t89 & 0     & 1     & 0     & 0     & 1     & 1     & 0     & 0     & FALSE & 3    \\\\\n",
       "\t90 & 0     & 1     & 1     & 0     & 1     & 1     & 0     & 0     &  TRUE & 3    \\\\\n",
       "\t91 & 0     & 1     & 0     & 0     & 1     & 1     & 1     & 1     &  TRUE & 3    \\\\\n",
       "\t92 & 0     & 1     & 0     & 0     & 1     & 1     & 1     & 1     &  TRUE & 3    \\\\\n",
       "\t94 & 0     & 1     & 0     & 0     & 1     & 1     & 1     & 1     &  TRUE & 3    \\\\\n",
       "\t95 & 0     & 1     & 0     & 0     & 1     & 1     & 1     & 0     &  TRUE & 3    \\\\\n",
       "\t96 & 0     & 1     & 0     & 0     & 1     & 1     & 0     & 0     &  TRUE & 3    \\\\\n",
       "\t97 & 0     & 1     & 0     & 0     & 1     & 1     & 1     & 1     & FALSE & 3    \\\\\n",
       "\t98 & 0     & 1     & 0     & 0     & 1     & 1     & 1     & 1     &  TRUE & 3    \\\\\n",
       "\t99 & 0     & 1     & 0     & 0     & 1     & 1     & 0     & 0     &  TRUE & 3    \\\\\n",
       "\t100 & 0     & 1     & 1     & 0     & 1     & 1     & 1     & 0     &  TRUE & 3    \\\\\n",
       "\\end{tabular}\n"
      ],
      "text/plain": [
       "    Home Products Search Prod_A Prod_B Prod_C Cart Purchase train k3.cluster\n",
       "26  1    1        1      0      1      1      0    0         TRUE 3         \n",
       "42  0    1        0      0      1      1      0    0         TRUE 3         \n",
       "45  0    1        1      0      1      1      0    0         TRUE 3         \n",
       "47  0    1        1      0      1      1      1    1         TRUE 3         \n",
       "84  0    1        0      0      1      1      1    1         TRUE 3         \n",
       "85  0    1        0      0      1      1      0    0         TRUE 3         \n",
       "86  0    1        0      0      1      1      0    0        FALSE 3         \n",
       "87  0    1        0      0      1      1      0    0         TRUE 3         \n",
       "88  0    1        0      0      1      1      1    1        FALSE 3         \n",
       "89  0    1        0      0      1      1      0    0        FALSE 3         \n",
       "90  0    1        1      0      1      1      0    0         TRUE 3         \n",
       "91  0    1        0      0      1      1      1    1         TRUE 3         \n",
       "92  0    1        0      0      1      1      1    1         TRUE 3         \n",
       "94  0    1        0      0      1      1      1    1         TRUE 3         \n",
       "95  0    1        0      0      1      1      1    0         TRUE 3         \n",
       "96  0    1        0      0      1      1      0    0         TRUE 3         \n",
       "97  0    1        0      0      1      1      1    1        FALSE 3         \n",
       "98  0    1        0      0      1      1      1    1         TRUE 3         \n",
       "99  0    1        0      0      1      1      0    0         TRUE 3         \n",
       "100 0    1        1      0      1      1      1    0         TRUE 3         "
      ]
     },
     "metadata": {},
     "output_type": "display_data"
    }
   ],
   "source": [
    "df.c3.p2 = sessions.df[which(sessions.df$k3.cluster == 3),]\n",
    "q1.c3.p2 = df.c3.p2[which(df.c3.p2$Product == 1 & df.c3.p2$Prod_C == 1),]\n",
    "q1.c3.p2.percent = round(nrow(q1.c3.p2)/nrow(df.c3.p2)*100,2)\n",
    "paste0(\"Q1.b Path Observations:\",nrow(q1.c3.p2),\" of \",nrow(df.c3.p2), \" Q1.b Path Frequencey: \",q1.c3.p2.percent, '%')\n",
    "q1.c3.p2\n",
    "\n",
    "# What Product next, Prod_A?\n",
    "q1.c3.p2.prod_a = q1.c3.p2[which(q1.c3.p2$Prod_A == 1),]\n",
    "paste0(\"Prod_A Observations of Q1.b Path: \",nrow(q1.c3.p2.prod_a),' of ', nrow(q1.c3.p2))\n",
    "q1.c3.p2.prod_a\n",
    "\n",
    "# What Product next, Prod_C?\n",
    "q1.c3.p2.prod_b = q1.c3.p2[which(q1.c3.p2$Prod_B == 1),]\n",
    "paste0(\"Prod_B Observations of Q1.b Path: \",nrow(q1.c3.p2.prod_b),' of ', nrow(q1.c3.p2))\n",
    "q1.c3.p2.prod_b"
   ]
  },
  {
   "cell_type": "code",
   "execution_count": 14,
   "metadata": {
    "collapsed": false
   },
   "outputs": [
    {
     "name": "stdout",
     "output_type": "stream",
     "text": [
      "\f"
     ]
    },
    {
     "data": {
      "text/html": [
       "<ol class=list-inline>\n",
       "\t<li>'Home'</li>\n",
       "\t<li>'Products'</li>\n",
       "\t<li>'Search'</li>\n",
       "\t<li>'Prod_A'</li>\n",
       "\t<li>'Prod_B'</li>\n",
       "\t<li>'Prod_C'</li>\n",
       "\t<li>'Cart'</li>\n",
       "\t<li>'Purchase'</li>\n",
       "</ol>\n"
      ],
      "text/latex": [
       "\\begin{enumerate*}\n",
       "\\item 'Home'\n",
       "\\item 'Products'\n",
       "\\item 'Search'\n",
       "\\item 'Prod\\_A'\n",
       "\\item 'Prod\\_B'\n",
       "\\item 'Prod\\_C'\n",
       "\\item 'Cart'\n",
       "\\item 'Purchase'\n",
       "\\end{enumerate*}\n"
      ],
      "text/markdown": [
       "1. 'Home'\n",
       "2. 'Products'\n",
       "3. 'Search'\n",
       "4. 'Prod_A'\n",
       "5. 'Prod_B'\n",
       "6. 'Prod_C'\n",
       "7. 'Cart'\n",
       "8. 'Purchase'\n",
       "\n",
       "\n"
      ],
      "text/plain": [
       "[1] \"Home\"     \"Products\" \"Search\"   \"Prod_A\"   \"Prod_B\"   \"Prod_C\"   \"Cart\"    \n",
       "[8] \"Purchase\""
      ]
     },
     "metadata": {},
     "output_type": "display_data"
    },
    {
     "data": {
      "image/png": "[encoded data removed]",
      "text/plain": [
       "plot without title"
      ]
     },
     "metadata": {},
     "output_type": "display_data"
    }
   ],
   "source": [
    "# Clear objects from Memory\n",
    "rm(list=ls())\n",
    "# Clear Console:\n",
    "cat(\"\\014\")\n",
    "\n",
    "# Read Data Source\n",
    "read.data = function(file=file){\n",
    "  read.csv(file,header = TRUE,stringsAsFactors = FALSE)\n",
    "}\n",
    "sessions.df0 = read.data('Sessions.csv')\n",
    "names(sessions.df0)\n",
    "sessions.df1 = sessions.df0[,c('Home','Search','Prod_B')]\n",
    "\n",
    "sessions.df.pA.p = sessions.df0[,c('Prod_A','Cart','Purchase')]\n",
    "sessions.df.pB.p = sessions.df0[,c('Prod_B','Cart','Purchase')]\n",
    "sessions.df.pC.p = sessions.df0[,c('Prod_C','Cart','Purchase')]\n",
    "\n",
    "pA.p.3m1 = kmeans(sessions.df.pA.p,3,nstart=25)\n",
    "pA.p.3m2 = kmeans(sessions.df.pA.p,3,nstart=25)\n",
    "plot(sessions.df.pA.p, pch=pA.p.3m1$cluster,col=pA.p.3m1$cluster)\n",
    "points(sessions.df.pA.p,pch=pA.p.3m2$cluster+3,col=pA.p.3m2$cluster)"
   ]
  },
  {
   "cell_type": "code",
   "execution_count": null,
   "metadata": {
    "collapsed": true
   },
   "outputs": [],
   "source": []
  }
 ],
 "metadata": {
  "anaconda-cloud": {},
  "kernelspec": {
   "display_name": "R",
   "language": "R",
   "name": "ir"
  },
  "language_info": {
   "codemirror_mode": "r",
   "file_extension": ".r",
   "mimetype": "text/x-r-source",
   "name": "R",
   "pygments_lexer": "r",
   "version": "3.3.2"
  }
 },
 "nbformat": 4,
 "nbformat_minor": 0
}
