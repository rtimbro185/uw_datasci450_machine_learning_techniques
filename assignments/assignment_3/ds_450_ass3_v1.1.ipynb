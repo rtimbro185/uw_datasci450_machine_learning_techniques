{
 "cells": [
  {
   "cell_type": "markdown",
   "metadata": {
    "collapsed": true
   },
   "source": [
    "# Ryan Timbrook\n",
    "## Data Science 450, Spring 2017\n",
    "## Date: 05/10/2017\n",
    "## Assignment 3\n",
    "\n",
    "\n",
    "# Use K-means clustering algorithm to cluster user sessions of an online shopping site into segments.\n",
    "\n",
    "Try different clustering runs with various numbers of clusters (e.g., between 4 and 8), and select the result set(s) that seem to best answer as many of the following questions as possible\n",
    "\n",
    "## Question 1:\n",
    "If a new user is observed to access the following pages: Home => Search => Prod_B\n",
    "### Q1.a: According to your clusters, what other product should be recommended to this user?\n",
    "### Q1.b: What if the new user has accessed the following sequence instead: Products => Prod_C?\n",
    "\n",
    "\n",
    "## Question 2: \n",
    "### Can clustering help us identify:\n",
    "*\tcasual browsers (\"window shoppers\")\n",
    "*\tfocused browsers (those who seem to know what products they are looking for)\n",
    "*\tsearchers (those using the search function to ﬁnd items they want)? \n",
    "### If so, are any of these groups show a higher or lower propensity to make a purchase?\n"
   ]
  },
  {
   "cell_type": "code",
   "execution_count": 42,
   "metadata": {
    "collapsed": false
   },
   "outputs": [
    {
     "name": "stdout",
     "output_type": "stream",
     "text": [
      "\f"
     ]
    }
   ],
   "source": [
    "# Clear objects from Memory\n",
    "rm(list=ls())\n",
    "# Clear Console:\n",
    "cat(\"\\014\")\n",
    "\n",
    "# Read Data Source\n",
    "read.data = function(file=file){\n",
    "  read.csv(file,header = TRUE,stringsAsFactors = FALSE)\n",
    "}\n",
    "sess.df0 = read.data('Sessions.csv')"
   ]
  },
  {
   "cell_type": "code",
   "execution_count": 43,
   "metadata": {
    "collapsed": false
   },
   "outputs": [
    {
     "data": {
      "text/html": [
       "<ol class=list-inline>\n",
       "\t<li>'Home'</li>\n",
       "\t<li>'Products'</li>\n",
       "\t<li>'Search'</li>\n",
       "\t<li>'Prod_A'</li>\n",
       "\t<li>'Prod_B'</li>\n",
       "\t<li>'Prod_C'</li>\n",
       "\t<li>'Cart'</li>\n",
       "\t<li>'Purchase'</li>\n",
       "</ol>\n"
      ],
      "text/latex": [
       "\\begin{enumerate*}\n",
       "\\item 'Home'\n",
       "\\item 'Products'\n",
       "\\item 'Search'\n",
       "\\item 'Prod\\_A'\n",
       "\\item 'Prod\\_B'\n",
       "\\item 'Prod\\_C'\n",
       "\\item 'Cart'\n",
       "\\item 'Purchase'\n",
       "\\end{enumerate*}\n"
      ],
      "text/markdown": [
       "1. 'Home'\n",
       "2. 'Products'\n",
       "3. 'Search'\n",
       "4. 'Prod_A'\n",
       "5. 'Prod_B'\n",
       "6. 'Prod_C'\n",
       "7. 'Cart'\n",
       "8. 'Purchase'\n",
       "\n",
       "\n"
      ],
      "text/plain": [
       "[1] \"Home\"     \"Products\" \"Search\"   \"Prod_A\"   \"Prod_B\"   \"Prod_C\"   \"Cart\"    \n",
       "[8] \"Purchase\""
      ]
     },
     "metadata": {},
     "output_type": "display_data"
    },
    {
     "data": {
      "text/html": [
       "100"
      ],
      "text/latex": [
       "100"
      ],
      "text/markdown": [
       "100"
      ],
      "text/plain": [
       "[1] 100"
      ]
     },
     "metadata": {},
     "output_type": "display_data"
    },
    {
     "name": "stdout",
     "output_type": "stream",
     "text": [
      "'data.frame':\t100 obs. of  8 variables:\n",
      " $ Home    : int  1 1 1 1 1 1 1 1 1 1 ...\n",
      " $ Products: int  0 1 0 1 0 1 0 0 1 0 ...\n",
      " $ Search  : int  0 1 0 1 1 1 1 1 1 1 ...\n",
      " $ Prod_A  : int  0 0 0 1 1 0 0 0 0 1 ...\n",
      " $ Prod_B  : int  0 0 0 0 1 1 0 1 1 1 ...\n",
      " $ Prod_C  : int  0 0 0 0 0 0 0 0 0 1 ...\n",
      " $ Cart    : int  0 1 0 1 1 0 1 0 1 1 ...\n",
      " $ Purchase: int  0 0 0 1 1 0 1 0 0 1 ...\n"
     ]
    },
    {
     "data": {
      "text/html": [
       "<table>\n",
       "<thead><tr><th scope=col>Home</th><th scope=col>Products</th><th scope=col>Search</th><th scope=col>Prod_A</th><th scope=col>Prod_B</th><th scope=col>Prod_C</th><th scope=col>Cart</th><th scope=col>Purchase</th></tr></thead>\n",
       "<tbody>\n",
       "\t<tr><td>1</td><td>0</td><td>0</td><td>0</td><td>0</td><td>0</td><td>0</td><td>0</td></tr>\n",
       "\t<tr><td>1</td><td>1</td><td>1</td><td>0</td><td>0</td><td>0</td><td>1</td><td>0</td></tr>\n",
       "\t<tr><td>1</td><td>0</td><td>0</td><td>0</td><td>0</td><td>0</td><td>0</td><td>0</td></tr>\n",
       "\t<tr><td>1</td><td>1</td><td>1</td><td>1</td><td>0</td><td>0</td><td>1</td><td>1</td></tr>\n",
       "\t<tr><td>1</td><td>0</td><td>1</td><td>1</td><td>1</td><td>0</td><td>1</td><td>1</td></tr>\n",
       "\t<tr><td>1</td><td>1</td><td>1</td><td>0</td><td>1</td><td>0</td><td>0</td><td>0</td></tr>\n",
       "</tbody>\n",
       "</table>\n"
      ],
      "text/latex": [
       "\\begin{tabular}{r|llllllll}\n",
       " Home & Products & Search & Prod\\_A & Prod\\_B & Prod\\_C & Cart & Purchase\\\\\n",
       "\\hline\n",
       "\t 1 & 0 & 0 & 0 & 0 & 0 & 0 & 0\\\\\n",
       "\t 1 & 1 & 1 & 0 & 0 & 0 & 1 & 0\\\\\n",
       "\t 1 & 0 & 0 & 0 & 0 & 0 & 0 & 0\\\\\n",
       "\t 1 & 1 & 1 & 1 & 0 & 0 & 1 & 1\\\\\n",
       "\t 1 & 0 & 1 & 1 & 1 & 0 & 1 & 1\\\\\n",
       "\t 1 & 1 & 1 & 0 & 1 & 0 & 0 & 0\\\\\n",
       "\\end{tabular}\n"
      ],
      "text/plain": [
       "  Home Products Search Prod_A Prod_B Prod_C Cart Purchase\n",
       "1 1    0        0      0      0      0      0    0       \n",
       "2 1    1        1      0      0      0      1    0       \n",
       "3 1    0        0      0      0      0      0    0       \n",
       "4 1    1        1      1      0      0      1    1       \n",
       "5 1    0        1      1      1      0      1    1       \n",
       "6 1    1        1      0      1      0      0    0       "
      ]
     },
     "metadata": {},
     "output_type": "display_data"
    }
   ],
   "source": [
    "if(!require(factoextra)){install.packages(\"factoextra\")}\n",
    "names(sess.df0)\n",
    "nrow(sess.df0)\n",
    "str(sess.df0)\n",
    "head(sess.df0)"
   ]
  },
  {
   "cell_type": "code",
   "execution_count": null,
   "metadata": {
    "collapsed": true
   },
   "outputs": [],
   "source": [
    "sess.df1 = sess.df0[,c('Prod_A','Prod_B','Prod_C','Purchase')]\n"
   ]
  },
  {
   "cell_type": "markdown",
   "metadata": {},
   "source": [
    "# K-means Partitioning\n",
    "A plot of the within groups sum of squares by number of clusters extracted can help determine the appropriate number of clusters\n",
    "\n",
    "Credits: http://www.statmethods.net/advstats/cluster.html"
   ]
  },
  {
   "cell_type": "code",
   "execution_count": 24,
   "metadata": {
    "collapsed": false
   },
   "outputs": [
    {
     "data": {
      "image/png": "[encoded data removed]",
      "text/plain": [
       "plot without title"
      ]
     },
     "metadata": {},
     "output_type": "display_data"
    }
   ],
   "source": [
    "#Determine number of clusters\n",
    "wss = (nrow(sessions.df)-1)*sum(apply(sessions.df,2,var))\n",
    "\n",
    "for(i in 2:15) wss[i] = sum(kmeans(sessions.df,centers=i)$withinss)\n",
    "plot(1:15,wss,type='b',xlab=\"Number of Clusters\", ylab=\"Within groups sum of squares\")"
   ]
  },
  {
   "cell_type": "markdown",
   "metadata": {},
   "source": [
    "# K-means Cluster Analysis\n",
    "The nstart argument teslls kmeans to try that many random starts and keep the best.\n",
    "With 20 or 25 random starts, you'll generally find the overall best solution.\n",
    "Credit: R12.KMC"
   ]
  },
  {
   "cell_type": "code",
   "execution_count": 25,
   "metadata": {
    "collapsed": false
   },
   "outputs": [
    {
     "data": {
      "text/plain": [
       "K-means clustering with 4 clusters of sizes 28, 30, 22, 20\n",
       "\n",
       "Cluster means:\n",
       "       Home  Products    Search    Prod_A    Prod_B    Prod_C      Cart\n",
       "1 0.0000000 1.0000000 0.3214286 0.0000000 1.0000000 0.6785714 0.5000000\n",
       "2 0.7666667 0.6000000 0.4666667 0.8333333 0.3333333 0.3000000 1.0000000\n",
       "3 0.8181818 0.6818182 0.0000000 0.8636364 0.3636364 0.2727273 0.4090909\n",
       "4 0.9500000 0.5500000 1.0000000 0.4500000 0.4500000 0.5500000 0.4000000\n",
       "   Purchase\n",
       "1 0.3214286\n",
       "2 1.0000000\n",
       "3 0.0000000\n",
       "4 0.0000000\n",
       "\n",
       "Clustering vector:\n",
       "  [1] 3 4 3 2 2 4 2 4 4 2 4 4 2 4 4 2 2 4 3 3 2 2 3 3 3 4 3 3 4 3 3 3 2 4 3 4 2\n",
       " [38] 1 1 1 1 1 1 1 1 1 1 2 4 4 2 4 2 3 3 2 3 4 2 2 4 3 2 2 3 4 3 2 4 2 2 2 2 3\n",
       " [75] 2 2 3 2 2 3 2 2 1 1 1 1 1 1 1 1 1 1 1 1 1 1 1 1 1 1\n",
       "\n",
       "Within cluster sum of squares by cluster:\n",
       "[1] 25.32143 37.16667 25.40909 25.55000\n",
       " (between_SS / total_SS =  40.5 %)\n",
       "\n",
       "Available components:\n",
       "\n",
       "[1] \"cluster\"      \"centers\"      \"totss\"        \"withinss\"     \"tot.withinss\"\n",
       "[6] \"betweenss\"    \"size\"         \"iter\"         \"ifault\"      "
      ]
     },
     "metadata": {},
     "output_type": "display_data"
    }
   ],
   "source": [
    "sessions.4m1 = kmeans(sessions.df,4,nstart=25) # 4 clusters\n",
    "sessions.4m1"
   ]
  },
  {
   "cell_type": "code",
   "execution_count": 26,
   "metadata": {
    "collapsed": false
   },
   "outputs": [],
   "source": [
    "#get cluster means\n",
    "#aggregate(sessions.4m1,by=list(sessions.4m1$cluster),FUN=mean)\n",
    "#append cluster assignment\n",
    "#sessions.4m1 = data.frame(sessions.4m1,sessions.4m1$cluster)\n",
    "#head(sessions.df)"
   ]
  },
  {
   "cell_type": "markdown",
   "metadata": {},
   "source": [
    "# Plot Cluster"
   ]
  },
  {
   "cell_type": "code",
   "execution_count": 27,
   "metadata": {
    "collapsed": false
   },
   "outputs": [
    {
     "data": {
      "image/png": "[encoded data removed]",
      "text/plain": [
       "Plot with title \"CLUSPLOT( sessions.df )\""
      ]
     },
     "metadata": {},
     "output_type": "display_data"
    }
   ],
   "source": [
    "if(!require(cluster)){install.packages(\"cluster\")}\n",
    "#plot cluster\n",
    "clusplot(sessions.df,sessions.4m1$cluster,color=TRUE,shade=TRUE,labels=2,lines=0)\n"
   ]
  },
  {
   "cell_type": "code",
   "execution_count": 28,
   "metadata": {
    "collapsed": false
   },
   "outputs": [
    {
     "data": {
      "text/html": [
       "<table>\n",
       "<thead><tr><th scope=col>x</th><th scope=col>y</th></tr></thead>\n",
       "<tbody>\n",
       "\t<tr><td> 2.1415443</td><td> 0.3521806</td></tr>\n",
       "\t<tr><td> 0.3010342</td><td> 0.6685520</td></tr>\n",
       "\t<tr><td> 2.6218040</td><td>-0.8024843</td></tr>\n",
       "\t<tr><td> 1.3213860</td><td> 1.2390889</td></tr>\n",
       "\t<tr><td>-0.9119730</td><td>-0.0835273</td></tr>\n",
       "\t<tr><td> 1.9843365</td><td> 1.4847659</td></tr>\n",
       "</tbody>\n",
       "</table>\n"
      ],
      "text/latex": [
       "\\begin{tabular}{r|ll}\n",
       " x & y\\\\\n",
       "\\hline\n",
       "\t  2.1415443 &  0.3521806\\\\\n",
       "\t  0.3010342 &  0.6685520\\\\\n",
       "\t  2.6218040 & -0.8024843\\\\\n",
       "\t  1.3213860 &  1.2390889\\\\\n",
       "\t -0.9119730 & -0.0835273\\\\\n",
       "\t  1.9843365 &  1.4847659\\\\\n",
       "\\end{tabular}\n"
      ],
      "text/plain": [
       "  x          y         \n",
       "1  2.1415443  0.3521806\n",
       "2  0.3010342  0.6685520\n",
       "3  2.6218040 -0.8024843\n",
       "4  1.3213860  1.2390889\n",
       "5 -0.9119730 -0.0835273\n",
       "6  1.9843365  1.4847659"
      ]
     },
     "metadata": {},
     "output_type": "display_data"
    },
    {
     "data": {
      "text/html": [
       "198"
      ],
      "text/latex": [
       "198"
      ],
      "text/markdown": [
       "198"
      ],
      "text/plain": [
       "[1] 198"
      ]
     },
     "metadata": {},
     "output_type": "display_data"
    },
    {
     "data": {
      "image/png": "[encoded data removed]",
      "text/plain": [
       "plot without title"
      ]
     },
     "metadata": {},
     "output_type": "display_data"
    }
   ],
   "source": [
    "#Finding K\n",
    "n = 200\n",
    "g = 6\n",
    "set.seed(g)\n",
    "k.find.df = data.frame(x = unlist(lapply(1:g, function(i) rnorm(n/g, runif(1)*i^2))),\n",
    "                y = unlist(lapply(1:g, function(i) rnorm(n/g, runif(1)*i^2))))\n",
    "head(k.find.df)\n",
    "nrow(k.find.df)\n",
    "plot(k.find.df)"
   ]
  },
  {
   "cell_type": "code",
   "execution_count": 29,
   "metadata": {
    "collapsed": false
   },
   "outputs": [
    {
     "data": {
      "text/html": [
       "<ol class=list-inline>\n",
       "\t<li>4</li>\n",
       "\t<li>3</li>\n",
       "\t<li>4</li>\n",
       "\t<li>2</li>\n",
       "\t<li>2</li>\n",
       "\t<li>3</li>\n",
       "\t<li>2</li>\n",
       "\t<li>3</li>\n",
       "\t<li>3</li>\n",
       "\t<li>2</li>\n",
       "\t<li>3</li>\n",
       "\t<li>3</li>\n",
       "\t<li>2</li>\n",
       "\t<li>3</li>\n",
       "\t<li>3</li>\n",
       "\t<li>2</li>\n",
       "\t<li>2</li>\n",
       "\t<li>3</li>\n",
       "\t<li>4</li>\n",
       "\t<li>4</li>\n",
       "\t<li>2</li>\n",
       "\t<li>2</li>\n",
       "\t<li>4</li>\n",
       "\t<li>4</li>\n",
       "\t<li>4</li>\n",
       "\t<li>3</li>\n",
       "\t<li>4</li>\n",
       "\t<li>4</li>\n",
       "\t<li>3</li>\n",
       "\t<li>4</li>\n",
       "\t<li>4</li>\n",
       "\t<li>4</li>\n",
       "\t<li>2</li>\n",
       "\t<li>3</li>\n",
       "\t<li>4</li>\n",
       "\t<li>3</li>\n",
       "\t<li>2</li>\n",
       "\t<li>1</li>\n",
       "\t<li>1</li>\n",
       "\t<li>1</li>\n",
       "\t<li>1</li>\n",
       "\t<li>1</li>\n",
       "\t<li>1</li>\n",
       "\t<li>1</li>\n",
       "\t<li>1</li>\n",
       "\t<li>1</li>\n",
       "\t<li>1</li>\n",
       "\t<li>2</li>\n",
       "\t<li>3</li>\n",
       "\t<li>3</li>\n",
       "\t<li>2</li>\n",
       "\t<li>3</li>\n",
       "\t<li>2</li>\n",
       "\t<li>4</li>\n",
       "\t<li>4</li>\n",
       "\t<li>2</li>\n",
       "\t<li>4</li>\n",
       "\t<li>3</li>\n",
       "\t<li>2</li>\n",
       "\t<li>2</li>\n",
       "\t<li>3</li>\n",
       "\t<li>4</li>\n",
       "\t<li>2</li>\n",
       "\t<li>2</li>\n",
       "\t<li>4</li>\n",
       "\t<li>3</li>\n",
       "\t<li>4</li>\n",
       "\t<li>2</li>\n",
       "\t<li>3</li>\n",
       "\t<li>2</li>\n",
       "\t<li>2</li>\n",
       "\t<li>2</li>\n",
       "\t<li>2</li>\n",
       "\t<li>4</li>\n",
       "\t<li>2</li>\n",
       "\t<li>2</li>\n",
       "\t<li>4</li>\n",
       "\t<li>2</li>\n",
       "\t<li>2</li>\n",
       "\t<li>4</li>\n",
       "\t<li>2</li>\n",
       "\t<li>2</li>\n",
       "\t<li>1</li>\n",
       "\t<li>1</li>\n",
       "\t<li>1</li>\n",
       "\t<li>1</li>\n",
       "\t<li>1</li>\n",
       "\t<li>1</li>\n",
       "\t<li>1</li>\n",
       "\t<li>1</li>\n",
       "\t<li>1</li>\n",
       "\t<li>1</li>\n",
       "\t<li>1</li>\n",
       "\t<li>1</li>\n",
       "\t<li>1</li>\n",
       "\t<li>1</li>\n",
       "\t<li>1</li>\n",
       "\t<li>1</li>\n",
       "\t<li>1</li>\n",
       "\t<li>1</li>\n",
       "</ol>\n"
      ],
      "text/latex": [
       "\\begin{enumerate*}\n",
       "\\item 4\n",
       "\\item 3\n",
       "\\item 4\n",
       "\\item 2\n",
       "\\item 2\n",
       "\\item 3\n",
       "\\item 2\n",
       "\\item 3\n",
       "\\item 3\n",
       "\\item 2\n",
       "\\item 3\n",
       "\\item 3\n",
       "\\item 2\n",
       "\\item 3\n",
       "\\item 3\n",
       "\\item 2\n",
       "\\item 2\n",
       "\\item 3\n",
       "\\item 4\n",
       "\\item 4\n",
       "\\item 2\n",
       "\\item 2\n",
       "\\item 4\n",
       "\\item 4\n",
       "\\item 4\n",
       "\\item 3\n",
       "\\item 4\n",
       "\\item 4\n",
       "\\item 3\n",
       "\\item 4\n",
       "\\item 4\n",
       "\\item 4\n",
       "\\item 2\n",
       "\\item 3\n",
       "\\item 4\n",
       "\\item 3\n",
       "\\item 2\n",
       "\\item 1\n",
       "\\item 1\n",
       "\\item 1\n",
       "\\item 1\n",
       "\\item 1\n",
       "\\item 1\n",
       "\\item 1\n",
       "\\item 1\n",
       "\\item 1\n",
       "\\item 1\n",
       "\\item 2\n",
       "\\item 3\n",
       "\\item 3\n",
       "\\item 2\n",
       "\\item 3\n",
       "\\item 2\n",
       "\\item 4\n",
       "\\item 4\n",
       "\\item 2\n",
       "\\item 4\n",
       "\\item 3\n",
       "\\item 2\n",
       "\\item 2\n",
       "\\item 3\n",
       "\\item 4\n",
       "\\item 2\n",
       "\\item 2\n",
       "\\item 4\n",
       "\\item 3\n",
       "\\item 4\n",
       "\\item 2\n",
       "\\item 3\n",
       "\\item 2\n",
       "\\item 2\n",
       "\\item 2\n",
       "\\item 2\n",
       "\\item 4\n",
       "\\item 2\n",
       "\\item 2\n",
       "\\item 4\n",
       "\\item 2\n",
       "\\item 2\n",
       "\\item 4\n",
       "\\item 2\n",
       "\\item 2\n",
       "\\item 1\n",
       "\\item 1\n",
       "\\item 1\n",
       "\\item 1\n",
       "\\item 1\n",
       "\\item 1\n",
       "\\item 1\n",
       "\\item 1\n",
       "\\item 1\n",
       "\\item 1\n",
       "\\item 1\n",
       "\\item 1\n",
       "\\item 1\n",
       "\\item 1\n",
       "\\item 1\n",
       "\\item 1\n",
       "\\item 1\n",
       "\\item 1\n",
       "\\end{enumerate*}\n"
      ],
      "text/markdown": [
       "1. 4\n",
       "2. 3\n",
       "3. 4\n",
       "4. 2\n",
       "5. 2\n",
       "6. 3\n",
       "7. 2\n",
       "8. 3\n",
       "9. 3\n",
       "10. 2\n",
       "11. 3\n",
       "12. 3\n",
       "13. 2\n",
       "14. 3\n",
       "15. 3\n",
       "16. 2\n",
       "17. 2\n",
       "18. 3\n",
       "19. 4\n",
       "20. 4\n",
       "21. 2\n",
       "22. 2\n",
       "23. 4\n",
       "24. 4\n",
       "25. 4\n",
       "26. 3\n",
       "27. 4\n",
       "28. 4\n",
       "29. 3\n",
       "30. 4\n",
       "31. 4\n",
       "32. 4\n",
       "33. 2\n",
       "34. 3\n",
       "35. 4\n",
       "36. 3\n",
       "37. 2\n",
       "38. 1\n",
       "39. 1\n",
       "40. 1\n",
       "41. 1\n",
       "42. 1\n",
       "43. 1\n",
       "44. 1\n",
       "45. 1\n",
       "46. 1\n",
       "47. 1\n",
       "48. 2\n",
       "49. 3\n",
       "50. 3\n",
       "51. 2\n",
       "52. 3\n",
       "53. 2\n",
       "54. 4\n",
       "55. 4\n",
       "56. 2\n",
       "57. 4\n",
       "58. 3\n",
       "59. 2\n",
       "60. 2\n",
       "61. 3\n",
       "62. 4\n",
       "63. 2\n",
       "64. 2\n",
       "65. 4\n",
       "66. 3\n",
       "67. 4\n",
       "68. 2\n",
       "69. 3\n",
       "70. 2\n",
       "71. 2\n",
       "72. 2\n",
       "73. 2\n",
       "74. 4\n",
       "75. 2\n",
       "76. 2\n",
       "77. 4\n",
       "78. 2\n",
       "79. 2\n",
       "80. 4\n",
       "81. 2\n",
       "82. 2\n",
       "83. 1\n",
       "84. 1\n",
       "85. 1\n",
       "86. 1\n",
       "87. 1\n",
       "88. 1\n",
       "89. 1\n",
       "90. 1\n",
       "91. 1\n",
       "92. 1\n",
       "93. 1\n",
       "94. 1\n",
       "95. 1\n",
       "96. 1\n",
       "97. 1\n",
       "98. 1\n",
       "99. 1\n",
       "100. 1\n",
       "\n",
       "\n"
      ],
      "text/plain": [
       "  [1] 4 3 4 2 2 3 2 3 3 2 3 3 2 3 3 2 2 3 4 4 2 2 4 4 4 3 4 4 3 4 4 4 2 3 4 3 2\n",
       " [38] 1 1 1 1 1 1 1 1 1 1 2 3 3 2 3 2 4 4 2 4 3 2 2 3 4 2 2 4 3 4 2 3 2 2 2 2 4\n",
       " [75] 2 2 4 2 2 4 2 2 1 1 1 1 1 1 1 1 1 1 1 1 1 1 1 1 1 1"
      ]
     },
     "metadata": {},
     "output_type": "display_data"
    }
   ],
   "source": [
    "sessions.df.scaled = scale(sessions.df)\n",
    "set.seed(777)\n",
    "km.scalled.4m = kmeans(sessions.df.scaled,4,nstart=25)\n",
    "km.scalled.4m$cluster"
   ]
  },
  {
   "cell_type": "code",
   "execution_count": 30,
   "metadata": {
    "collapsed": false
   },
   "outputs": [
    {
     "data": {},
     "metadata": {},
     "output_type": "display_data"
    },
    {
     "data": {
      "image/png": "[encoded data removed]",
      "text/plain": [
       "plot without title"
      ]
     },
     "metadata": {},
     "output_type": "display_data"
    }
   ],
   "source": [
    "#Visualize k-means clusters\n",
    "fviz_cluster(km.scalled.4m,data=sessions.df.scaled,geom='point',stand=FALSE,frame.type = 'norm')"
   ]
  },
  {
   "cell_type": "code",
   "execution_count": 31,
   "metadata": {
    "collapsed": false
   },
   "outputs": [
    {
     "data": {
      "image/png": "[encoded data removed]",
      "text/plain": [
       "plot without title"
      ]
     },
     "metadata": {},
     "output_type": "display_data"
    }
   ],
   "source": [
    "pairs(km.scalled.4m$centers, pch=1:4,col=1:4)"
   ]
  },
  {
   "cell_type": "markdown",
   "metadata": {},
   "source": [
    "# K-means Partitioning\n",
    "# Finding Elbow\n",
    "\n",
    "A plot of the within groups sum of squares by number of clusters extracted can help determine the appropriate number of clusters\n",
    "\n",
    "Credits: http://www.statmethods.net/advstats/cluster.html\n"
   ]
  },
  {
   "cell_type": "code",
   "execution_count": 32,
   "metadata": {
    "collapsed": false
   },
   "outputs": [
    {
     "data": {
      "image/png": "[encoded data removed]",
      "text/plain": [
       "plot without title"
      ]
     },
     "metadata": {},
     "output_type": "display_data"
    }
   ],
   "source": [
    "elbow.df = k.find.df\n",
    "#Determine number of clusters\n",
    "wss = (nrow(elbow.df)-1)*sum(apply(elbow.df,2,var))\n",
    "\n",
    "for(i in 2:15) wss[i] = sum(kmeans(elbow.df,centers=i)$withinss)\n",
    "plot(1:15,wss,type='b',xlab=\"Number of Clusters\", ylab=\"Within groups sum of squares\")"
   ]
  },
  {
   "cell_type": "code",
   "execution_count": 33,
   "metadata": {
    "collapsed": false
   },
   "outputs": [
    {
     "data": {
      "image/png": "[encoded data removed]",
      "text/plain": [
       "plot without title"
      ]
     },
     "metadata": {},
     "output_type": "display_data"
    }
   ],
   "source": [
    "max.k = 8 #Max number of clusters\n",
    "df = sessions.df.scaled\n",
    "wss = sapply(1:max.k, function(k){kmeans(df, k, nstart=10)$tot.withinss})\n",
    "plot(1:max.k, wss, type=\"b\", pch=19, frame=FALSE, xlab=\"Number of clusters K\", ylab=\"Total within-clusters sum of squares\")\n",
    "abline(v=3,lty=2)"
   ]
  },
  {
   "cell_type": "markdown",
   "metadata": {},
   "source": [
    "# Use Silhouette plot and Partition around mediods\n"
   ]
  },
  {
   "cell_type": "code",
   "execution_count": 34,
   "metadata": {
    "collapsed": false
   },
   "outputs": [
    {
     "name": "stdout",
     "output_type": "stream",
     "text": [
      "Silhouette Cluster Estimation:  4 \n"
     ]
    },
    {
     "data": {
      "image/png": "[encoded data removed]",
      "text/plain": [
       "Plot with title \"clusplot(pam(x = k.find.df, k = best$nc))\""
      ]
     },
     "metadata": {},
     "output_type": "display_data"
    },
    {
     "data": {
      "image/png": "[encoded data removed]",
      "text/plain": [
       "Plot with title \"Silhouette plot of pam(x = k.find.df, k = best$nc)\""
      ]
     },
     "metadata": {},
     "output_type": "display_data"
    }
   ],
   "source": [
    "if(!require(fpc)){install.packages(\"fpc\")}\n",
    "best = pamk(k.find.df)\n",
    "cat(\"Silhouette Cluster Estimation: \",best$nc,\"\\n\")\n",
    "plot(pam(k.find.df,best$nc))"
   ]
  },
  {
   "cell_type": "markdown",
   "metadata": {},
   "source": [
    "# Partion Clustering Using NbClust"
   ]
  },
  {
   "cell_type": "code",
   "execution_count": 35,
   "metadata": {
    "collapsed": false
   },
   "outputs": [
    {
     "data": {
      "text/html": [
       "<dl>\n",
       "\t<dt>$All.index</dt>\n",
       "\t\t<dd><dl class=dl-horizontal>\n",
       "\t<dt>2</dt>\n",
       "\t\t<dd>-2.4808</dd>\n",
       "\t<dt>3</dt>\n",
       "\t\t<dd>-3.1454</dd>\n",
       "\t<dt>4</dt>\n",
       "\t\t<dd>-3.4101</dd>\n",
       "\t<dt>5</dt>\n",
       "\t\t<dd>-3.6939</dd>\n",
       "\t<dt>6</dt>\n",
       "\t\t<dd>-3.9603</dd>\n",
       "\t<dt>7</dt>\n",
       "\t\t<dd>-4.402</dd>\n",
       "\t<dt>8</dt>\n",
       "\t\t<dd>-4.5922</dd>\n",
       "\t<dt>9</dt>\n",
       "\t\t<dd>-4.6748</dd>\n",
       "\t<dt>10</dt>\n",
       "\t\t<dd>-4.6119</dd>\n",
       "</dl>\n",
       "</dd>\n",
       "\t<dt>$All.CriticalValues</dt>\n",
       "\t\t<dd><dl class=dl-horizontal>\n",
       "\t<dt>2</dt>\n",
       "\t\t<dd>0.6739</dd>\n",
       "\t<dt>3</dt>\n",
       "\t\t<dd>0.2762</dd>\n",
       "\t<dt>4</dt>\n",
       "\t\t<dd>0.2984</dd>\n",
       "\t<dt>5</dt>\n",
       "\t\t<dd>0.2832</dd>\n",
       "\t<dt>6</dt>\n",
       "\t\t<dd>0.4639</dd>\n",
       "\t<dt>7</dt>\n",
       "\t\t<dd>0.2158</dd>\n",
       "\t<dt>8</dt>\n",
       "\t\t<dd>0.1101</dd>\n",
       "\t<dt>9</dt>\n",
       "\t\t<dd>-0.0349</dd>\n",
       "\t<dt>10</dt>\n",
       "\t\t<dd>0.2701</dd>\n",
       "</dl>\n",
       "</dd>\n",
       "\t<dt>$Best.nc</dt>\n",
       "\t\t<dd><dl class=dl-horizontal>\n",
       "\t<dt>Number_clusters</dt>\n",
       "\t\t<dd>2</dd>\n",
       "\t<dt>Value_Index</dt>\n",
       "\t\t<dd>-2.4808</dd>\n",
       "</dl>\n",
       "</dd>\n",
       "\t<dt>$Best.partition</dt>\n",
       "\t\t<dd><ol class=list-inline>\n",
       "\t<li>1</li>\n",
       "\t<li>1</li>\n",
       "\t<li>1</li>\n",
       "\t<li>1</li>\n",
       "\t<li>1</li>\n",
       "\t<li>1</li>\n",
       "\t<li>1</li>\n",
       "\t<li>1</li>\n",
       "\t<li>1</li>\n",
       "\t<li>1</li>\n",
       "\t<li>1</li>\n",
       "\t<li>1</li>\n",
       "\t<li>1</li>\n",
       "\t<li>1</li>\n",
       "\t<li>1</li>\n",
       "\t<li>1</li>\n",
       "\t<li>1</li>\n",
       "\t<li>1</li>\n",
       "\t<li>2</li>\n",
       "\t<li>1</li>\n",
       "\t<li>1</li>\n",
       "\t<li>1</li>\n",
       "\t<li>1</li>\n",
       "\t<li>2</li>\n",
       "\t<li>1</li>\n",
       "\t<li>1</li>\n",
       "\t<li>1</li>\n",
       "\t<li>1</li>\n",
       "\t<li>1</li>\n",
       "\t<li>1</li>\n",
       "\t<li>1</li>\n",
       "\t<li>1</li>\n",
       "\t<li>1</li>\n",
       "\t<li>1</li>\n",
       "\t<li>1</li>\n",
       "\t<li>1</li>\n",
       "\t<li>1</li>\n",
       "\t<li>1</li>\n",
       "\t<li>1</li>\n",
       "\t<li>2</li>\n",
       "\t<li>2</li>\n",
       "\t<li>1</li>\n",
       "\t<li>1</li>\n",
       "\t<li>2</li>\n",
       "\t<li>1</li>\n",
       "\t<li>1</li>\n",
       "\t<li>1</li>\n",
       "\t<li>1</li>\n",
       "\t<li>1</li>\n",
       "\t<li>1</li>\n",
       "\t<li>1</li>\n",
       "\t<li>1</li>\n",
       "\t<li>1</li>\n",
       "\t<li>2</li>\n",
       "\t<li>2</li>\n",
       "\t<li>1</li>\n",
       "\t<li>2</li>\n",
       "\t<li>1</li>\n",
       "\t<li>1</li>\n",
       "\t<li>1</li>\n",
       "\t<li>1</li>\n",
       "\t<li>2</li>\n",
       "\t<li>1</li>\n",
       "\t<li>1</li>\n",
       "\t<li>1</li>\n",
       "\t<li>1</li>\n",
       "\t<li>2</li>\n",
       "\t<li>1</li>\n",
       "\t<li>1</li>\n",
       "\t<li>1</li>\n",
       "\t<li>1</li>\n",
       "\t<li>1</li>\n",
       "\t<li>1</li>\n",
       "\t<li>1</li>\n",
       "\t<li>1</li>\n",
       "\t<li>1</li>\n",
       "\t<li>2</li>\n",
       "\t<li>1</li>\n",
       "\t<li>1</li>\n",
       "\t<li>2</li>\n",
       "\t<li>1</li>\n",
       "\t<li>1</li>\n",
       "\t<li>1</li>\n",
       "\t<li>1</li>\n",
       "\t<li>1</li>\n",
       "\t<li>1</li>\n",
       "\t<li>1</li>\n",
       "\t<li>1</li>\n",
       "\t<li>1</li>\n",
       "\t<li>1</li>\n",
       "\t<li>1</li>\n",
       "\t<li>1</li>\n",
       "\t<li>1</li>\n",
       "\t<li>1</li>\n",
       "\t<li>1</li>\n",
       "\t<li>1</li>\n",
       "\t<li>1</li>\n",
       "\t<li>1</li>\n",
       "\t<li>1</li>\n",
       "\t<li>1</li>\n",
       "</ol>\n",
       "</dd>\n",
       "</dl>\n"
      ],
      "text/latex": [
       "\\begin{description}\n",
       "\\item[\\$All.index] \\begin{description*}\n",
       "\\item[2] -2.4808\n",
       "\\item[3] -3.1454\n",
       "\\item[4] -3.4101\n",
       "\\item[5] -3.6939\n",
       "\\item[6] -3.9603\n",
       "\\item[7] -4.402\n",
       "\\item[8] -4.5922\n",
       "\\item[9] -4.6748\n",
       "\\item[10] -4.6119\n",
       "\\end{description*}\n",
       "\n",
       "\\item[\\$All.CriticalValues] \\begin{description*}\n",
       "\\item[2] 0.6739\n",
       "\\item[3] 0.2762\n",
       "\\item[4] 0.2984\n",
       "\\item[5] 0.2832\n",
       "\\item[6] 0.4639\n",
       "\\item[7] 0.2158\n",
       "\\item[8] 0.1101\n",
       "\\item[9] -0.0349\n",
       "\\item[10] 0.2701\n",
       "\\end{description*}\n",
       "\n",
       "\\item[\\$Best.nc] \\begin{description*}\n",
       "\\item[Number\\textbackslash{}\\_clusters] 2\n",
       "\\item[Value\\textbackslash{}\\_Index] -2.4808\n",
       "\\end{description*}\n",
       "\n",
       "\\item[\\$Best.partition] \\begin{enumerate*}\n",
       "\\item 1\n",
       "\\item 1\n",
       "\\item 1\n",
       "\\item 1\n",
       "\\item 1\n",
       "\\item 1\n",
       "\\item 1\n",
       "\\item 1\n",
       "\\item 1\n",
       "\\item 1\n",
       "\\item 1\n",
       "\\item 1\n",
       "\\item 1\n",
       "\\item 1\n",
       "\\item 1\n",
       "\\item 1\n",
       "\\item 1\n",
       "\\item 1\n",
       "\\item 2\n",
       "\\item 1\n",
       "\\item 1\n",
       "\\item 1\n",
       "\\item 1\n",
       "\\item 2\n",
       "\\item 1\n",
       "\\item 1\n",
       "\\item 1\n",
       "\\item 1\n",
       "\\item 1\n",
       "\\item 1\n",
       "\\item 1\n",
       "\\item 1\n",
       "\\item 1\n",
       "\\item 1\n",
       "\\item 1\n",
       "\\item 1\n",
       "\\item 1\n",
       "\\item 1\n",
       "\\item 1\n",
       "\\item 2\n",
       "\\item 2\n",
       "\\item 1\n",
       "\\item 1\n",
       "\\item 2\n",
       "\\item 1\n",
       "\\item 1\n",
       "\\item 1\n",
       "\\item 1\n",
       "\\item 1\n",
       "\\item 1\n",
       "\\item 1\n",
       "\\item 1\n",
       "\\item 1\n",
       "\\item 2\n",
       "\\item 2\n",
       "\\item 1\n",
       "\\item 2\n",
       "\\item 1\n",
       "\\item 1\n",
       "\\item 1\n",
       "\\item 1\n",
       "\\item 2\n",
       "\\item 1\n",
       "\\item 1\n",
       "\\item 1\n",
       "\\item 1\n",
       "\\item 2\n",
       "\\item 1\n",
       "\\item 1\n",
       "\\item 1\n",
       "\\item 1\n",
       "\\item 1\n",
       "\\item 1\n",
       "\\item 1\n",
       "\\item 1\n",
       "\\item 1\n",
       "\\item 2\n",
       "\\item 1\n",
       "\\item 1\n",
       "\\item 2\n",
       "\\item 1\n",
       "\\item 1\n",
       "\\item 1\n",
       "\\item 1\n",
       "\\item 1\n",
       "\\item 1\n",
       "\\item 1\n",
       "\\item 1\n",
       "\\item 1\n",
       "\\item 1\n",
       "\\item 1\n",
       "\\item 1\n",
       "\\item 1\n",
       "\\item 1\n",
       "\\item 1\n",
       "\\item 1\n",
       "\\item 1\n",
       "\\item 1\n",
       "\\item 1\n",
       "\\item 1\n",
       "\\end{enumerate*}\n",
       "\n",
       "\\end{description}\n"
      ],
      "text/markdown": [
       "$All.index\n",
       ":   2\n",
       ":   -2.48083\n",
       ":   -3.14544\n",
       ":   -3.41015\n",
       ":   -3.69396\n",
       ":   -3.96037\n",
       ":   -4.4028\n",
       ":   -4.59229\n",
       ":   -4.674810\n",
       ":   -4.6119\n",
       "\n",
       "\n",
       "$All.CriticalValues\n",
       ":   2\n",
       ":   0.67393\n",
       ":   0.27624\n",
       ":   0.29845\n",
       ":   0.28326\n",
       ":   0.46397\n",
       ":   0.21588\n",
       ":   0.11019\n",
       ":   -0.034910\n",
       ":   0.2701\n",
       "\n",
       "\n",
       "$Best.nc\n",
       ":   Number_clusters\n",
       ":   2Value_Index\n",
       ":   -2.4808\n",
       "\n",
       "\n",
       "$Best.partition\n",
       ":   1. 1\n",
       "2. 1\n",
       "3. 1\n",
       "4. 1\n",
       "5. 1\n",
       "6. 1\n",
       "7. 1\n",
       "8. 1\n",
       "9. 1\n",
       "10. 1\n",
       "11. 1\n",
       "12. 1\n",
       "13. 1\n",
       "14. 1\n",
       "15. 1\n",
       "16. 1\n",
       "17. 1\n",
       "18. 1\n",
       "19. 2\n",
       "20. 1\n",
       "21. 1\n",
       "22. 1\n",
       "23. 1\n",
       "24. 2\n",
       "25. 1\n",
       "26. 1\n",
       "27. 1\n",
       "28. 1\n",
       "29. 1\n",
       "30. 1\n",
       "31. 1\n",
       "32. 1\n",
       "33. 1\n",
       "34. 1\n",
       "35. 1\n",
       "36. 1\n",
       "37. 1\n",
       "38. 1\n",
       "39. 1\n",
       "40. 2\n",
       "41. 2\n",
       "42. 1\n",
       "43. 1\n",
       "44. 2\n",
       "45. 1\n",
       "46. 1\n",
       "47. 1\n",
       "48. 1\n",
       "49. 1\n",
       "50. 1\n",
       "51. 1\n",
       "52. 1\n",
       "53. 1\n",
       "54. 2\n",
       "55. 2\n",
       "56. 1\n",
       "57. 2\n",
       "58. 1\n",
       "59. 1\n",
       "60. 1\n",
       "61. 1\n",
       "62. 2\n",
       "63. 1\n",
       "64. 1\n",
       "65. 1\n",
       "66. 1\n",
       "67. 2\n",
       "68. 1\n",
       "69. 1\n",
       "70. 1\n",
       "71. 1\n",
       "72. 1\n",
       "73. 1\n",
       "74. 1\n",
       "75. 1\n",
       "76. 1\n",
       "77. 2\n",
       "78. 1\n",
       "79. 1\n",
       "80. 2\n",
       "81. 1\n",
       "82. 1\n",
       "83. 1\n",
       "84. 1\n",
       "85. 1\n",
       "86. 1\n",
       "87. 1\n",
       "88. 1\n",
       "89. 1\n",
       "90. 1\n",
       "91. 1\n",
       "92. 1\n",
       "93. 1\n",
       "94. 1\n",
       "95. 1\n",
       "96. 1\n",
       "97. 1\n",
       "98. 1\n",
       "99. 1\n",
       "100. 1\n",
       "\n",
       "\n",
       "\n",
       "\n",
       "\n"
      ],
      "text/plain": [
       "$All.index\n",
       "      2       3       4       5       6       7       8       9      10 \n",
       "-2.4808 -3.1454 -3.4101 -3.6939 -3.9603 -4.4020 -4.5922 -4.6748 -4.6119 \n",
       "\n",
       "$All.CriticalValues\n",
       "      2       3       4       5       6       7       8       9      10 \n",
       " 0.6739  0.2762  0.2984  0.2832  0.4639  0.2158  0.1101 -0.0349  0.2701 \n",
       "\n",
       "$Best.nc\n",
       "Number_clusters     Value_Index \n",
       "         2.0000         -2.4808 \n",
       "\n",
       "$Best.partition\n",
       "  [1] 1 1 1 1 1 1 1 1 1 1 1 1 1 1 1 1 1 1 2 1 1 1 1 2 1 1 1 1 1 1 1 1 1 1 1 1 1\n",
       " [38] 1 1 2 2 1 1 2 1 1 1 1 1 1 1 1 1 2 2 1 2 1 1 1 1 2 1 1 1 1 2 1 1 1 1 1 1 1\n",
       " [75] 1 1 2 1 1 2 1 1 1 1 1 1 1 1 1 1 1 1 1 1 1 1 1 1 1 1\n"
      ]
     },
     "metadata": {},
     "output_type": "display_data"
    }
   ],
   "source": [
    "if(!require(NbClust)){install.packages(\"NbClust\")}\n",
    "set.seed(766)\n",
    "nb.clust = NbClust(sessions.df.scaled, distance='euclidean', min.nc=2, max.nc=10, method=\"complete\", index=\"gap\")\n",
    "nb.clust"
   ]
  },
  {
   "cell_type": "code",
   "execution_count": 36,
   "metadata": {
    "collapsed": false
   },
   "outputs": [
    {
     "data": {
      "text/html": [
       "<dl class=dl-horizontal>\n",
       "\t<dt>2</dt>\n",
       "\t\t<dd>-2.4808</dd>\n",
       "\t<dt>3</dt>\n",
       "\t\t<dd>-3.1454</dd>\n",
       "\t<dt>4</dt>\n",
       "\t\t<dd>-3.4101</dd>\n",
       "\t<dt>5</dt>\n",
       "\t\t<dd>-3.6939</dd>\n",
       "\t<dt>6</dt>\n",
       "\t\t<dd>-3.9603</dd>\n",
       "\t<dt>7</dt>\n",
       "\t\t<dd>-4.402</dd>\n",
       "\t<dt>8</dt>\n",
       "\t\t<dd>-4.5922</dd>\n",
       "\t<dt>9</dt>\n",
       "\t\t<dd>-4.6748</dd>\n",
       "\t<dt>10</dt>\n",
       "\t\t<dd>-4.6119</dd>\n",
       "</dl>\n"
      ],
      "text/latex": [
       "\\begin{description*}\n",
       "\\item[2] -2.4808\n",
       "\\item[3] -3.1454\n",
       "\\item[4] -3.4101\n",
       "\\item[5] -3.6939\n",
       "\\item[6] -3.9603\n",
       "\\item[7] -4.402\n",
       "\\item[8] -4.5922\n",
       "\\item[9] -4.6748\n",
       "\\item[10] -4.6119\n",
       "\\end{description*}\n"
      ],
      "text/markdown": [
       "2\n",
       ":   -2.48083\n",
       ":   -3.14544\n",
       ":   -3.41015\n",
       ":   -3.69396\n",
       ":   -3.96037\n",
       ":   -4.4028\n",
       ":   -4.59229\n",
       ":   -4.674810\n",
       ":   -4.6119\n",
       "\n"
      ],
      "text/plain": [
       "      2       3       4       5       6       7       8       9      10 \n",
       "-2.4808 -3.1454 -3.4101 -3.6939 -3.9603 -4.4020 -4.5922 -4.6748 -4.6119 "
      ]
     },
     "metadata": {},
     "output_type": "display_data"
    }
   ],
   "source": [
    "#gap statistic values\n",
    "nb.clust$All.index"
   ]
  },
  {
   "cell_type": "code",
   "execution_count": 37,
   "metadata": {
    "collapsed": false
   },
   "outputs": [
    {
     "data": {
      "text/html": [
       "<dl class=dl-horizontal>\n",
       "\t<dt>Number_clusters</dt>\n",
       "\t\t<dd>2</dd>\n",
       "\t<dt>Value_Index</dt>\n",
       "\t\t<dd>-2.4808</dd>\n",
       "</dl>\n"
      ],
      "text/latex": [
       "\\begin{description*}\n",
       "\\item[Number\\textbackslash{}\\_clusters] 2\n",
       "\\item[Value\\textbackslash{}\\_Index] -2.4808\n",
       "\\end{description*}\n"
      ],
      "text/markdown": [
       "Number_clusters\n",
       ":   2Value_Index\n",
       ":   -2.4808\n",
       "\n"
      ],
      "text/plain": [
       "Number_clusters     Value_Index \n",
       "         2.0000         -2.4808 "
      ]
     },
     "metadata": {},
     "output_type": "display_data"
    }
   ],
   "source": [
    "#best number of clusters\n",
    "nb.clust$Best.nc"
   ]
  },
  {
   "cell_type": "code",
   "execution_count": 38,
   "metadata": {
    "collapsed": false
   },
   "outputs": [
    {
     "data": {
      "text/html": [
       "<ol class=list-inline>\n",
       "\t<li>1</li>\n",
       "\t<li>1</li>\n",
       "\t<li>1</li>\n",
       "\t<li>1</li>\n",
       "\t<li>1</li>\n",
       "\t<li>1</li>\n",
       "\t<li>1</li>\n",
       "\t<li>1</li>\n",
       "\t<li>1</li>\n",
       "\t<li>1</li>\n",
       "\t<li>1</li>\n",
       "\t<li>1</li>\n",
       "\t<li>1</li>\n",
       "\t<li>1</li>\n",
       "\t<li>1</li>\n",
       "\t<li>1</li>\n",
       "\t<li>1</li>\n",
       "\t<li>1</li>\n",
       "\t<li>2</li>\n",
       "\t<li>1</li>\n",
       "\t<li>1</li>\n",
       "\t<li>1</li>\n",
       "\t<li>1</li>\n",
       "\t<li>2</li>\n",
       "\t<li>1</li>\n",
       "\t<li>1</li>\n",
       "\t<li>1</li>\n",
       "\t<li>1</li>\n",
       "\t<li>1</li>\n",
       "\t<li>1</li>\n",
       "\t<li>1</li>\n",
       "\t<li>1</li>\n",
       "\t<li>1</li>\n",
       "\t<li>1</li>\n",
       "\t<li>1</li>\n",
       "\t<li>1</li>\n",
       "\t<li>1</li>\n",
       "\t<li>1</li>\n",
       "\t<li>1</li>\n",
       "\t<li>2</li>\n",
       "\t<li>2</li>\n",
       "\t<li>1</li>\n",
       "\t<li>1</li>\n",
       "\t<li>2</li>\n",
       "\t<li>1</li>\n",
       "\t<li>1</li>\n",
       "\t<li>1</li>\n",
       "\t<li>1</li>\n",
       "\t<li>1</li>\n",
       "\t<li>1</li>\n",
       "\t<li>1</li>\n",
       "\t<li>1</li>\n",
       "\t<li>1</li>\n",
       "\t<li>2</li>\n",
       "\t<li>2</li>\n",
       "\t<li>1</li>\n",
       "\t<li>2</li>\n",
       "\t<li>1</li>\n",
       "\t<li>1</li>\n",
       "\t<li>1</li>\n",
       "\t<li>1</li>\n",
       "\t<li>2</li>\n",
       "\t<li>1</li>\n",
       "\t<li>1</li>\n",
       "\t<li>1</li>\n",
       "\t<li>1</li>\n",
       "\t<li>2</li>\n",
       "\t<li>1</li>\n",
       "\t<li>1</li>\n",
       "\t<li>1</li>\n",
       "\t<li>1</li>\n",
       "\t<li>1</li>\n",
       "\t<li>1</li>\n",
       "\t<li>1</li>\n",
       "\t<li>1</li>\n",
       "\t<li>1</li>\n",
       "\t<li>2</li>\n",
       "\t<li>1</li>\n",
       "\t<li>1</li>\n",
       "\t<li>2</li>\n",
       "\t<li>1</li>\n",
       "\t<li>1</li>\n",
       "\t<li>1</li>\n",
       "\t<li>1</li>\n",
       "\t<li>1</li>\n",
       "\t<li>1</li>\n",
       "\t<li>1</li>\n",
       "\t<li>1</li>\n",
       "\t<li>1</li>\n",
       "\t<li>1</li>\n",
       "\t<li>1</li>\n",
       "\t<li>1</li>\n",
       "\t<li>1</li>\n",
       "\t<li>1</li>\n",
       "\t<li>1</li>\n",
       "\t<li>1</li>\n",
       "\t<li>1</li>\n",
       "\t<li>1</li>\n",
       "\t<li>1</li>\n",
       "\t<li>1</li>\n",
       "</ol>\n"
      ],
      "text/latex": [
       "\\begin{enumerate*}\n",
       "\\item 1\n",
       "\\item 1\n",
       "\\item 1\n",
       "\\item 1\n",
       "\\item 1\n",
       "\\item 1\n",
       "\\item 1\n",
       "\\item 1\n",
       "\\item 1\n",
       "\\item 1\n",
       "\\item 1\n",
       "\\item 1\n",
       "\\item 1\n",
       "\\item 1\n",
       "\\item 1\n",
       "\\item 1\n",
       "\\item 1\n",
       "\\item 1\n",
       "\\item 2\n",
       "\\item 1\n",
       "\\item 1\n",
       "\\item 1\n",
       "\\item 1\n",
       "\\item 2\n",
       "\\item 1\n",
       "\\item 1\n",
       "\\item 1\n",
       "\\item 1\n",
       "\\item 1\n",
       "\\item 1\n",
       "\\item 1\n",
       "\\item 1\n",
       "\\item 1\n",
       "\\item 1\n",
       "\\item 1\n",
       "\\item 1\n",
       "\\item 1\n",
       "\\item 1\n",
       "\\item 1\n",
       "\\item 2\n",
       "\\item 2\n",
       "\\item 1\n",
       "\\item 1\n",
       "\\item 2\n",
       "\\item 1\n",
       "\\item 1\n",
       "\\item 1\n",
       "\\item 1\n",
       "\\item 1\n",
       "\\item 1\n",
       "\\item 1\n",
       "\\item 1\n",
       "\\item 1\n",
       "\\item 2\n",
       "\\item 2\n",
       "\\item 1\n",
       "\\item 2\n",
       "\\item 1\n",
       "\\item 1\n",
       "\\item 1\n",
       "\\item 1\n",
       "\\item 2\n",
       "\\item 1\n",
       "\\item 1\n",
       "\\item 1\n",
       "\\item 1\n",
       "\\item 2\n",
       "\\item 1\n",
       "\\item 1\n",
       "\\item 1\n",
       "\\item 1\n",
       "\\item 1\n",
       "\\item 1\n",
       "\\item 1\n",
       "\\item 1\n",
       "\\item 1\n",
       "\\item 2\n",
       "\\item 1\n",
       "\\item 1\n",
       "\\item 2\n",
       "\\item 1\n",
       "\\item 1\n",
       "\\item 1\n",
       "\\item 1\n",
       "\\item 1\n",
       "\\item 1\n",
       "\\item 1\n",
       "\\item 1\n",
       "\\item 1\n",
       "\\item 1\n",
       "\\item 1\n",
       "\\item 1\n",
       "\\item 1\n",
       "\\item 1\n",
       "\\item 1\n",
       "\\item 1\n",
       "\\item 1\n",
       "\\item 1\n",
       "\\item 1\n",
       "\\item 1\n",
       "\\end{enumerate*}\n"
      ],
      "text/markdown": [
       "1. 1\n",
       "2. 1\n",
       "3. 1\n",
       "4. 1\n",
       "5. 1\n",
       "6. 1\n",
       "7. 1\n",
       "8. 1\n",
       "9. 1\n",
       "10. 1\n",
       "11. 1\n",
       "12. 1\n",
       "13. 1\n",
       "14. 1\n",
       "15. 1\n",
       "16. 1\n",
       "17. 1\n",
       "18. 1\n",
       "19. 2\n",
       "20. 1\n",
       "21. 1\n",
       "22. 1\n",
       "23. 1\n",
       "24. 2\n",
       "25. 1\n",
       "26. 1\n",
       "27. 1\n",
       "28. 1\n",
       "29. 1\n",
       "30. 1\n",
       "31. 1\n",
       "32. 1\n",
       "33. 1\n",
       "34. 1\n",
       "35. 1\n",
       "36. 1\n",
       "37. 1\n",
       "38. 1\n",
       "39. 1\n",
       "40. 2\n",
       "41. 2\n",
       "42. 1\n",
       "43. 1\n",
       "44. 2\n",
       "45. 1\n",
       "46. 1\n",
       "47. 1\n",
       "48. 1\n",
       "49. 1\n",
       "50. 1\n",
       "51. 1\n",
       "52. 1\n",
       "53. 1\n",
       "54. 2\n",
       "55. 2\n",
       "56. 1\n",
       "57. 2\n",
       "58. 1\n",
       "59. 1\n",
       "60. 1\n",
       "61. 1\n",
       "62. 2\n",
       "63. 1\n",
       "64. 1\n",
       "65. 1\n",
       "66. 1\n",
       "67. 2\n",
       "68. 1\n",
       "69. 1\n",
       "70. 1\n",
       "71. 1\n",
       "72. 1\n",
       "73. 1\n",
       "74. 1\n",
       "75. 1\n",
       "76. 1\n",
       "77. 2\n",
       "78. 1\n",
       "79. 1\n",
       "80. 2\n",
       "81. 1\n",
       "82. 1\n",
       "83. 1\n",
       "84. 1\n",
       "85. 1\n",
       "86. 1\n",
       "87. 1\n",
       "88. 1\n",
       "89. 1\n",
       "90. 1\n",
       "91. 1\n",
       "92. 1\n",
       "93. 1\n",
       "94. 1\n",
       "95. 1\n",
       "96. 1\n",
       "97. 1\n",
       "98. 1\n",
       "99. 1\n",
       "100. 1\n",
       "\n",
       "\n"
      ],
      "text/plain": [
       "  [1] 1 1 1 1 1 1 1 1 1 1 1 1 1 1 1 1 1 1 2 1 1 1 1 2 1 1 1 1 1 1 1 1 1 1 1 1 1\n",
       " [38] 1 1 2 2 1 1 2 1 1 1 1 1 1 1 1 1 2 2 1 2 1 1 1 1 2 1 1 1 1 2 1 1 1 1 1 1 1\n",
       " [75] 1 1 2 1 1 2 1 1 1 1 1 1 1 1 1 1 1 1 1 1 1 1 1 1 1 1"
      ]
     },
     "metadata": {},
     "output_type": "display_data"
    }
   ],
   "source": [
    "nb.clust$Best.partition"
   ]
  },
  {
   "cell_type": "markdown",
   "metadata": {},
   "source": [
    "# Hubert Index - Graphical method of determining the number of clusters"
   ]
  },
  {
   "cell_type": "code",
   "execution_count": 41,
   "metadata": {
    "collapsed": false
   },
   "outputs": [
    {
     "name": "stdout",
     "output_type": "stream",
     "text": [
      "*** : The Hubert index is a graphical method of determining the number of clusters.\n",
      "                In the plot of Hubert index, we seek a significant knee that corresponds to a \n",
      "                significant increase of the value of the measure i.e the significant peak in Hubert\n",
      "                index second differences plot. \n",
      " \n"
     ]
    },
    {
     "data": {
      "image/png": "[encoded data removed]",
      "text/plain": [
       "plot without title"
      ]
     },
     "metadata": {},
     "output_type": "display_data"
    },
    {
     "name": "stdout",
     "output_type": "stream",
     "text": [
      "*** : The D index is a graphical method of determining the number of clusters. \n",
      "                In the plot of D index, we seek a significant knee (the significant peak in Dindex\n",
      "                second differences plot) that corresponds to a significant increase of the value of\n",
      "                the measure. \n",
      " \n",
      "******************************************************************* \n",
      "* Among all indices:                                                \n",
      "* 4 proposed 2 as the best number of clusters \n",
      "* 4 proposed 3 as the best number of clusters \n",
      "* 1 proposed 5 as the best number of clusters \n",
      "* 5 proposed 6 as the best number of clusters \n",
      "* 1 proposed 8 as the best number of clusters \n",
      "* 8 proposed 10 as the best number of clusters \n",
      "\n",
      "                   ***** Conclusion *****                            \n",
      " \n",
      "* According to the majority rule, the best number of clusters is  10 \n",
      " \n",
      " \n",
      "******************************************************************* \n"
     ]
    },
    {
     "data": {
      "text/html": [
       "<dl>\n",
       "\t<dt>$All.index</dt>\n",
       "\t\t<dd><table>\n",
       "<thead><tr><th></th><th scope=col>KL</th><th scope=col>CH</th><th scope=col>Hartigan</th><th scope=col>CCC</th><th scope=col>Scott</th><th scope=col>Marriot</th><th scope=col>TrCovW</th><th scope=col>TraceW</th><th scope=col>Friedman</th><th scope=col>Rubin</th><th scope=col>...</th><th scope=col>Ratkowsky</th><th scope=col>Ball</th><th scope=col>Ptbiserial</th><th scope=col>Frey</th><th scope=col>McClain</th><th scope=col>Dunn</th><th scope=col>Hubert</th><th scope=col>SDindex</th><th scope=col>Dindex</th><th scope=col>SDbw</th></tr></thead>\n",
       "<tbody>\n",
       "\t<tr><th scope=row>2</th><td> 1.5135     </td><td> 6.6370     </td><td>18.3048     </td><td>-7.8289     </td><td> 54.6027    </td><td>5.178682e+15</td><td>12292.275   </td><td>741.7644    </td><td> 0.8220     </td><td>1.0677      </td><td>...         </td><td>0.1502      </td><td>370.8822    </td><td>0.0633      </td><td>-0.6208     </td><td>0.2611      </td><td>0.3462      </td><td>0.0010      </td><td>1.5482      </td><td>2.6991      </td><td>0.8303      </td></tr>\n",
       "\t<tr><th scope=row>3</th><td> 0.9801     </td><td>12.9572     </td><td>15.5446     </td><td>-6.4130     </td><td>287.2379    </td><td>1.137837e+15</td><td> 9235.053   </td><td>625.0208    </td><td> 9.9903     </td><td>1.2672      </td><td>...         </td><td>0.2348      </td><td>208.3403    </td><td>0.3644      </td><td> 0.2192     </td><td>0.9456      </td><td>0.3749      </td><td>0.0031      </td><td>1.3184      </td><td>2.4819      </td><td>0.8039      </td></tr>\n",
       "\t<tr><th scope=row>4</th><td> 2.6303     </td><td>15.0472     </td><td> 8.6810     </td><td>-5.1823     </td><td>412.8296    </td><td>5.761290e+14</td><td> 6854.034   </td><td>538.6932    </td><td>13.9021     </td><td>1.4702      </td><td>...         </td><td>0.2570      </td><td>134.6733    </td><td>0.4398      </td><td> 0.0905     </td><td>2.0426      </td><td>0.4042      </td><td>0.0035      </td><td>1.2899      </td><td>2.2984      </td><td>0.7730      </td></tr>\n",
       "\t<tr><th scope=row>5</th><td> 0.3881     </td><td>14.3254     </td><td>13.1419     </td><td>-5.4999     </td><td>558.2992    </td><td>2.101712e+14</td><td> 6200.267   </td><td>494.0204    </td><td>24.3000     </td><td>1.6032      </td><td>...         </td><td>0.2490      </td><td> 98.8041    </td><td>0.4616      </td><td> 0.0631     </td><td>2.3408      </td><td>0.4047      </td><td>0.0039      </td><td>1.2854      </td><td>2.1965      </td><td>0.7239      </td></tr>\n",
       "\t<tr><th scope=row>6</th><td>71.0200     </td><td>15.5090     </td><td> 3.5729     </td><td>-3.5807     </td><td>630.8150    </td><td>1.465560e+14</td><td> 4422.098   </td><td>433.9849    </td><td>26.2441     </td><td>1.8249      </td><td>...         </td><td>0.2608      </td><td> 72.3308    </td><td>0.5188      </td><td> 0.1012     </td><td>3.1276      </td><td>0.4436      </td><td>0.0043      </td><td>1.2660      </td><td>2.0503      </td><td>0.6764      </td></tr>\n",
       "\t<tr><th scope=row>7</th><td> 0.0661     </td><td>13.8619     </td><td> 4.9821     </td><td>-4.6326     </td><td>681.6351    </td><td>1.200019e+14</td><td> 4213.938   </td><td>418.0935    </td><td>29.5797     </td><td>1.8943      </td><td>...         </td><td>0.2488      </td><td> 59.7276    </td><td>0.5216      </td><td> 0.1845     </td><td>3.2006      </td><td>0.4439      </td><td>0.0043      </td><td>1.1418      </td><td>2.0083      </td><td>0.6264      </td></tr>\n",
       "\t<tr><th scope=row>8</th><td> 0.7129     </td><td>13.0876     </td><td> 5.3409     </td><td>-4.5822     </td><td>723.8253    </td><td>1.027880e+14</td><td> 3784.758   </td><td>396.8346    </td><td>31.3962     </td><td>1.9958      </td><td>...         </td><td>0.2413      </td><td> 49.6043    </td><td>0.5225      </td><td> 0.1557     </td><td>3.3530      </td><td>0.4453      </td><td>0.0043      </td><td>1.0963      </td><td>1.9468      </td><td>0.5923      </td></tr>\n",
       "\t<tr><th scope=row>9</th><td> 0.2017     </td><td>12.6451     </td><td>17.0838     </td><td>-4.2831     </td><td>771.3854    </td><td>8.085307e+13</td><td> 3634.580   </td><td>375.0610    </td><td>32.5859     </td><td>2.1117      </td><td>...         </td><td>0.2354      </td><td> 41.6734    </td><td>0.5239      </td><td> 0.0540     </td><td>3.4810      </td><td>0.4457      </td><td>0.0044      </td><td>1.1150      </td><td>1.8872      </td><td>0.5675      </td></tr>\n",
       "\t<tr><th scope=row>10</th><td> 5.6087     </td><td>15.0809     </td><td> 4.8221     </td><td>-0.2688     </td><td>846.6034    </td><td>4.704831e+13</td><td> 2214.323   </td><td>315.7786    </td><td>34.5277     </td><td>2.5081      </td><td>...         </td><td>0.2417      </td><td> 31.5779    </td><td>0.5587      </td><td> 0.1070     </td><td>4.0902      </td><td>0.4823      </td><td>0.0048      </td><td>1.1500      </td><td>1.6835      </td><td>0.5128      </td></tr>\n",
       "</tbody>\n",
       "</table>\n",
       "</dd>\n",
       "\t<dt>$All.CriticalValues</dt>\n",
       "\t\t<dd><table>\n",
       "<thead><tr><th></th><th scope=col>CritValue_Duda</th><th scope=col>CritValue_PseudoT2</th><th scope=col>Fvalue_Beale</th></tr></thead>\n",
       "<tbody>\n",
       "\t<tr><th scope=row>2</th><td>0.7587 </td><td>27.3468</td><td>0.3923 </td></tr>\n",
       "\t<tr><th scope=row>3</th><td>0.7293 </td><td>22.6388</td><td>0.2256 </td></tr>\n",
       "\t<tr><th scope=row>4</th><td>0.6171 </td><td>14.2731</td><td>0.0407 </td></tr>\n",
       "\t<tr><th scope=row>5</th><td>0.6711 </td><td>17.1559</td><td>0.0470 </td></tr>\n",
       "\t<tr><th scope=row>6</th><td>0.4997 </td><td>11.0113</td><td>0.0665 </td></tr>\n",
       "\t<tr><th scope=row>7</th><td>0.4997 </td><td>11.0113</td><td>0.0122 </td></tr>\n",
       "\t<tr><th scope=row>8</th><td>0.4826 </td><td>10.7225</td><td>0.0007 </td></tr>\n",
       "\t<tr><th scope=row>9</th><td>0.6230 </td><td>14.5259</td><td>0.0000 </td></tr>\n",
       "\t<tr><th scope=row>10</th><td>0.4826 </td><td>10.7225</td><td>0.0198 </td></tr>\n",
       "</tbody>\n",
       "</table>\n",
       "</dd>\n",
       "\t<dt>$Best.nc</dt>\n",
       "\t\t<dd><table>\n",
       "<thead><tr><th></th><th scope=col>KL</th><th scope=col>CH</th><th scope=col>Hartigan</th><th scope=col>CCC</th><th scope=col>Scott</th><th scope=col>Marriot</th><th scope=col>TrCovW</th><th scope=col>TraceW</th><th scope=col>Friedman</th><th scope=col>Rubin</th><th scope=col>...</th><th scope=col>Ratkowsky</th><th scope=col>Ball</th><th scope=col>PtBiserial</th><th scope=col>Frey</th><th scope=col>McClain</th><th scope=col>Dunn</th><th scope=col>Hubert</th><th scope=col>SDindex</th><th scope=col>Dindex</th><th scope=col>SDbw</th></tr></thead>\n",
       "<tbody>\n",
       "\t<tr><th scope=row>Number_clusters</th><td> 6.00       </td><td> 6.000      </td><td>10.0000     </td><td>10.0000     </td><td>  3.0000    </td><td>3.000000e+00</td><td>   3.000    </td><td> 6.000      </td><td> 5.0000     </td><td> 6.0000     </td><td>...         </td><td>6.0000      </td><td>  3.0000    </td><td>10.0000     </td><td> 1          </td><td>2.0000      </td><td>10.0000     </td><td>0           </td><td>8.0000      </td><td>0           </td><td>10.0000     </td></tr>\n",
       "\t<tr><th scope=row>Value_Index</th><td>71.02       </td><td>15.509      </td><td>12.2617     </td><td>-0.2688     </td><td>232.6352    </td><td>3.479137e+15</td><td>3057.222    </td><td>44.144      </td><td>10.3979     </td><td>-0.1524     </td><td>...         </td><td>0.2608      </td><td>162.5419    </td><td> 0.5587     </td><td>NA          </td><td>0.2611      </td><td> 0.4823     </td><td>0           </td><td>1.0963      </td><td>0           </td><td> 0.5128     </td></tr>\n",
       "</tbody>\n",
       "</table>\n",
       "</dd>\n",
       "\t<dt>$Best.partition</dt>\n",
       "\t\t<dd><ol class=list-inline>\n",
       "\t<li>1</li>\n",
       "\t<li>2</li>\n",
       "\t<li>1</li>\n",
       "\t<li>3</li>\n",
       "\t<li>4</li>\n",
       "\t<li>5</li>\n",
       "\t<li>6</li>\n",
       "\t<li>1</li>\n",
       "\t<li>5</li>\n",
       "\t<li>4</li>\n",
       "\t<li>7</li>\n",
       "\t<li>7</li>\n",
       "\t<li>6</li>\n",
       "\t<li>5</li>\n",
       "\t<li>7</li>\n",
       "\t<li>3</li>\n",
       "\t<li>6</li>\n",
       "\t<li>6</li>\n",
       "\t<li>8</li>\n",
       "\t<li>1</li>\n",
       "\t<li>3</li>\n",
       "\t<li>6</li>\n",
       "\t<li>2</li>\n",
       "\t<li>8</li>\n",
       "\t<li>2</li>\n",
       "\t<li>5</li>\n",
       "\t<li>2</li>\n",
       "\t<li>2</li>\n",
       "\t<li>5</li>\n",
       "\t<li>2</li>\n",
       "\t<li>2</li>\n",
       "\t<li>2</li>\n",
       "\t<li>3</li>\n",
       "\t<li>5</li>\n",
       "\t<li>2</li>\n",
       "\t<li>5</li>\n",
       "\t<li>3</li>\n",
       "\t<li>5</li>\n",
       "\t<li>5</li>\n",
       "\t<li>8</li>\n",
       "\t<li>8</li>\n",
       "\t<li>5</li>\n",
       "\t<li>9</li>\n",
       "\t<li>8</li>\n",
       "\t<li>5</li>\n",
       "\t<li>5</li>\n",
       "\t<li>9</li>\n",
       "\t<li>4</li>\n",
       "\t<li>1</li>\n",
       "\t<li>7</li>\n",
       "\t<li>10</li>\n",
       "\t<li>10</li>\n",
       "\t<li>3</li>\n",
       "\t<li>8</li>\n",
       "\t<li>8</li>\n",
       "\t<li>4</li>\n",
       "\t<li>8</li>\n",
       "\t<li>1</li>\n",
       "\t<li>3</li>\n",
       "\t<li>3</li>\n",
       "\t<li>2</li>\n",
       "\t<li>8</li>\n",
       "\t<li>3</li>\n",
       "\t<li>3</li>\n",
       "\t<li>2</li>\n",
       "\t<li>1</li>\n",
       "\t<li>8</li>\n",
       "\t<li>3</li>\n",
       "\t<li>5</li>\n",
       "\t<li>3</li>\n",
       "\t<li>3</li>\n",
       "\t<li>3</li>\n",
       "\t<li>4</li>\n",
       "\t<li>1</li>\n",
       "\t<li>4</li>\n",
       "\t<li>3</li>\n",
       "\t<li>8</li>\n",
       "\t<li>3</li>\n",
       "\t<li>3</li>\n",
       "\t<li>8</li>\n",
       "\t<li>4</li>\n",
       "\t<li>4</li>\n",
       "\t<li>5</li>\n",
       "\t<li>9</li>\n",
       "\t<li>5</li>\n",
       "\t<li>5</li>\n",
       "\t<li>5</li>\n",
       "\t<li>9</li>\n",
       "\t<li>5</li>\n",
       "\t<li>5</li>\n",
       "\t<li>9</li>\n",
       "\t<li>9</li>\n",
       "\t<li>5</li>\n",
       "\t<li>9</li>\n",
       "\t<li>5</li>\n",
       "\t<li>5</li>\n",
       "\t<li>9</li>\n",
       "\t<li>9</li>\n",
       "\t<li>5</li>\n",
       "\t<li>5</li>\n",
       "</ol>\n",
       "</dd>\n",
       "</dl>\n"
      ],
      "text/latex": [
       "\\begin{description}\n",
       "\\item[\\$All.index] \\begin{tabular}{r|llllllllllllllllllllllllll}\n",
       "  & KL & CH & Hartigan & CCC & Scott & Marriot & TrCovW & TraceW & Friedman & Rubin & ... & Ratkowsky & Ball & Ptbiserial & Frey & McClain & Dunn & Hubert & SDindex & Dindex & SDbw\\\\\n",
       "\\hline\n",
       "\t2 &  1.5135      &  6.6370      & 18.3048      & -7.8289      &  54.6027     & 5.178682e+15 & 12292.275    & 741.7644     &  0.8220      & 1.0677       & ...          & 0.1502       & 370.8822     & 0.0633       & -0.6208      & 0.2611       & 0.3462       & 0.0010       & 1.5482       & 2.6991       & 0.8303      \\\\\n",
       "\t3 &  0.9801      & 12.9572      & 15.5446      & -6.4130      & 287.2379     & 1.137837e+15 &  9235.053    & 625.0208     &  9.9903      & 1.2672       & ...          & 0.2348       & 208.3403     & 0.3644       &  0.2192      & 0.9456       & 0.3749       & 0.0031       & 1.3184       & 2.4819       & 0.8039      \\\\\n",
       "\t4 &  2.6303      & 15.0472      &  8.6810      & -5.1823      & 412.8296     & 5.761290e+14 &  6854.034    & 538.6932     & 13.9021      & 1.4702       & ...          & 0.2570       & 134.6733     & 0.4398       &  0.0905      & 2.0426       & 0.4042       & 0.0035       & 1.2899       & 2.2984       & 0.7730      \\\\\n",
       "\t5 &  0.3881      & 14.3254      & 13.1419      & -5.4999      & 558.2992     & 2.101712e+14 &  6200.267    & 494.0204     & 24.3000      & 1.6032       & ...          & 0.2490       &  98.8041     & 0.4616       &  0.0631      & 2.3408       & 0.4047       & 0.0039       & 1.2854       & 2.1965       & 0.7239      \\\\\n",
       "\t6 & 71.0200      & 15.5090      &  3.5729      & -3.5807      & 630.8150     & 1.465560e+14 &  4422.098    & 433.9849     & 26.2441      & 1.8249       & ...          & 0.2608       &  72.3308     & 0.5188       &  0.1012      & 3.1276       & 0.4436       & 0.0043       & 1.2660       & 2.0503       & 0.6764      \\\\\n",
       "\t7 &  0.0661      & 13.8619      &  4.9821      & -4.6326      & 681.6351     & 1.200019e+14 &  4213.938    & 418.0935     & 29.5797      & 1.8943       & ...          & 0.2488       &  59.7276     & 0.5216       &  0.1845      & 3.2006       & 0.4439       & 0.0043       & 1.1418       & 2.0083       & 0.6264      \\\\\n",
       "\t8 &  0.7129      & 13.0876      &  5.3409      & -4.5822      & 723.8253     & 1.027880e+14 &  3784.758    & 396.8346     & 31.3962      & 1.9958       & ...          & 0.2413       &  49.6043     & 0.5225       &  0.1557      & 3.3530       & 0.4453       & 0.0043       & 1.0963       & 1.9468       & 0.5923      \\\\\n",
       "\t9 &  0.2017      & 12.6451      & 17.0838      & -4.2831      & 771.3854     & 8.085307e+13 &  3634.580    & 375.0610     & 32.5859      & 2.1117       & ...          & 0.2354       &  41.6734     & 0.5239       &  0.0540      & 3.4810       & 0.4457       & 0.0044       & 1.1150       & 1.8872       & 0.5675      \\\\\n",
       "\t10 &  5.6087      & 15.0809      &  4.8221      & -0.2688      & 846.6034     & 4.704831e+13 &  2214.323    & 315.7786     & 34.5277      & 2.5081       & ...          & 0.2417       &  31.5779     & 0.5587       &  0.1070      & 4.0902       & 0.4823       & 0.0048       & 1.1500       & 1.6835       & 0.5128      \\\\\n",
       "\\end{tabular}\n",
       "\n",
       "\\item[\\$All.CriticalValues] \\begin{tabular}{r|lll}\n",
       "  & CritValue\\_Duda & CritValue\\_PseudoT2 & Fvalue\\_Beale\\\\\n",
       "\\hline\n",
       "\t2 & 0.7587  & 27.3468 & 0.3923 \\\\\n",
       "\t3 & 0.7293  & 22.6388 & 0.2256 \\\\\n",
       "\t4 & 0.6171  & 14.2731 & 0.0407 \\\\\n",
       "\t5 & 0.6711  & 17.1559 & 0.0470 \\\\\n",
       "\t6 & 0.4997  & 11.0113 & 0.0665 \\\\\n",
       "\t7 & 0.4997  & 11.0113 & 0.0122 \\\\\n",
       "\t8 & 0.4826  & 10.7225 & 0.0007 \\\\\n",
       "\t9 & 0.6230  & 14.5259 & 0.0000 \\\\\n",
       "\t10 & 0.4826  & 10.7225 & 0.0198 \\\\\n",
       "\\end{tabular}\n",
       "\n",
       "\\item[\\$Best.nc] \\begin{tabular}{r|llllllllllllllllllllllllll}\n",
       "  & KL & CH & Hartigan & CCC & Scott & Marriot & TrCovW & TraceW & Friedman & Rubin & ... & Ratkowsky & Ball & PtBiserial & Frey & McClain & Dunn & Hubert & SDindex & Dindex & SDbw\\\\\n",
       "\\hline\n",
       "\tNumber\\_clusters &  6.00        &  6.000       & 10.0000      & 10.0000      &   3.0000     & 3.000000e+00 &    3.000     &  6.000       &  5.0000      &  6.0000      & ...          & 6.0000       &   3.0000     & 10.0000      &  1           & 2.0000       & 10.0000      & 0            & 8.0000       & 0            & 10.0000     \\\\\n",
       "\tValue\\_Index & 71.02        & 15.509       & 12.2617      & -0.2688      & 232.6352     & 3.479137e+15 & 3057.222     & 44.144       & 10.3979      & -0.1524      & ...          & 0.2608       & 162.5419     &  0.5587      & NA           & 0.2611       &  0.4823      & 0            & 1.0963       & 0            &  0.5128     \\\\\n",
       "\\end{tabular}\n",
       "\n",
       "\\item[\\$Best.partition] \\begin{enumerate*}\n",
       "\\item 1\n",
       "\\item 2\n",
       "\\item 1\n",
       "\\item 3\n",
       "\\item 4\n",
       "\\item 5\n",
       "\\item 6\n",
       "\\item 1\n",
       "\\item 5\n",
       "\\item 4\n",
       "\\item 7\n",
       "\\item 7\n",
       "\\item 6\n",
       "\\item 5\n",
       "\\item 7\n",
       "\\item 3\n",
       "\\item 6\n",
       "\\item 6\n",
       "\\item 8\n",
       "\\item 1\n",
       "\\item 3\n",
       "\\item 6\n",
       "\\item 2\n",
       "\\item 8\n",
       "\\item 2\n",
       "\\item 5\n",
       "\\item 2\n",
       "\\item 2\n",
       "\\item 5\n",
       "\\item 2\n",
       "\\item 2\n",
       "\\item 2\n",
       "\\item 3\n",
       "\\item 5\n",
       "\\item 2\n",
       "\\item 5\n",
       "\\item 3\n",
       "\\item 5\n",
       "\\item 5\n",
       "\\item 8\n",
       "\\item 8\n",
       "\\item 5\n",
       "\\item 9\n",
       "\\item 8\n",
       "\\item 5\n",
       "\\item 5\n",
       "\\item 9\n",
       "\\item 4\n",
       "\\item 1\n",
       "\\item 7\n",
       "\\item 10\n",
       "\\item 10\n",
       "\\item 3\n",
       "\\item 8\n",
       "\\item 8\n",
       "\\item 4\n",
       "\\item 8\n",
       "\\item 1\n",
       "\\item 3\n",
       "\\item 3\n",
       "\\item 2\n",
       "\\item 8\n",
       "\\item 3\n",
       "\\item 3\n",
       "\\item 2\n",
       "\\item 1\n",
       "\\item 8\n",
       "\\item 3\n",
       "\\item 5\n",
       "\\item 3\n",
       "\\item 3\n",
       "\\item 3\n",
       "\\item 4\n",
       "\\item 1\n",
       "\\item 4\n",
       "\\item 3\n",
       "\\item 8\n",
       "\\item 3\n",
       "\\item 3\n",
       "\\item 8\n",
       "\\item 4\n",
       "\\item 4\n",
       "\\item 5\n",
       "\\item 9\n",
       "\\item 5\n",
       "\\item 5\n",
       "\\item 5\n",
       "\\item 9\n",
       "\\item 5\n",
       "\\item 5\n",
       "\\item 9\n",
       "\\item 9\n",
       "\\item 5\n",
       "\\item 9\n",
       "\\item 5\n",
       "\\item 5\n",
       "\\item 9\n",
       "\\item 9\n",
       "\\item 5\n",
       "\\item 5\n",
       "\\end{enumerate*}\n",
       "\n",
       "\\end{description}\n"
      ],
      "text/markdown": [
       "$All.index\n",
       ":   1. 1.5135\n",
       "2. 0.9801\n",
       "3. 2.6303\n",
       "4. 0.3881\n",
       "5. 71.02\n",
       "6. 0.0661\n",
       "7. 0.7129\n",
       "8. 0.2017\n",
       "9. 5.6087\n",
       "10. 6.637\n",
       "11. 12.9572\n",
       "12. 15.0472\n",
       "13. 14.3254\n",
       "14. 15.509\n",
       "15. 13.8619\n",
       "16. 13.0876\n",
       "17. 12.6451\n",
       "18. 15.0809\n",
       "19. 18.3048\n",
       "20. 15.5446\n",
       "21. 8.681\n",
       "22. 13.1419\n",
       "23. 3.5729\n",
       "24. 4.9821\n",
       "25. 5.3409\n",
       "26. 17.0838\n",
       "27. 4.8221\n",
       "28. -7.8289\n",
       "29. -6.413\n",
       "30. -5.1823\n",
       "31. -5.4999\n",
       "32. -3.5807\n",
       "33. -4.6326\n",
       "34. -4.5822\n",
       "35. -4.2831\n",
       "36. -0.2688\n",
       "37. 54.6027\n",
       "38. 287.2379\n",
       "39. 412.8296\n",
       "40. 558.2992\n",
       "41. 630.815\n",
       "42. 681.6351\n",
       "43. 723.8253\n",
       "44. 771.3854\n",
       "45. 846.6034\n",
       "46. 5178682283793355\n",
       "47. 1137837040618230\n",
       "48. 576128979750307\n",
       "49. 210171247436876\n",
       "50. 146556015814210\n",
       "51. 120001894070673\n",
       "52. 102788030908815\n",
       "53. 80853069866422\n",
       "54. 47048310189162.4\n",
       "55. 12292.2752\n",
       "56. 9235.0531\n",
       "57. 6854.0345\n",
       "58. 6200.2671\n",
       "59. 4422.0976\n",
       "60. 4213.9379\n",
       "61. 3784.758\n",
       "62. 3634.5799\n",
       "63. 2214.3227\n",
       "64. 741.7644\n",
       "65. 625.0208\n",
       "66. 538.6932\n",
       "67. 494.0204\n",
       "68. 433.9849\n",
       "69. 418.0935\n",
       "70. 396.8346\n",
       "71. 375.061\n",
       "72. 315.7786\n",
       "73. 0.822\n",
       "74. 9.9903\n",
       "75. 13.9021\n",
       "76. 24.3\n",
       "77. 26.2441\n",
       "78. 29.5797\n",
       "79. 31.3962\n",
       "80. 32.5859\n",
       "81. 34.5277\n",
       "82. 1.0677\n",
       "83. 1.2672\n",
       "84. 1.4702\n",
       "85. 1.6032\n",
       "86. 1.8249\n",
       "87. 1.8943\n",
       "88. 1.9958\n",
       "89. 2.1117\n",
       "90. 2.5081\n",
       "91. 0.6667\n",
       "92. 0.658\n",
       "93. 0.6458\n",
       "94. 0.6273\n",
       "95. 0.6251\n",
       "96. 0.6205\n",
       "97. 0.6151\n",
       "98. 0.609\n",
       "99. 0.6012\n",
       "100. 2.2\n",
       "101. 1.9823\n",
       "102. 1.9203\n",
       "103. 1.8527\n",
       "104. 1.7584\n",
       "105. 1.5886\n",
       "106. 1.5326\n",
       "107. 1.4615\n",
       "108. 1.3731\n",
       "109. 0.0615\n",
       "110. 0.1121\n",
       "111. 0.1478\n",
       "112. 0.162\n",
       "113. 0.1875\n",
       "114. 0.1755\n",
       "115. 0.1777\n",
       "116. 0.1883\n",
       "117. 0.2449\n",
       "118. 0.8318\n",
       "119. 0.7962\n",
       "120. 0.7098\n",
       "121. 0.7203\n",
       "122. 0.716\n",
       "123. 0.6473\n",
       "124. 0.5553\n",
       "125. 0.5167\n",
       "126. 0.6619\n",
       "127. 17.3847\n",
       "128. 15.6133\n",
       "129. 9.4056\n",
       "130. 13.5925\n",
       "131. 4.3628\n",
       "132. 5.9936\n",
       "133. 8.0075\n",
       "134. 22.4518\n",
       "135. 5.1069\n",
       "136. 1.0561\n",
       "137. 1.331\n",
       "138. 2.0713\n",
       "139. 1.9955\n",
       "140. 1.9215\n",
       "141. 2.6398\n",
       "142. 3.8474\n",
       "143. 4.7465\n",
       "144. 2.4537\n",
       "145. 0.1502\n",
       "146. 0.2348\n",
       "147. 0.257\n",
       "148. 0.249\n",
       "149. 0.2608\n",
       "150. 0.2488\n",
       "151. 0.2413\n",
       "152. 0.2354\n",
       "153. 0.2417\n",
       "154. 370.8822\n",
       "155. 208.3403\n",
       "156. 134.6733\n",
       "157. 98.8041\n",
       "158. 72.3308\n",
       "159. 59.7276\n",
       "160. 49.6043\n",
       "161. 41.6734\n",
       "162. 31.5779\n",
       "163. 0.0633\n",
       "164. 0.3644\n",
       "165. 0.4398\n",
       "166. 0.4616\n",
       "167. 0.5188\n",
       "168. 0.5216\n",
       "169. 0.5225\n",
       "170. 0.5239\n",
       "171. 0.5587\n",
       "172. -0.6208\n",
       "173. 0.2192\n",
       "174. 0.0905\n",
       "175. 0.0631\n",
       "176. 0.1012\n",
       "177. 0.1845\n",
       "178. 0.1557\n",
       "179. 0.054\n",
       "180. 0.107\n",
       "181. 0.2611\n",
       "182. 0.9456\n",
       "183. 2.0426\n",
       "184. 2.3408\n",
       "185. 3.1276\n",
       "186. 3.2006\n",
       "187. 3.353\n",
       "188. 3.481\n",
       "189. 4.0902\n",
       "190. 0.3462\n",
       "191. 0.3749\n",
       "192. 0.4042\n",
       "193. 0.4047\n",
       "194. 0.4436\n",
       "195. 0.4439\n",
       "196. 0.4453\n",
       "197. 0.4457\n",
       "198. 0.4823\n",
       "199. 0.001\n",
       "200. 0.0031\n",
       "201. 0.0035\n",
       "202. 0.0039\n",
       "203. 0.0043\n",
       "204. 0.0043\n",
       "205. 0.0043\n",
       "206. 0.0044\n",
       "207. 0.0048\n",
       "208. 1.5482\n",
       "209. 1.3184\n",
       "210. 1.2899\n",
       "211. 1.2854\n",
       "212. 1.266\n",
       "213. 1.1418\n",
       "214. 1.0963\n",
       "215. 1.115\n",
       "216. 1.15\n",
       "217. 2.6991\n",
       "218. 2.4819\n",
       "219. 2.2984\n",
       "220. 2.1965\n",
       "221. 2.0503\n",
       "222. 2.0083\n",
       "223. 1.9468\n",
       "224. 1.8872\n",
       "225. 1.6835\n",
       "226. 0.8303\n",
       "227. 0.8039\n",
       "228. 0.773\n",
       "229. 0.7239\n",
       "230. 0.6764\n",
       "231. 0.6264\n",
       "232. 0.5923\n",
       "233. 0.5675\n",
       "234. 0.5128\n",
       "\n",
       "\n",
       "\n",
       "$All.CriticalValues\n",
       ":   1. 0.7587\n",
       "2. 0.7293\n",
       "3. 0.6171\n",
       "4. 0.6711\n",
       "5. 0.4997\n",
       "6. 0.4997\n",
       "7. 0.4826\n",
       "8. 0.623\n",
       "9. 0.4826\n",
       "10. 27.3468\n",
       "11. 22.6388\n",
       "12. 14.2731\n",
       "13. 17.1559\n",
       "14. 11.0113\n",
       "15. 11.0113\n",
       "16. 10.7225\n",
       "17. 14.5259\n",
       "18. 10.7225\n",
       "19. 0.3923\n",
       "20. 0.2256\n",
       "21. 0.0407\n",
       "22. 0.047\n",
       "23. 0.0665\n",
       "24. 0.0122\n",
       "25. 7e-04\n",
       "26. 0\n",
       "27. 0.0198\n",
       "\n",
       "\n",
       "\n",
       "$Best.nc\n",
       ":   1. 6\n",
       "2. 71.02\n",
       "3. 6\n",
       "4. 15.509\n",
       "5. 10\n",
       "6. 12.2617\n",
       "7. 10\n",
       "8. -0.2688\n",
       "9. 3\n",
       "10. 232.6352\n",
       "11. 3\n",
       "12. 3479137182307202\n",
       "13. 3\n",
       "14. 3057.222\n",
       "15. 6\n",
       "16. 44.144\n",
       "17. 5\n",
       "18. 10.3979\n",
       "19. 6\n",
       "20. -0.1524\n",
       "21. 10\n",
       "22. 0.6012\n",
       "23. 10\n",
       "24. 1.3731\n",
       "25. 10\n",
       "26. 0.2449\n",
       "27. 2\n",
       "28. 0.8318\n",
       "29. 2\n",
       "30. 17.3847\n",
       "31. 2\n",
       "32. 1.0561\n",
       "33. 6\n",
       "34. 0.2608\n",
       "35. 3\n",
       "36. 162.5419\n",
       "37. 10\n",
       "38. 0.5587\n",
       "39. 1\n",
       "40. NA\n",
       "41. 2\n",
       "42. 0.2611\n",
       "43. 10\n",
       "44. 0.4823\n",
       "45. 0\n",
       "46. 0\n",
       "47. 8\n",
       "48. 1.0963\n",
       "49. 0\n",
       "50. 0\n",
       "51. 10\n",
       "52. 0.5128\n",
       "\n",
       "\n",
       "\n",
       "$Best.partition\n",
       ":   1. 1\n",
       "2. 2\n",
       "3. 1\n",
       "4. 3\n",
       "5. 4\n",
       "6. 5\n",
       "7. 6\n",
       "8. 1\n",
       "9. 5\n",
       "10. 4\n",
       "11. 7\n",
       "12. 7\n",
       "13. 6\n",
       "14. 5\n",
       "15. 7\n",
       "16. 3\n",
       "17. 6\n",
       "18. 6\n",
       "19. 8\n",
       "20. 1\n",
       "21. 3\n",
       "22. 6\n",
       "23. 2\n",
       "24. 8\n",
       "25. 2\n",
       "26. 5\n",
       "27. 2\n",
       "28. 2\n",
       "29. 5\n",
       "30. 2\n",
       "31. 2\n",
       "32. 2\n",
       "33. 3\n",
       "34. 5\n",
       "35. 2\n",
       "36. 5\n",
       "37. 3\n",
       "38. 5\n",
       "39. 5\n",
       "40. 8\n",
       "41. 8\n",
       "42. 5\n",
       "43. 9\n",
       "44. 8\n",
       "45. 5\n",
       "46. 5\n",
       "47. 9\n",
       "48. 4\n",
       "49. 1\n",
       "50. 7\n",
       "51. 10\n",
       "52. 10\n",
       "53. 3\n",
       "54. 8\n",
       "55. 8\n",
       "56. 4\n",
       "57. 8\n",
       "58. 1\n",
       "59. 3\n",
       "60. 3\n",
       "61. 2\n",
       "62. 8\n",
       "63. 3\n",
       "64. 3\n",
       "65. 2\n",
       "66. 1\n",
       "67. 8\n",
       "68. 3\n",
       "69. 5\n",
       "70. 3\n",
       "71. 3\n",
       "72. 3\n",
       "73. 4\n",
       "74. 1\n",
       "75. 4\n",
       "76. 3\n",
       "77. 8\n",
       "78. 3\n",
       "79. 3\n",
       "80. 8\n",
       "81. 4\n",
       "82. 4\n",
       "83. 5\n",
       "84. 9\n",
       "85. 5\n",
       "86. 5\n",
       "87. 5\n",
       "88. 9\n",
       "89. 5\n",
       "90. 5\n",
       "91. 9\n",
       "92. 9\n",
       "93. 5\n",
       "94. 9\n",
       "95. 5\n",
       "96. 5\n",
       "97. 9\n",
       "98. 9\n",
       "99. 5\n",
       "100. 5\n",
       "\n",
       "\n",
       "\n",
       "\n",
       "\n"
      ],
      "text/plain": [
       "$All.index\n",
       "        KL      CH Hartigan     CCC    Scott      Marriot    TrCovW   TraceW\n",
       "2   1.5135  6.6370  18.3048 -7.8289  54.6027 5.178682e+15 12292.275 741.7644\n",
       "3   0.9801 12.9572  15.5446 -6.4130 287.2379 1.137837e+15  9235.053 625.0208\n",
       "4   2.6303 15.0472   8.6810 -5.1823 412.8296 5.761290e+14  6854.034 538.6932\n",
       "5   0.3881 14.3254  13.1419 -5.4999 558.2992 2.101712e+14  6200.267 494.0204\n",
       "6  71.0200 15.5090   3.5729 -3.5807 630.8150 1.465560e+14  4422.098 433.9849\n",
       "7   0.0661 13.8619   4.9821 -4.6326 681.6351 1.200019e+14  4213.938 418.0935\n",
       "8   0.7129 13.0876   5.3409 -4.5822 723.8253 1.027880e+14  3784.758 396.8346\n",
       "9   0.2017 12.6451  17.0838 -4.2831 771.3854 8.085307e+13  3634.580 375.0610\n",
       "10  5.6087 15.0809   4.8221 -0.2688 846.6034 4.704831e+13  2214.323 315.7786\n",
       "   Friedman  Rubin Cindex     DB Silhouette   Duda Pseudot2  Beale Ratkowsky\n",
       "2    0.8220 1.0677 0.6667 2.2000     0.0615 0.8318  17.3847 1.0561    0.1502\n",
       "3    9.9903 1.2672 0.6580 1.9823     0.1121 0.7962  15.6133 1.3310    0.2348\n",
       "4   13.9021 1.4702 0.6458 1.9203     0.1478 0.7098   9.4056 2.0713    0.2570\n",
       "5   24.3000 1.6032 0.6273 1.8527     0.1620 0.7203  13.5925 1.9955    0.2490\n",
       "6   26.2441 1.8249 0.6251 1.7584     0.1875 0.7160   4.3628 1.9215    0.2608\n",
       "7   29.5797 1.8943 0.6205 1.5886     0.1755 0.6473   5.9936 2.6398    0.2488\n",
       "8   31.3962 1.9958 0.6151 1.5326     0.1777 0.5553   8.0075 3.8474    0.2413\n",
       "9   32.5859 2.1117 0.6090 1.4615     0.1883 0.5167  22.4518 4.7465    0.2354\n",
       "10  34.5277 2.5081 0.6012 1.3731     0.2449 0.6619   5.1069 2.4537    0.2417\n",
       "       Ball Ptbiserial    Frey McClain   Dunn Hubert SDindex Dindex   SDbw\n",
       "2  370.8822     0.0633 -0.6208  0.2611 0.3462 0.0010  1.5482 2.6991 0.8303\n",
       "3  208.3403     0.3644  0.2192  0.9456 0.3749 0.0031  1.3184 2.4819 0.8039\n",
       "4  134.6733     0.4398  0.0905  2.0426 0.4042 0.0035  1.2899 2.2984 0.7730\n",
       "5   98.8041     0.4616  0.0631  2.3408 0.4047 0.0039  1.2854 2.1965 0.7239\n",
       "6   72.3308     0.5188  0.1012  3.1276 0.4436 0.0043  1.2660 2.0503 0.6764\n",
       "7   59.7276     0.5216  0.1845  3.2006 0.4439 0.0043  1.1418 2.0083 0.6264\n",
       "8   49.6043     0.5225  0.1557  3.3530 0.4453 0.0043  1.0963 1.9468 0.5923\n",
       "9   41.6734     0.5239  0.0540  3.4810 0.4457 0.0044  1.1150 1.8872 0.5675\n",
       "10  31.5779     0.5587  0.1070  4.0902 0.4823 0.0048  1.1500 1.6835 0.5128\n",
       "\n",
       "$All.CriticalValues\n",
       "   CritValue_Duda CritValue_PseudoT2 Fvalue_Beale\n",
       "2          0.7587            27.3468       0.3923\n",
       "3          0.7293            22.6388       0.2256\n",
       "4          0.6171            14.2731       0.0407\n",
       "5          0.6711            17.1559       0.0470\n",
       "6          0.4997            11.0113       0.0665\n",
       "7          0.4997            11.0113       0.0122\n",
       "8          0.4826            10.7225       0.0007\n",
       "9          0.6230            14.5259       0.0000\n",
       "10         0.4826            10.7225       0.0198\n",
       "\n",
       "$Best.nc\n",
       "                   KL     CH Hartigan     CCC    Scott      Marriot   TrCovW\n",
       "Number_clusters  6.00  6.000  10.0000 10.0000   3.0000 3.000000e+00    3.000\n",
       "Value_Index     71.02 15.509  12.2617 -0.2688 232.6352 3.479137e+15 3057.222\n",
       "                TraceW Friedman   Rubin  Cindex      DB Silhouette   Duda\n",
       "Number_clusters  6.000   5.0000  6.0000 10.0000 10.0000    10.0000 2.0000\n",
       "Value_Index     44.144  10.3979 -0.1524  0.6012  1.3731     0.2449 0.8318\n",
       "                PseudoT2  Beale Ratkowsky     Ball PtBiserial Frey McClain\n",
       "Number_clusters   2.0000 2.0000    6.0000   3.0000    10.0000    1  2.0000\n",
       "Value_Index      17.3847 1.0561    0.2608 162.5419     0.5587   NA  0.2611\n",
       "                   Dunn Hubert SDindex Dindex    SDbw\n",
       "Number_clusters 10.0000      0  8.0000      0 10.0000\n",
       "Value_Index      0.4823      0  1.0963      0  0.5128\n",
       "\n",
       "$Best.partition\n",
       "  [1]  1  2  1  3  4  5  6  1  5  4  7  7  6  5  7  3  6  6  8  1  3  6  2  8  2\n",
       " [26]  5  2  2  5  2  2  2  3  5  2  5  3  5  5  8  8  5  9  8  5  5  9  4  1  7\n",
       " [51] 10 10  3  8  8  4  8  1  3  3  2  8  3  3  2  1  8  3  5  3  3  3  4  1  4\n",
       " [76]  3  8  3  3  8  4  4  5  9  5  5  5  9  5  5  9  9  5  9  5  5  9  9  5  5\n"
      ]
     },
     "metadata": {},
     "output_type": "display_data"
    },
    {
     "data": {
      "image/png": "[encoded data removed]",
      "text/plain": [
       "plot without title"
      ]
     },
     "metadata": {},
     "output_type": "display_data"
    }
   ],
   "source": [
    "hbrt = NbClust(sessions.df.scaled,distance=\"euclidean\", min.nc=2, max.nc=10,method='complete',index='all')\n",
    "hbrt"
   ]
  },
  {
   "cell_type": "code",
   "execution_count": 40,
   "metadata": {
    "collapsed": false
   },
   "outputs": [
    {
     "name": "stdout",
     "output_type": "stream",
     "text": [
      "Among all indices: \n",
      "===================\n",
      "* 2 proposed  0 as the best number of clusters\n",
      "* 1 proposed  1 as the best number of clusters\n",
      "* 4 proposed  2 as the best number of clusters\n",
      "* 4 proposed  3 as the best number of clusters\n",
      "* 1 proposed  5 as the best number of clusters\n",
      "* 5 proposed  6 as the best number of clusters\n",
      "* 1 proposed  8 as the best number of clusters\n",
      "* 8 proposed  10 as the best number of clusters\n",
      "\n",
      "Conclusion\n",
      "=========================\n",
      "* According to the majority rule, the best number of clusters is  10 .\n",
      "\n"
     ]
    },
    {
     "data": {},
     "metadata": {},
     "output_type": "display_data"
    },
    {
     "data": {
      "image/png": "[encoded data removed]",
      "text/plain": [
       "plot without title"
      ]
     },
     "metadata": {},
     "output_type": "display_data"
    }
   ],
   "source": [
    "fviz_nbclust(hbrt) + theme_minimal()"
   ]
  },
  {
   "cell_type": "markdown",
   "metadata": {},
   "source": [
    "# Best Cluster Size (3) - Cluster Analysis"
   ]
  },
  {
   "cell_type": "code",
   "execution_count": 78,
   "metadata": {
    "collapsed": false
   },
   "outputs": [
    {
     "name": "stdout",
     "output_type": "stream",
     "text": [
      "\f"
     ]
    },
    {
     "data": {
      "text/plain": [
       "kcca object of family 'kmeans' \n",
       "\n",
       "call:\n",
       "kcca(x = sessions.df[sessions.df[[\"train\"]] == TRUE, 1:2], k = 3, \n",
       "    family = kccaFamily(\"kmeans\"))\n",
       "\n",
       "cluster sizes:\n",
       "\n",
       " 1  2  3 \n",
       "14 31 25 \n"
      ]
     },
     "metadata": {},
     "output_type": "display_data"
    },
    {
     "data": {
      "image/png": "[encoded data removed]",
      "text/plain": [
       "plot without title"
      ]
     },
     "metadata": {},
     "output_type": "display_data"
    }
   ],
   "source": [
    "# Clear objects from Memory\n",
    "rm(list=ls())\n",
    "# Clear Console:\n",
    "cat(\"\\014\")\n",
    "\n",
    "# Read Data Source\n",
    "read.data = function(file=file){\n",
    "  read.csv(file,header = TRUE,stringsAsFactors = FALSE)\n",
    "}\n",
    "sessions.df = read.data('Sessions.csv')\n",
    "if(!require(dplyr)){install.packages(\"dplyr\")}\n",
    "if(!require(flexclust)){install.packages(\"flexclust\")}\n",
    "\n",
    "set.seed(1)\n",
    "ind = sample(nrow(sessions.df), 30)\n",
    "sessions.df[[\"train\"]] = TRUE\n",
    "sessions.df[[\"train\"]][ind] = FALSE\n",
    "\n",
    "cl3 = kcca(sessions.df[sessions.df[[\"train\"]] == TRUE, 1:2], k=3, kccaFamily(\"kmeans\"))\n",
    "cl3\n",
    "\n",
    "pred.train <- predict(cl3)\n",
    "pred.test <- predict(cl3, newdata=sessions.df[sessions.df[[\"train\"]]==FALSE, 1:2])\n",
    "\n",
    "image(cl3)\n",
    "points(sessions.df[sessions.df[[\"train\"]]==TRUE, 1:2], col=pred.train, pch=19, cex=0.3)\n",
    "points(sessions.df[sessions.df[[\"train\"]]==FALSE, 1:2], col=pred.test, pch=22, bg=\"orange\")\n",
    "\n"
   ]
  },
  {
   "cell_type": "code",
   "execution_count": 79,
   "metadata": {
    "collapsed": false
   },
   "outputs": [
    {
     "data": {
      "text/plain": [
       "K-means clustering with 3 clusters of sizes 24, 45, 31\n",
       "\n",
       "Cluster means:\n",
       "        Home  Products    Search     Prod_A    Prod_B    Prod_C      Cart\n",
       "1 0.87500000 0.6666667 0.4166667 0.75000000 0.5000000 0.3750000 0.5416667\n",
       "2 0.84444444 0.5777778 0.5111111 0.73333333 0.2666667 0.3555556 0.7555556\n",
       "3 0.03225806 0.9677419 0.3225806 0.06451613 1.0000000 0.6451613 0.4516129\n",
       "   Purchase     train\n",
       "1 0.3750000 0.0000000\n",
       "2 0.4666667 1.0000000\n",
       "3 0.2903226 0.8064516\n",
       "\n",
       "Clustering vector:\n",
       "  [1] 1 2 2 2 2 1 2 2 2 1 2 2 2 2 2 1 1 2 1 1 1 2 2 2 1 3 1 1 1 2 2 1 2 1 2 2 1\n",
       " [38] 3 3 3 3 3 3 3 3 3 3 2 2 2 1 2 2 2 3 2 1 1 2 2 1 1 1 2 2 2 1 2 2 2 2 2 2 2\n",
       " [75] 1 2 2 2 2 3 1 2 3 3 3 3 3 3 3 3 3 3 3 3 3 3 3 3 3 3\n",
       "\n",
       "Within cluster sum of squares by cluster:\n",
       "[1] 41.50000 75.55556 36.58065\n",
       " (between_SS / total_SS =  27.4 %)\n",
       "\n",
       "Available components:\n",
       "\n",
       "[1] \"cluster\"      \"centers\"      \"totss\"        \"withinss\"     \"tot.withinss\"\n",
       "[6] \"betweenss\"    \"size\"         \"iter\"         \"ifault\"      "
      ]
     },
     "metadata": {},
     "output_type": "display_data"
    },
    {
     "data": {
      "text/html": [
       "<table>\n",
       "<thead><tr><th scope=col>Group.1</th><th scope=col>Home</th><th scope=col>Products</th><th scope=col>Search</th><th scope=col>Prod_A</th><th scope=col>Prod_B</th><th scope=col>Prod_C</th><th scope=col>Cart</th><th scope=col>Purchase</th><th scope=col>train</th></tr></thead>\n",
       "<tbody>\n",
       "\t<tr><td>1         </td><td>0.87500000</td><td>0.6666667 </td><td>0.4166667 </td><td>0.75000000</td><td>0.5000000 </td><td>0.3750000 </td><td>0.5416667 </td><td>0.3750000 </td><td>0.0000000 </td></tr>\n",
       "\t<tr><td>2         </td><td>0.84444444</td><td>0.5777778 </td><td>0.5111111 </td><td>0.73333333</td><td>0.2666667 </td><td>0.3555556 </td><td>0.7555556 </td><td>0.4666667 </td><td>1.0000000 </td></tr>\n",
       "\t<tr><td>3         </td><td>0.03225806</td><td>0.9677419 </td><td>0.3225806 </td><td>0.06451613</td><td>1.0000000 </td><td>0.6451613 </td><td>0.4516129 </td><td>0.2903226 </td><td>0.8064516 </td></tr>\n",
       "</tbody>\n",
       "</table>\n"
      ],
      "text/latex": [
       "\\begin{tabular}{r|llllllllll}\n",
       " Group.1 & Home & Products & Search & Prod\\_A & Prod\\_B & Prod\\_C & Cart & Purchase & train\\\\\n",
       "\\hline\n",
       "\t 1          & 0.87500000 & 0.6666667  & 0.4166667  & 0.75000000 & 0.5000000  & 0.3750000  & 0.5416667  & 0.3750000  & 0.0000000 \\\\\n",
       "\t 2          & 0.84444444 & 0.5777778  & 0.5111111  & 0.73333333 & 0.2666667  & 0.3555556  & 0.7555556  & 0.4666667  & 1.0000000 \\\\\n",
       "\t 3          & 0.03225806 & 0.9677419  & 0.3225806  & 0.06451613 & 1.0000000  & 0.6451613  & 0.4516129  & 0.2903226  & 0.8064516 \\\\\n",
       "\\end{tabular}\n"
      ],
      "text/plain": [
       "  Group.1 Home       Products  Search    Prod_A     Prod_B    Prod_C   \n",
       "1 1       0.87500000 0.6666667 0.4166667 0.75000000 0.5000000 0.3750000\n",
       "2 2       0.84444444 0.5777778 0.5111111 0.73333333 0.2666667 0.3555556\n",
       "3 3       0.03225806 0.9677419 0.3225806 0.06451613 1.0000000 0.6451613\n",
       "  Cart      Purchase  train    \n",
       "1 0.5416667 0.3750000 0.0000000\n",
       "2 0.7555556 0.4666667 1.0000000\n",
       "3 0.4516129 0.2903226 0.8064516"
      ]
     },
     "metadata": {},
     "output_type": "display_data"
    },
    {
     "data": {
      "text/html": [
       "<table>\n",
       "<thead><tr><th scope=col>Home</th><th scope=col>Products</th><th scope=col>Search</th><th scope=col>Prod_A</th><th scope=col>Prod_B</th><th scope=col>Prod_C</th><th scope=col>Cart</th><th scope=col>Purchase</th><th scope=col>train</th><th scope=col>k3.cluster</th></tr></thead>\n",
       "<tbody>\n",
       "\t<tr><td>1    </td><td>0    </td><td>0    </td><td>0    </td><td>0    </td><td>0    </td><td>0    </td><td>0    </td><td>FALSE</td><td>1    </td></tr>\n",
       "\t<tr><td>1    </td><td>1    </td><td>1    </td><td>0    </td><td>0    </td><td>0    </td><td>1    </td><td>0    </td><td> TRUE</td><td>2    </td></tr>\n",
       "\t<tr><td>1    </td><td>0    </td><td>0    </td><td>0    </td><td>0    </td><td>0    </td><td>0    </td><td>0    </td><td> TRUE</td><td>2    </td></tr>\n",
       "\t<tr><td>1    </td><td>1    </td><td>1    </td><td>1    </td><td>0    </td><td>0    </td><td>1    </td><td>1    </td><td> TRUE</td><td>2    </td></tr>\n",
       "\t<tr><td>1    </td><td>0    </td><td>1    </td><td>1    </td><td>1    </td><td>0    </td><td>1    </td><td>1    </td><td> TRUE</td><td>2    </td></tr>\n",
       "\t<tr><td>1    </td><td>1    </td><td>1    </td><td>0    </td><td>1    </td><td>0    </td><td>0    </td><td>0    </td><td>FALSE</td><td>1    </td></tr>\n",
       "</tbody>\n",
       "</table>\n"
      ],
      "text/latex": [
       "\\begin{tabular}{r|llllllllll}\n",
       " Home & Products & Search & Prod\\_A & Prod\\_B & Prod\\_C & Cart & Purchase & train & k3.cluster\\\\\n",
       "\\hline\n",
       "\t 1     & 0     & 0     & 0     & 0     & 0     & 0     & 0     & FALSE & 1    \\\\\n",
       "\t 1     & 1     & 1     & 0     & 0     & 0     & 1     & 0     &  TRUE & 2    \\\\\n",
       "\t 1     & 0     & 0     & 0     & 0     & 0     & 0     & 0     &  TRUE & 2    \\\\\n",
       "\t 1     & 1     & 1     & 1     & 0     & 0     & 1     & 1     &  TRUE & 2    \\\\\n",
       "\t 1     & 0     & 1     & 1     & 1     & 0     & 1     & 1     &  TRUE & 2    \\\\\n",
       "\t 1     & 1     & 1     & 0     & 1     & 0     & 0     & 0     & FALSE & 1    \\\\\n",
       "\\end{tabular}\n"
      ],
      "text/plain": [
       "  Home Products Search Prod_A Prod_B Prod_C Cart Purchase train k3.cluster\n",
       "1 1    0        0      0      0      0      0    0        FALSE 1         \n",
       "2 1    1        1      0      0      0      1    0         TRUE 2         \n",
       "3 1    0        0      0      0      0      0    0         TRUE 2         \n",
       "4 1    1        1      1      0      0      1    1         TRUE 2         \n",
       "5 1    0        1      1      1      0      1    1         TRUE 2         \n",
       "6 1    1        1      0      1      0      0    0        FALSE 1         "
      ]
     },
     "metadata": {},
     "output_type": "display_data"
    }
   ],
   "source": [
    "k3 = kmeans(sessions.df,3) # 3 clusters\n",
    "k3\n",
    "#get cluster means\n",
    "aggregate(sessions.df,by=list(k3$cluster),FUN=mean)\n",
    "#append cluster assignment\n",
    "sessions.df = data.frame(sessions.df,k3$cluster)\n",
    "head(sessions.df)"
   ]
  },
  {
   "cell_type": "code",
   "execution_count": 80,
   "metadata": {
    "collapsed": false
   },
   "outputs": [
    {
     "data": {
      "image/png": "[encoded data removed]",
      "text/plain": [
       "Plot with title \"CLUSPLOT( sessions.df )\""
      ]
     },
     "metadata": {},
     "output_type": "display_data"
    }
   ],
   "source": [
    "if(!require(cluster)){install.packages(\"cluster\")}\n",
    "#plot cluster\n",
    "clusplot(sessions.df,k3$cluster,color=TRUE,shade=TRUE,labels=2,lines=0)\n"
   ]
  },
  {
   "cell_type": "code",
   "execution_count": 81,
   "metadata": {
    "collapsed": false
   },
   "outputs": [
    {
     "data": {
      "text/html": [
       "24"
      ],
      "text/latex": [
       "24"
      ],
      "text/markdown": [
       "24"
      ],
      "text/plain": [
       "[1] 24"
      ]
     },
     "metadata": {},
     "output_type": "display_data"
    },
    {
     "data": {
      "text/html": [
       "'Q1 Path Observations:5 of 24 Q1 Path Frequencey: 20.83%'"
      ],
      "text/latex": [
       "'Q1 Path Observations:5 of 24 Q1 Path Frequencey: 20.83\\%'"
      ],
      "text/markdown": [
       "'Q1 Path Observations:5 of 24 Q1 Path Frequencey: 20.83%'"
      ],
      "text/plain": [
       "[1] \"Q1 Path Observations:5 of 24 Q1 Path Frequencey: 20.83%\""
      ]
     },
     "metadata": {},
     "output_type": "display_data"
    },
    {
     "data": {
      "text/html": [
       "<table>\n",
       "<thead><tr><th></th><th scope=col>Home</th><th scope=col>Products</th><th scope=col>Search</th><th scope=col>Prod_A</th><th scope=col>Prod_B</th><th scope=col>Prod_C</th><th scope=col>Cart</th><th scope=col>Purchase</th><th scope=col>train</th><th scope=col>k3.cluster</th></tr></thead>\n",
       "<tbody>\n",
       "\t<tr><th scope=row>6</th><td>1    </td><td>1    </td><td>1    </td><td>0    </td><td>1    </td><td>0    </td><td>0    </td><td>0    </td><td>FALSE</td><td>1    </td></tr>\n",
       "\t<tr><th scope=row>10</th><td>1    </td><td>0    </td><td>1    </td><td>1    </td><td>1    </td><td>1    </td><td>1    </td><td>1    </td><td>FALSE</td><td>1    </td></tr>\n",
       "\t<tr><th scope=row>16</th><td>1    </td><td>1    </td><td>1    </td><td>1    </td><td>1    </td><td>0    </td><td>1    </td><td>1    </td><td>FALSE</td><td>1    </td></tr>\n",
       "\t<tr><th scope=row>29</th><td>1    </td><td>1    </td><td>1    </td><td>1    </td><td>1    </td><td>1    </td><td>0    </td><td>0    </td><td>FALSE</td><td>1    </td></tr>\n",
       "\t<tr><th scope=row>34</th><td>1    </td><td>1    </td><td>1    </td><td>0    </td><td>1    </td><td>1    </td><td>0    </td><td>0    </td><td>FALSE</td><td>1    </td></tr>\n",
       "</tbody>\n",
       "</table>\n"
      ],
      "text/latex": [
       "\\begin{tabular}{r|llllllllll}\n",
       "  & Home & Products & Search & Prod\\_A & Prod\\_B & Prod\\_C & Cart & Purchase & train & k3.cluster\\\\\n",
       "\\hline\n",
       "\t6 & 1     & 1     & 1     & 0     & 1     & 0     & 0     & 0     & FALSE & 1    \\\\\n",
       "\t10 & 1     & 0     & 1     & 1     & 1     & 1     & 1     & 1     & FALSE & 1    \\\\\n",
       "\t16 & 1     & 1     & 1     & 1     & 1     & 0     & 1     & 1     & FALSE & 1    \\\\\n",
       "\t29 & 1     & 1     & 1     & 1     & 1     & 1     & 0     & 0     & FALSE & 1    \\\\\n",
       "\t34 & 1     & 1     & 1     & 0     & 1     & 1     & 0     & 0     & FALSE & 1    \\\\\n",
       "\\end{tabular}\n"
      ],
      "text/plain": [
       "   Home Products Search Prod_A Prod_B Prod_C Cart Purchase train k3.cluster\n",
       "6  1    1        1      0      1      0      0    0        FALSE 1         \n",
       "10 1    0        1      1      1      1      1    1        FALSE 1         \n",
       "16 1    1        1      1      1      0      1    1        FALSE 1         \n",
       "29 1    1        1      1      1      1      0    0        FALSE 1         \n",
       "34 1    1        1      0      1      1      0    0        FALSE 1         "
      ]
     },
     "metadata": {},
     "output_type": "display_data"
    },
    {
     "data": {
      "text/html": [
       "'Prod_A Observations of Q1 Path: 3 of 5'"
      ],
      "text/latex": [
       "'Prod\\_A Observations of Q1 Path: 3 of 5'"
      ],
      "text/markdown": [
       "'Prod_A Observations of Q1 Path: 3 of 5'"
      ],
      "text/plain": [
       "[1] \"Prod_A Observations of Q1 Path: 3 of 5\""
      ]
     },
     "metadata": {},
     "output_type": "display_data"
    },
    {
     "data": {
      "text/html": [
       "<table>\n",
       "<thead><tr><th></th><th scope=col>Home</th><th scope=col>Products</th><th scope=col>Search</th><th scope=col>Prod_A</th><th scope=col>Prod_B</th><th scope=col>Prod_C</th><th scope=col>Cart</th><th scope=col>Purchase</th><th scope=col>train</th><th scope=col>k3.cluster</th></tr></thead>\n",
       "<tbody>\n",
       "\t<tr><th scope=row>10</th><td>1    </td><td>0    </td><td>1    </td><td>1    </td><td>1    </td><td>1    </td><td>1    </td><td>1    </td><td>FALSE</td><td>1    </td></tr>\n",
       "\t<tr><th scope=row>16</th><td>1    </td><td>1    </td><td>1    </td><td>1    </td><td>1    </td><td>0    </td><td>1    </td><td>1    </td><td>FALSE</td><td>1    </td></tr>\n",
       "\t<tr><th scope=row>29</th><td>1    </td><td>1    </td><td>1    </td><td>1    </td><td>1    </td><td>1    </td><td>0    </td><td>0    </td><td>FALSE</td><td>1    </td></tr>\n",
       "</tbody>\n",
       "</table>\n"
      ],
      "text/latex": [
       "\\begin{tabular}{r|llllllllll}\n",
       "  & Home & Products & Search & Prod\\_A & Prod\\_B & Prod\\_C & Cart & Purchase & train & k3.cluster\\\\\n",
       "\\hline\n",
       "\t10 & 1     & 0     & 1     & 1     & 1     & 1     & 1     & 1     & FALSE & 1    \\\\\n",
       "\t16 & 1     & 1     & 1     & 1     & 1     & 0     & 1     & 1     & FALSE & 1    \\\\\n",
       "\t29 & 1     & 1     & 1     & 1     & 1     & 1     & 0     & 0     & FALSE & 1    \\\\\n",
       "\\end{tabular}\n"
      ],
      "text/plain": [
       "   Home Products Search Prod_A Prod_B Prod_C Cart Purchase train k3.cluster\n",
       "10 1    0        1      1      1      1      1    1        FALSE 1         \n",
       "16 1    1        1      1      1      0      1    1        FALSE 1         \n",
       "29 1    1        1      1      1      1      0    0        FALSE 1         "
      ]
     },
     "metadata": {},
     "output_type": "display_data"
    },
    {
     "data": {
      "text/html": [
       "'Prod_C Observations of Q1 Path: 3 of 5'"
      ],
      "text/latex": [
       "'Prod\\_C Observations of Q1 Path: 3 of 5'"
      ],
      "text/markdown": [
       "'Prod_C Observations of Q1 Path: 3 of 5'"
      ],
      "text/plain": [
       "[1] \"Prod_C Observations of Q1 Path: 3 of 5\""
      ]
     },
     "metadata": {},
     "output_type": "display_data"
    },
    {
     "data": {
      "text/html": [
       "<table>\n",
       "<thead><tr><th></th><th scope=col>Home</th><th scope=col>Products</th><th scope=col>Search</th><th scope=col>Prod_A</th><th scope=col>Prod_B</th><th scope=col>Prod_C</th><th scope=col>Cart</th><th scope=col>Purchase</th><th scope=col>train</th><th scope=col>k3.cluster</th></tr></thead>\n",
       "<tbody>\n",
       "\t<tr><th scope=row>10</th><td>1    </td><td>0    </td><td>1    </td><td>1    </td><td>1    </td><td>1    </td><td>1    </td><td>1    </td><td>FALSE</td><td>1    </td></tr>\n",
       "\t<tr><th scope=row>29</th><td>1    </td><td>1    </td><td>1    </td><td>1    </td><td>1    </td><td>1    </td><td>0    </td><td>0    </td><td>FALSE</td><td>1    </td></tr>\n",
       "\t<tr><th scope=row>34</th><td>1    </td><td>1    </td><td>1    </td><td>0    </td><td>1    </td><td>1    </td><td>0    </td><td>0    </td><td>FALSE</td><td>1    </td></tr>\n",
       "</tbody>\n",
       "</table>\n"
      ],
      "text/latex": [
       "\\begin{tabular}{r|llllllllll}\n",
       "  & Home & Products & Search & Prod\\_A & Prod\\_B & Prod\\_C & Cart & Purchase & train & k3.cluster\\\\\n",
       "\\hline\n",
       "\t10 & 1     & 0     & 1     & 1     & 1     & 1     & 1     & 1     & FALSE & 1    \\\\\n",
       "\t29 & 1     & 1     & 1     & 1     & 1     & 1     & 0     & 0     & FALSE & 1    \\\\\n",
       "\t34 & 1     & 1     & 1     & 0     & 1     & 1     & 0     & 0     & FALSE & 1    \\\\\n",
       "\\end{tabular}\n"
      ],
      "text/plain": [
       "   Home Products Search Prod_A Prod_B Prod_C Cart Purchase train k3.cluster\n",
       "10 1    0        1      1      1      1      1    1        FALSE 1         \n",
       "29 1    1        1      1      1      1      0    0        FALSE 1         \n",
       "34 1    1        1      0      1      1      0    0        FALSE 1         "
      ]
     },
     "metadata": {},
     "output_type": "display_data"
    }
   ],
   "source": [
    "df.c1 = sessions.df[which(sessions.df$k3.cluster == 1),]\n",
    "nrow(df.c1)\n",
    "#head(df.c1)\n",
    "# Path 1 - Home => Search => Prod_B\n",
    "q1.c1 = df.c1[which(df.c1$Home == 1 & df.c1$Search == 1 & df.c1$Prod_B == 1),]\n",
    "q1.c1.percent = round(nrow(q1.c1)/nrow(df.c1)*100,2)\n",
    "paste0(\"Q1 Path Observations:\",nrow(q1.c1),\" of \",nrow(df.c1), \" Q1 Path Frequencey: \",q1.c1.percent,\"%\")\n",
    "q1.c1\n",
    "# What Product next, Prod_A?\n",
    "q1.c1.prod_a = q1.c1[which(q1.c1$Prod_A == 1),]\n",
    "paste0(\"Prod_A Observations of Q1 Path: \",nrow(q1.c1.prod_a),' of ', nrow(q1.c1))\n",
    "q1.c1.prod_a\n",
    "\n",
    "# What Product next, Prod_C?\n",
    "q1.c1.prod_c = q1.c1[which(q1.c1$Prod_C == 1),]\n",
    "paste0(\"Prod_C Observations of Q1 Path: \",nrow(q1.c1.prod_c),' of ', nrow(q1.c1))\n",
    "q1.c1.prod_c\n",
    "\n",
    "# Path 2 - Products => Prod_B\n",
    "q1.c1.p = df.c1[which(df.c1$Home == 1 & df.c1$Search == 1 & df.c1$Prod_B == 1),]"
   ]
  },
  {
   "cell_type": "code",
   "execution_count": 83,
   "metadata": {
    "collapsed": false
   },
   "outputs": [
    {
     "data": {
      "text/html": [
       "45"
      ],
      "text/latex": [
       "45"
      ],
      "text/markdown": [
       "45"
      ],
      "text/plain": [
       "[1] 45"
      ]
     },
     "metadata": {},
     "output_type": "display_data"
    },
    {
     "data": {
      "text/html": [
       "'Q1 Path Observations:6 of 45 Q1 Path Frequencey: 13.33%'"
      ],
      "text/latex": [
       "'Q1 Path Observations:6 of 45 Q1 Path Frequencey: 13.33\\%'"
      ],
      "text/markdown": [
       "'Q1 Path Observations:6 of 45 Q1 Path Frequencey: 13.33%'"
      ],
      "text/plain": [
       "[1] \"Q1 Path Observations:6 of 45 Q1 Path Frequencey: 13.33%\""
      ]
     },
     "metadata": {},
     "output_type": "display_data"
    },
    {
     "data": {
      "text/html": [
       "<table>\n",
       "<thead><tr><th></th><th scope=col>Home</th><th scope=col>Products</th><th scope=col>Search</th><th scope=col>Prod_A</th><th scope=col>Prod_B</th><th scope=col>Prod_C</th><th scope=col>Cart</th><th scope=col>Purchase</th><th scope=col>train</th><th scope=col>k3.cluster</th></tr></thead>\n",
       "<tbody>\n",
       "\t<tr><th scope=row>5</th><td>1   </td><td>0   </td><td>1   </td><td>1   </td><td>1   </td><td>0   </td><td>1   </td><td>1   </td><td>TRUE</td><td>2   </td></tr>\n",
       "\t<tr><th scope=row>8</th><td>1   </td><td>0   </td><td>1   </td><td>0   </td><td>1   </td><td>0   </td><td>0   </td><td>0   </td><td>TRUE</td><td>2   </td></tr>\n",
       "\t<tr><th scope=row>9</th><td>1   </td><td>1   </td><td>1   </td><td>0   </td><td>1   </td><td>0   </td><td>1   </td><td>0   </td><td>TRUE</td><td>2   </td></tr>\n",
       "\t<tr><th scope=row>11</th><td>1   </td><td>0   </td><td>1   </td><td>1   </td><td>1   </td><td>1   </td><td>1   </td><td>0   </td><td>TRUE</td><td>2   </td></tr>\n",
       "\t<tr><th scope=row>15</th><td>1   </td><td>0   </td><td>1   </td><td>1   </td><td>1   </td><td>1   </td><td>0   </td><td>0   </td><td>TRUE</td><td>2   </td></tr>\n",
       "\t<tr><th scope=row>36</th><td>1   </td><td>1   </td><td>1   </td><td>1   </td><td>1   </td><td>1   </td><td>0   </td><td>0   </td><td>TRUE</td><td>2   </td></tr>\n",
       "</tbody>\n",
       "</table>\n"
      ],
      "text/latex": [
       "\\begin{tabular}{r|llllllllll}\n",
       "  & Home & Products & Search & Prod\\_A & Prod\\_B & Prod\\_C & Cart & Purchase & train & k3.cluster\\\\\n",
       "\\hline\n",
       "\t5 & 1    & 0    & 1    & 1    & 1    & 0    & 1    & 1    & TRUE & 2   \\\\\n",
       "\t8 & 1    & 0    & 1    & 0    & 1    & 0    & 0    & 0    & TRUE & 2   \\\\\n",
       "\t9 & 1    & 1    & 1    & 0    & 1    & 0    & 1    & 0    & TRUE & 2   \\\\\n",
       "\t11 & 1    & 0    & 1    & 1    & 1    & 1    & 1    & 0    & TRUE & 2   \\\\\n",
       "\t15 & 1    & 0    & 1    & 1    & 1    & 1    & 0    & 0    & TRUE & 2   \\\\\n",
       "\t36 & 1    & 1    & 1    & 1    & 1    & 1    & 0    & 0    & TRUE & 2   \\\\\n",
       "\\end{tabular}\n"
      ],
      "text/plain": [
       "   Home Products Search Prod_A Prod_B Prod_C Cart Purchase train k3.cluster\n",
       "5  1    0        1      1      1      0      1    1        TRUE  2         \n",
       "8  1    0        1      0      1      0      0    0        TRUE  2         \n",
       "9  1    1        1      0      1      0      1    0        TRUE  2         \n",
       "11 1    0        1      1      1      1      1    0        TRUE  2         \n",
       "15 1    0        1      1      1      1      0    0        TRUE  2         \n",
       "36 1    1        1      1      1      1      0    0        TRUE  2         "
      ]
     },
     "metadata": {},
     "output_type": "display_data"
    },
    {
     "data": {
      "text/html": [
       "'Prod_A Observations of Q1 Path: 4 of 6'"
      ],
      "text/latex": [
       "'Prod\\_A Observations of Q1 Path: 4 of 6'"
      ],
      "text/markdown": [
       "'Prod_A Observations of Q1 Path: 4 of 6'"
      ],
      "text/plain": [
       "[1] \"Prod_A Observations of Q1 Path: 4 of 6\""
      ]
     },
     "metadata": {},
     "output_type": "display_data"
    },
    {
     "data": {
      "text/html": [
       "<table>\n",
       "<thead><tr><th></th><th scope=col>Home</th><th scope=col>Products</th><th scope=col>Search</th><th scope=col>Prod_A</th><th scope=col>Prod_B</th><th scope=col>Prod_C</th><th scope=col>Cart</th><th scope=col>Purchase</th><th scope=col>train</th><th scope=col>k3.cluster</th></tr></thead>\n",
       "<tbody>\n",
       "\t<tr><th scope=row>5</th><td>1   </td><td>0   </td><td>1   </td><td>1   </td><td>1   </td><td>0   </td><td>1   </td><td>1   </td><td>TRUE</td><td>2   </td></tr>\n",
       "\t<tr><th scope=row>11</th><td>1   </td><td>0   </td><td>1   </td><td>1   </td><td>1   </td><td>1   </td><td>1   </td><td>0   </td><td>TRUE</td><td>2   </td></tr>\n",
       "\t<tr><th scope=row>15</th><td>1   </td><td>0   </td><td>1   </td><td>1   </td><td>1   </td><td>1   </td><td>0   </td><td>0   </td><td>TRUE</td><td>2   </td></tr>\n",
       "\t<tr><th scope=row>36</th><td>1   </td><td>1   </td><td>1   </td><td>1   </td><td>1   </td><td>1   </td><td>0   </td><td>0   </td><td>TRUE</td><td>2   </td></tr>\n",
       "</tbody>\n",
       "</table>\n"
      ],
      "text/latex": [
       "\\begin{tabular}{r|llllllllll}\n",
       "  & Home & Products & Search & Prod\\_A & Prod\\_B & Prod\\_C & Cart & Purchase & train & k3.cluster\\\\\n",
       "\\hline\n",
       "\t5 & 1    & 0    & 1    & 1    & 1    & 0    & 1    & 1    & TRUE & 2   \\\\\n",
       "\t11 & 1    & 0    & 1    & 1    & 1    & 1    & 1    & 0    & TRUE & 2   \\\\\n",
       "\t15 & 1    & 0    & 1    & 1    & 1    & 1    & 0    & 0    & TRUE & 2   \\\\\n",
       "\t36 & 1    & 1    & 1    & 1    & 1    & 1    & 0    & 0    & TRUE & 2   \\\\\n",
       "\\end{tabular}\n"
      ],
      "text/plain": [
       "   Home Products Search Prod_A Prod_B Prod_C Cart Purchase train k3.cluster\n",
       "5  1    0        1      1      1      0      1    1        TRUE  2         \n",
       "11 1    0        1      1      1      1      1    0        TRUE  2         \n",
       "15 1    0        1      1      1      1      0    0        TRUE  2         \n",
       "36 1    1        1      1      1      1      0    0        TRUE  2         "
      ]
     },
     "metadata": {},
     "output_type": "display_data"
    },
    {
     "data": {
      "text/html": [
       "'Prod_C Observations of Q1 Path: 3 of 6'"
      ],
      "text/latex": [
       "'Prod\\_C Observations of Q1 Path: 3 of 6'"
      ],
      "text/markdown": [
       "'Prod_C Observations of Q1 Path: 3 of 6'"
      ],
      "text/plain": [
       "[1] \"Prod_C Observations of Q1 Path: 3 of 6\""
      ]
     },
     "metadata": {},
     "output_type": "display_data"
    },
    {
     "data": {
      "text/html": [
       "<table>\n",
       "<thead><tr><th></th><th scope=col>Home</th><th scope=col>Products</th><th scope=col>Search</th><th scope=col>Prod_A</th><th scope=col>Prod_B</th><th scope=col>Prod_C</th><th scope=col>Cart</th><th scope=col>Purchase</th><th scope=col>train</th><th scope=col>k3.cluster</th></tr></thead>\n",
       "<tbody>\n",
       "\t<tr><th scope=row>11</th><td>1   </td><td>0   </td><td>1   </td><td>1   </td><td>1   </td><td>1   </td><td>1   </td><td>0   </td><td>TRUE</td><td>2   </td></tr>\n",
       "\t<tr><th scope=row>15</th><td>1   </td><td>0   </td><td>1   </td><td>1   </td><td>1   </td><td>1   </td><td>0   </td><td>0   </td><td>TRUE</td><td>2   </td></tr>\n",
       "\t<tr><th scope=row>36</th><td>1   </td><td>1   </td><td>1   </td><td>1   </td><td>1   </td><td>1   </td><td>0   </td><td>0   </td><td>TRUE</td><td>2   </td></tr>\n",
       "</tbody>\n",
       "</table>\n"
      ],
      "text/latex": [
       "\\begin{tabular}{r|llllllllll}\n",
       "  & Home & Products & Search & Prod\\_A & Prod\\_B & Prod\\_C & Cart & Purchase & train & k3.cluster\\\\\n",
       "\\hline\n",
       "\t11 & 1    & 0    & 1    & 1    & 1    & 1    & 1    & 0    & TRUE & 2   \\\\\n",
       "\t15 & 1    & 0    & 1    & 1    & 1    & 1    & 0    & 0    & TRUE & 2   \\\\\n",
       "\t36 & 1    & 1    & 1    & 1    & 1    & 1    & 0    & 0    & TRUE & 2   \\\\\n",
       "\\end{tabular}\n"
      ],
      "text/plain": [
       "   Home Products Search Prod_A Prod_B Prod_C Cart Purchase train k3.cluster\n",
       "11 1    0        1      1      1      1      1    0        TRUE  2         \n",
       "15 1    0        1      1      1      1      0    0        TRUE  2         \n",
       "36 1    1        1      1      1      1      0    0        TRUE  2         "
      ]
     },
     "metadata": {},
     "output_type": "display_data"
    }
   ],
   "source": [
    "df.c2 = sessions.df[which(sessions.df$k3.cluster == 2),]\n",
    "nrow(df.c2)\n",
    "#head(df.c2)\n",
    "q1.c2 = df.c2[which(df.c2$Home == 1 & df.c2$Search == 1 & df.c2$Prod_B == 1),]\n",
    "q1.c2.percent = round(nrow(q1.c2)/nrow(df.c2)*100,2)\n",
    "paste0(\"Q1 Path Observations:\",nrow(q1.c2),\" of \",nrow(df.c2), \" Q1 Path Frequencey: \",q1.c2.percent, '%')\n",
    "q1.c2\n",
    "\n",
    "# What Product next, Prod_A?\n",
    "q1.c2.prod_a = q1.c2[which(q1.c2$Prod_A == 1),]\n",
    "paste0(\"Prod_A Observations of Q1 Path: \",nrow(q1.c2.prod_a),' of ', nrow(q1.c2))\n",
    "q1.c2.prod_a\n",
    "\n",
    "# What Product next, Prod_C?\n",
    "q1.c2.prod_c = q1.c2[which(q1.c2$Prod_C == 1),]\n",
    "paste0(\"Prod_C Observations of Q1 Path: \",nrow(q1.c2.prod_c),' of ', nrow(q1.c2))\n",
    "q1.c2.prod_c"
   ]
  },
  {
   "cell_type": "code",
   "execution_count": 86,
   "metadata": {
    "collapsed": false
   },
   "outputs": [
    {
     "data": {
      "text/html": [
       "31"
      ],
      "text/latex": [
       "31"
      ],
      "text/markdown": [
       "31"
      ],
      "text/plain": [
       "[1] 31"
      ]
     },
     "metadata": {},
     "output_type": "display_data"
    },
    {
     "data": {
      "text/html": [
       "'Q1 Path Observations:1 of 31 Q1 Path Frequencey: 3.23%'"
      ],
      "text/latex": [
       "'Q1 Path Observations:1 of 31 Q1 Path Frequencey: 3.23\\%'"
      ],
      "text/markdown": [
       "'Q1 Path Observations:1 of 31 Q1 Path Frequencey: 3.23%'"
      ],
      "text/plain": [
       "[1] \"Q1 Path Observations:1 of 31 Q1 Path Frequencey: 3.23%\""
      ]
     },
     "metadata": {},
     "output_type": "display_data"
    },
    {
     "data": {
      "text/html": [
       "<table>\n",
       "<thead><tr><th></th><th scope=col>Home</th><th scope=col>Products</th><th scope=col>Search</th><th scope=col>Prod_A</th><th scope=col>Prod_B</th><th scope=col>Prod_C</th><th scope=col>Cart</th><th scope=col>Purchase</th><th scope=col>train</th><th scope=col>k3.cluster</th></tr></thead>\n",
       "<tbody>\n",
       "\t<tr><th scope=row>26</th><td>1   </td><td>1   </td><td>1   </td><td>0   </td><td>1   </td><td>1   </td><td>0   </td><td>0   </td><td>TRUE</td><td>3   </td></tr>\n",
       "</tbody>\n",
       "</table>\n"
      ],
      "text/latex": [
       "\\begin{tabular}{r|llllllllll}\n",
       "  & Home & Products & Search & Prod\\_A & Prod\\_B & Prod\\_C & Cart & Purchase & train & k3.cluster\\\\\n",
       "\\hline\n",
       "\t26 & 1    & 1    & 1    & 0    & 1    & 1    & 0    & 0    & TRUE & 3   \\\\\n",
       "\\end{tabular}\n"
      ],
      "text/plain": [
       "   Home Products Search Prod_A Prod_B Prod_C Cart Purchase train k3.cluster\n",
       "26 1    1        1      0      1      1      0    0        TRUE  3         "
      ]
     },
     "metadata": {},
     "output_type": "display_data"
    },
    {
     "data": {
      "text/html": [
       "'Prod_A Observations of Q1 Path: 0 of 1'"
      ],
      "text/latex": [
       "'Prod\\_A Observations of Q1 Path: 0 of 1'"
      ],
      "text/markdown": [
       "'Prod_A Observations of Q1 Path: 0 of 1'"
      ],
      "text/plain": [
       "[1] \"Prod_A Observations of Q1 Path: 0 of 1\""
      ]
     },
     "metadata": {},
     "output_type": "display_data"
    },
    {
     "data": {
      "text/html": [
       "<table>\n",
       "<thead><tr><th scope=col>Home</th><th scope=col>Products</th><th scope=col>Search</th><th scope=col>Prod_A</th><th scope=col>Prod_B</th><th scope=col>Prod_C</th><th scope=col>Cart</th><th scope=col>Purchase</th><th scope=col>train</th><th scope=col>k3.cluster</th></tr></thead>\n",
       "<tbody>\n",
       "</tbody>\n",
       "</table>\n"
      ],
      "text/latex": [
       "\\begin{tabular}{r|llllllllll}\n",
       " Home & Products & Search & Prod\\_A & Prod\\_B & Prod\\_C & Cart & Purchase & train & k3.cluster\\\\\n",
       "\\hline\n",
       "\\end{tabular}\n"
      ],
      "text/plain": [
       "     Home Products Search Prod_A Prod_B Prod_C Cart Purchase train k3.cluster"
      ]
     },
     "metadata": {},
     "output_type": "display_data"
    },
    {
     "data": {
      "text/html": [
       "'Prod_C Observations of Q1 Path: 1 of 1'"
      ],
      "text/latex": [
       "'Prod\\_C Observations of Q1 Path: 1 of 1'"
      ],
      "text/markdown": [
       "'Prod_C Observations of Q1 Path: 1 of 1'"
      ],
      "text/plain": [
       "[1] \"Prod_C Observations of Q1 Path: 1 of 1\""
      ]
     },
     "metadata": {},
     "output_type": "display_data"
    },
    {
     "data": {
      "text/html": [
       "<table>\n",
       "<thead><tr><th></th><th scope=col>Home</th><th scope=col>Products</th><th scope=col>Search</th><th scope=col>Prod_A</th><th scope=col>Prod_B</th><th scope=col>Prod_C</th><th scope=col>Cart</th><th scope=col>Purchase</th><th scope=col>train</th><th scope=col>k3.cluster</th></tr></thead>\n",
       "<tbody>\n",
       "\t<tr><th scope=row>26</th><td>1   </td><td>1   </td><td>1   </td><td>0   </td><td>1   </td><td>1   </td><td>0   </td><td>0   </td><td>TRUE</td><td>3   </td></tr>\n",
       "</tbody>\n",
       "</table>\n"
      ],
      "text/latex": [
       "\\begin{tabular}{r|llllllllll}\n",
       "  & Home & Products & Search & Prod\\_A & Prod\\_B & Prod\\_C & Cart & Purchase & train & k3.cluster\\\\\n",
       "\\hline\n",
       "\t26 & 1    & 1    & 1    & 0    & 1    & 1    & 0    & 0    & TRUE & 3   \\\\\n",
       "\\end{tabular}\n"
      ],
      "text/plain": [
       "   Home Products Search Prod_A Prod_B Prod_C Cart Purchase train k3.cluster\n",
       "26 1    1        1      0      1      1      0    0        TRUE  3         "
      ]
     },
     "metadata": {},
     "output_type": "display_data"
    }
   ],
   "source": [
    "df.c3 = sessions.df[which(sessions.df$k3.cluster == 3),]\n",
    "nrow(df.c3)\n",
    "#head(df.c3)\n",
    "q1.c3 = df.c3[which(df.c3$Home == 1 & df.c3$Search == 1 & df.c3$Prod_B == 1),]\n",
    "q1.c3.percent = round(nrow(q1.c3)/nrow(df.c3)*100,2)\n",
    "paste0(\"Q1 Path Observations:\",nrow(q1.c3),\" of \",nrow(df.c3), \" Q1 Path Frequencey: \",q1.c3.percent, '')\n",
    "q1.c3\n",
    "\n",
    "# What Product next, Prod_A?\n",
    "q1.c3.prod_a = q1.c3[which(q1.c3$Prod_A == 1),]\n",
    "paste0(\"Prod_A Observations of Q1 Path: \",nrow(q1.c3.prod_a),' of ', nrow(q1.c3))\n",
    "q1.c3.prod_a\n",
    "\n",
    "# What Product next, Prod_C?\n",
    "q1.c3.prod_c = q1.c3[which(q1.c3$Prod_C == 1),]\n",
    "paste0(\"Prod_C Observations of Q1 Path: \",nrow(q1.c3.prod_c),' of ', nrow(q1.c3))\n",
    "q1.c3.prod_c\n"
   ]
  },
  {
   "cell_type": "markdown",
   "metadata": {},
   "source": [
    "# Path 2 - Product => Prod_C"
   ]
  },
  {
   "cell_type": "code",
   "execution_count": 95,
   "metadata": {
    "collapsed": false
   },
   "outputs": [
    {
     "data": {
      "text/html": [
       "'Q1.b Path Observations:7 of 24 Q1.b Path Frequencey: 29.17%'"
      ],
      "text/latex": [
       "'Q1.b Path Observations:7 of 24 Q1.b Path Frequencey: 29.17\\%'"
      ],
      "text/markdown": [
       "'Q1.b Path Observations:7 of 24 Q1.b Path Frequencey: 29.17%'"
      ],
      "text/plain": [
       "[1] \"Q1.b Path Observations:7 of 24 Q1.b Path Frequencey: 29.17%\""
      ]
     },
     "metadata": {},
     "output_type": "display_data"
    },
    {
     "data": {
      "text/html": [
       "<table>\n",
       "<thead><tr><th></th><th scope=col>Home</th><th scope=col>Products</th><th scope=col>Search</th><th scope=col>Prod_A</th><th scope=col>Prod_B</th><th scope=col>Prod_C</th><th scope=col>Cart</th><th scope=col>Purchase</th><th scope=col>train</th><th scope=col>k3.cluster</th></tr></thead>\n",
       "<tbody>\n",
       "\t<tr><th scope=row>21</th><td>1    </td><td>1    </td><td>1    </td><td>0    </td><td>0    </td><td>1    </td><td>1    </td><td>1    </td><td>FALSE</td><td>1    </td></tr>\n",
       "\t<tr><th scope=row>25</th><td>1    </td><td>1    </td><td>0    </td><td>1    </td><td>1    </td><td>1    </td><td>1    </td><td>0    </td><td>FALSE</td><td>1    </td></tr>\n",
       "\t<tr><th scope=row>27</th><td>1    </td><td>1    </td><td>0    </td><td>1    </td><td>1    </td><td>1    </td><td>1    </td><td>0    </td><td>FALSE</td><td>1    </td></tr>\n",
       "\t<tr><th scope=row>29</th><td>1    </td><td>1    </td><td>1    </td><td>1    </td><td>1    </td><td>1    </td><td>0    </td><td>0    </td><td>FALSE</td><td>1    </td></tr>\n",
       "\t<tr><th scope=row>32</th><td>1    </td><td>1    </td><td>0    </td><td>1    </td><td>0    </td><td>1    </td><td>0    </td><td>0    </td><td>FALSE</td><td>1    </td></tr>\n",
       "\t<tr><th scope=row>34</th><td>1    </td><td>1    </td><td>1    </td><td>0    </td><td>1    </td><td>1    </td><td>0    </td><td>0    </td><td>FALSE</td><td>1    </td></tr>\n",
       "\t<tr><th scope=row>51</th><td>0    </td><td>1    </td><td>1    </td><td>1    </td><td>0    </td><td>1    </td><td>1    </td><td>1    </td><td>FALSE</td><td>1    </td></tr>\n",
       "</tbody>\n",
       "</table>\n"
      ],
      "text/latex": [
       "\\begin{tabular}{r|llllllllll}\n",
       "  & Home & Products & Search & Prod\\_A & Prod\\_B & Prod\\_C & Cart & Purchase & train & k3.cluster\\\\\n",
       "\\hline\n",
       "\t21 & 1     & 1     & 1     & 0     & 0     & 1     & 1     & 1     & FALSE & 1    \\\\\n",
       "\t25 & 1     & 1     & 0     & 1     & 1     & 1     & 1     & 0     & FALSE & 1    \\\\\n",
       "\t27 & 1     & 1     & 0     & 1     & 1     & 1     & 1     & 0     & FALSE & 1    \\\\\n",
       "\t29 & 1     & 1     & 1     & 1     & 1     & 1     & 0     & 0     & FALSE & 1    \\\\\n",
       "\t32 & 1     & 1     & 0     & 1     & 0     & 1     & 0     & 0     & FALSE & 1    \\\\\n",
       "\t34 & 1     & 1     & 1     & 0     & 1     & 1     & 0     & 0     & FALSE & 1    \\\\\n",
       "\t51 & 0     & 1     & 1     & 1     & 0     & 1     & 1     & 1     & FALSE & 1    \\\\\n",
       "\\end{tabular}\n"
      ],
      "text/plain": [
       "   Home Products Search Prod_A Prod_B Prod_C Cart Purchase train k3.cluster\n",
       "21 1    1        1      0      0      1      1    1        FALSE 1         \n",
       "25 1    1        0      1      1      1      1    0        FALSE 1         \n",
       "27 1    1        0      1      1      1      1    0        FALSE 1         \n",
       "29 1    1        1      1      1      1      0    0        FALSE 1         \n",
       "32 1    1        0      1      0      1      0    0        FALSE 1         \n",
       "34 1    1        1      0      1      1      0    0        FALSE 1         \n",
       "51 0    1        1      1      0      1      1    1        FALSE 1         "
      ]
     },
     "metadata": {},
     "output_type": "display_data"
    },
    {
     "data": {
      "text/html": [
       "'Prod_A Observations of Q1.b Path: 5 of 7'"
      ],
      "text/latex": [
       "'Prod\\_A Observations of Q1.b Path: 5 of 7'"
      ],
      "text/markdown": [
       "'Prod_A Observations of Q1.b Path: 5 of 7'"
      ],
      "text/plain": [
       "[1] \"Prod_A Observations of Q1.b Path: 5 of 7\""
      ]
     },
     "metadata": {},
     "output_type": "display_data"
    },
    {
     "data": {
      "text/html": [
       "<table>\n",
       "<thead><tr><th></th><th scope=col>Home</th><th scope=col>Products</th><th scope=col>Search</th><th scope=col>Prod_A</th><th scope=col>Prod_B</th><th scope=col>Prod_C</th><th scope=col>Cart</th><th scope=col>Purchase</th><th scope=col>train</th><th scope=col>k3.cluster</th></tr></thead>\n",
       "<tbody>\n",
       "\t<tr><th scope=row>25</th><td>1    </td><td>1    </td><td>0    </td><td>1    </td><td>1    </td><td>1    </td><td>1    </td><td>0    </td><td>FALSE</td><td>1    </td></tr>\n",
       "\t<tr><th scope=row>27</th><td>1    </td><td>1    </td><td>0    </td><td>1    </td><td>1    </td><td>1    </td><td>1    </td><td>0    </td><td>FALSE</td><td>1    </td></tr>\n",
       "\t<tr><th scope=row>29</th><td>1    </td><td>1    </td><td>1    </td><td>1    </td><td>1    </td><td>1    </td><td>0    </td><td>0    </td><td>FALSE</td><td>1    </td></tr>\n",
       "\t<tr><th scope=row>32</th><td>1    </td><td>1    </td><td>0    </td><td>1    </td><td>0    </td><td>1    </td><td>0    </td><td>0    </td><td>FALSE</td><td>1    </td></tr>\n",
       "\t<tr><th scope=row>51</th><td>0    </td><td>1    </td><td>1    </td><td>1    </td><td>0    </td><td>1    </td><td>1    </td><td>1    </td><td>FALSE</td><td>1    </td></tr>\n",
       "</tbody>\n",
       "</table>\n"
      ],
      "text/latex": [
       "\\begin{tabular}{r|llllllllll}\n",
       "  & Home & Products & Search & Prod\\_A & Prod\\_B & Prod\\_C & Cart & Purchase & train & k3.cluster\\\\\n",
       "\\hline\n",
       "\t25 & 1     & 1     & 0     & 1     & 1     & 1     & 1     & 0     & FALSE & 1    \\\\\n",
       "\t27 & 1     & 1     & 0     & 1     & 1     & 1     & 1     & 0     & FALSE & 1    \\\\\n",
       "\t29 & 1     & 1     & 1     & 1     & 1     & 1     & 0     & 0     & FALSE & 1    \\\\\n",
       "\t32 & 1     & 1     & 0     & 1     & 0     & 1     & 0     & 0     & FALSE & 1    \\\\\n",
       "\t51 & 0     & 1     & 1     & 1     & 0     & 1     & 1     & 1     & FALSE & 1    \\\\\n",
       "\\end{tabular}\n"
      ],
      "text/plain": [
       "   Home Products Search Prod_A Prod_B Prod_C Cart Purchase train k3.cluster\n",
       "25 1    1        0      1      1      1      1    0        FALSE 1         \n",
       "27 1    1        0      1      1      1      1    0        FALSE 1         \n",
       "29 1    1        1      1      1      1      0    0        FALSE 1         \n",
       "32 1    1        0      1      0      1      0    0        FALSE 1         \n",
       "51 0    1        1      1      0      1      1    1        FALSE 1         "
      ]
     },
     "metadata": {},
     "output_type": "display_data"
    },
    {
     "data": {
      "text/html": [
       "'Prod_B Observations of Q1.b Path: 4 of 7'"
      ],
      "text/latex": [
       "'Prod\\_B Observations of Q1.b Path: 4 of 7'"
      ],
      "text/markdown": [
       "'Prod_B Observations of Q1.b Path: 4 of 7'"
      ],
      "text/plain": [
       "[1] \"Prod_B Observations of Q1.b Path: 4 of 7\""
      ]
     },
     "metadata": {},
     "output_type": "display_data"
    },
    {
     "data": {
      "text/html": [
       "<table>\n",
       "<thead><tr><th></th><th scope=col>Home</th><th scope=col>Products</th><th scope=col>Search</th><th scope=col>Prod_A</th><th scope=col>Prod_B</th><th scope=col>Prod_C</th><th scope=col>Cart</th><th scope=col>Purchase</th><th scope=col>train</th><th scope=col>k3.cluster</th></tr></thead>\n",
       "<tbody>\n",
       "\t<tr><th scope=row>25</th><td>1    </td><td>1    </td><td>0    </td><td>1    </td><td>1    </td><td>1    </td><td>1    </td><td>0    </td><td>FALSE</td><td>1    </td></tr>\n",
       "\t<tr><th scope=row>27</th><td>1    </td><td>1    </td><td>0    </td><td>1    </td><td>1    </td><td>1    </td><td>1    </td><td>0    </td><td>FALSE</td><td>1    </td></tr>\n",
       "\t<tr><th scope=row>29</th><td>1    </td><td>1    </td><td>1    </td><td>1    </td><td>1    </td><td>1    </td><td>0    </td><td>0    </td><td>FALSE</td><td>1    </td></tr>\n",
       "\t<tr><th scope=row>34</th><td>1    </td><td>1    </td><td>1    </td><td>0    </td><td>1    </td><td>1    </td><td>0    </td><td>0    </td><td>FALSE</td><td>1    </td></tr>\n",
       "</tbody>\n",
       "</table>\n"
      ],
      "text/latex": [
       "\\begin{tabular}{r|llllllllll}\n",
       "  & Home & Products & Search & Prod\\_A & Prod\\_B & Prod\\_C & Cart & Purchase & train & k3.cluster\\\\\n",
       "\\hline\n",
       "\t25 & 1     & 1     & 0     & 1     & 1     & 1     & 1     & 0     & FALSE & 1    \\\\\n",
       "\t27 & 1     & 1     & 0     & 1     & 1     & 1     & 1     & 0     & FALSE & 1    \\\\\n",
       "\t29 & 1     & 1     & 1     & 1     & 1     & 1     & 0     & 0     & FALSE & 1    \\\\\n",
       "\t34 & 1     & 1     & 1     & 0     & 1     & 1     & 0     & 0     & FALSE & 1    \\\\\n",
       "\\end{tabular}\n"
      ],
      "text/plain": [
       "   Home Products Search Prod_A Prod_B Prod_C Cart Purchase train k3.cluster\n",
       "25 1    1        0      1      1      1      1    0        FALSE 1         \n",
       "27 1    1        0      1      1      1      1    0        FALSE 1         \n",
       "29 1    1        1      1      1      1      0    0        FALSE 1         \n",
       "34 1    1        1      0      1      1      0    0        FALSE 1         "
      ]
     },
     "metadata": {},
     "output_type": "display_data"
    }
   ],
   "source": [
    "df.c1.p2 = sessions.df[which(sessions.df$k3.cluster == 1),]\n",
    "q1.c1.p2 = df.c1.p2[which(df.c1.p2$Product == 1 & df.c1.p2$Prod_C == 1),]\n",
    "q1.c1.p2.percent = round(nrow(q1.c1.p2)/nrow(df.c1.p2)*100,2)\n",
    "paste0(\"Q1.b Path Observations:\",nrow(q1.c1.p2),\" of \",nrow(df.c1.p2), \" Q1.b Path Frequencey: \",q1.c1.p2.percent, '%')\n",
    "q1.c1.p2\n",
    "\n",
    "# What Product next, Prod_A?\n",
    "q1.c1.p2.prod_a = q1.c1.p2[which(q1.c1.p2$Prod_A == 1),]\n",
    "paste0(\"Prod_A Observations of Q1.b Path: \",nrow(q1.c1.p2.prod_a),' of ', nrow(q1.c1.p2))\n",
    "q1.c1.p2.prod_a\n",
    "\n",
    "# What Product next, Prod_C?\n",
    "q1.c1.p2.prod_b = q1.c1.p2[which(q1.c1.p2$Prod_B == 1),]\n",
    "paste0(\"Prod_B Observations of Q1.b Path: \",nrow(q1.c1.p2.prod_b),' of ', nrow(q1.c1.p2))\n",
    "q1.c1.p2.prod_b"
   ]
  }
 ],
 "metadata": {
  "anaconda-cloud": {},
  "kernelspec": {
   "display_name": "R",
   "language": "R",
   "name": "ir"
  },
  "language_info": {
   "codemirror_mode": "r",
   "file_extension": ".r",
   "mimetype": "text/x-r-source",
   "name": "R",
   "pygments_lexer": "r",
   "version": "3.3.2"
  }
 },
 "nbformat": 4,
 "nbformat_minor": 0
}
