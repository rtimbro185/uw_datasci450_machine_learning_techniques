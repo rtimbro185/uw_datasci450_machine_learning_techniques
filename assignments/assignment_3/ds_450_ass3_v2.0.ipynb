{
 "cells": [
  {
   "cell_type": "markdown",
   "metadata": {
    "collapsed": true
   },
   "source": [
    "# Ryan Timbrook\n",
    "## Data Science 450, Spring 2017\n",
    "## Date: 05/10/2017\n",
    "## Assignment 3\n",
    "\n",
    "\n",
    "# Use K-means clustering algorithm to cluster user sessions of an online shopping site into segments.\n",
    "\n",
    "Try different clustering runs with various numbers of clusters (e.g., between 4 and 8), and select the result set(s) that seem to best answer as many of the following questions as possible\n",
    "\n",
    "## Question 1:\n",
    "If a new user is observed to access the following pages: Home => Search => Prod_B\n",
    "### Q1.a: According to your clusters, what other product should be recommended to this user?\n",
    "### Q1.b: What if the new user has accessed the following sequence instead: Products => Prod_C?\n",
    "\n",
    "\n",
    "## Question 2: \n",
    "### Can clustering help us identify:\n",
    "*\tcasual browsers (\"window shoppers\")\n",
    "*\tfocused browsers (those who seem to know what products they are looking for)\n",
    "*\tsearchers (those using the search function to ﬁnd items they want)? \n",
    "### If so, are any of these groups show a higher or lower propensity to make a purchase?\n"
   ]
  },
  {
   "cell_type": "code",
   "execution_count": 1,
   "metadata": {
    "collapsed": false
   },
   "outputs": [
    {
     "name": "stdout",
     "output_type": "stream",
     "text": [
      "\f"
     ]
    }
   ],
   "source": [
    "# Clear objects from Memory\n",
    "rm(list=ls())\n",
    "# Clear Console:\n",
    "cat(\"\\014\")\n",
    "\n",
    "# Read Data Source\n",
    "read.data = function(file=file){\n",
    "  read.csv(file,header = TRUE,stringsAsFactors = FALSE)\n",
    "}\n",
    "sessions.df0 = read.data('Sessions.csv')"
   ]
  },
  {
   "cell_type": "markdown",
   "metadata": {},
   "source": [
    "# K-means Partitioning\n",
    "A plot of the within groups sum of squares by number of clusters extracted can help determine the appropriate number of clusters\n",
    "\n",
    "Credits: http://www.statmethods.net/advstats/cluster.html"
   ]
  },
  {
   "cell_type": "markdown",
   "metadata": {},
   "source": [
    "# K-means Cluster Analysis\n",
    "The nstart argument teslls kmeans to try that many random starts and keep the best.\n",
    "With 20 or 25 random starts, you'll generally find the overall best solution.\n",
    "Credit: R12.KMC"
   ]
  },
  {
   "cell_type": "code",
   "execution_count": 6,
   "metadata": {
    "collapsed": false
   },
   "outputs": [],
   "source": [
    "#plot(sessions.df,pch=sessions.4m1$cluster, col=sessions.4m1$cluster)\n",
    "#points(sessions.df,pch=sessions.4m2$cluster+3, col=sessions.4m2$cluster)"
   ]
  }
 ],
 "metadata": {
  "anaconda-cloud": {},
  "kernelspec": {
   "display_name": "R",
   "language": "R",
   "name": "ir"
  },
  "language_info": {
   "codemirror_mode": "r",
   "file_extension": ".r",
   "mimetype": "text/x-r-source",
   "name": "R",
   "pygments_lexer": "r",
   "version": "3.3.2"
  }
 },
 "nbformat": 4,
 "nbformat_minor": 0
}
